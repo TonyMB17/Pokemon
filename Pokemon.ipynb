{
  "nbformat": 4,
  "nbformat_minor": 0,
  "metadata": {
    "colab": {
      "name": "Pokemon.ipynb",
      "provenance": [],
      "include_colab_link": true
    },
    "kernelspec": {
      "name": "python3",
      "display_name": "Python 3"
    },
    "language_info": {
      "name": "python"
    }
  },
  "cells": [
    {
      "cell_type": "markdown",
      "metadata": {
        "id": "view-in-github",
        "colab_type": "text"
      },
      "source": [
        "<a href=\"https://colab.research.google.com/github/invoryan/Pokemon/blob/ramab/Pokemon.ipynb\" target=\"_parent\"><img src=\"https://colab.research.google.com/assets/colab-badge.svg\" alt=\"Open In Colab\"/></a>"
      ]
    },
    {
      "cell_type": "code",
      "execution_count": null,
      "metadata": {
        "id": "xNF2JTdD1LUm",
        "outputId": "857ef12d-1ce4-485a-bb63-d4d910258650",
        "colab": {
          "base_uri": "https://localhost:8080/"
        }
      },
      "outputs": [
        {
          "output_type": "stream",
          "name": "stdout",
          "text": [
            "hola mundo prueba\n"
          ]
        }
      ],
      "source": [
        "print('hola mundo prueba')"
      ]
    },
    {
      "cell_type": "code",
      "source": [
        "print('2')"
      ],
      "metadata": {
        "id": "qMjIaeS48TgB",
        "outputId": "892aa01a-40f7-497c-8d99-8e3e4579e7a8",
        "colab": {
          "base_uri": "https://localhost:8080/"
        }
      },
      "execution_count": null,
      "outputs": [
        {
          "output_type": "stream",
          "name": "stdout",
          "text": [
            "2\n"
          ]
        }
      ]
    },
    {
      "cell_type": "code",
      "source": [
        "print('3')"
      ],
      "metadata": {
        "id": "4cIvlXPt9oR5",
        "outputId": "fb387085-2031-47c0-fa62-c4075163c523",
        "colab": {
          "base_uri": "https://localhost:8080/"
        }
      },
      "execution_count": null,
      "outputs": [
        {
          "output_type": "stream",
          "name": "stdout",
          "text": [
            "3\n"
          ]
        }
      ]
    },
    {
      "cell_type": "code",
      "source": [
        "print('bryan')"
      ],
      "metadata": {
        "id": "KxEodu4bATDu"
      },
      "execution_count": null,
      "outputs": []
    }
  ]
}