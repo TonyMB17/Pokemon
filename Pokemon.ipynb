{
  "nbformat": 4,
  "nbformat_minor": 0,
  "metadata": {
    "colab": {
      "name": "Pokemon.ipynb",
      "provenance": [],
      "include_colab_link": true
    },
    "kernelspec": {
      "name": "python3",
      "display_name": "Python 3"
    },
    "language_info": {
      "name": "python"
    }
  },
  "cells": [
    {
      "cell_type": "markdown",
      "metadata": {
        "id": "view-in-github",
        "colab_type": "text"
      },
      "source": [
        "<a href=\"https://colab.research.google.com/github/TonyMB17/Pokemon/blob/main/Pokemon.ipynb\" target=\"_parent\"><img src=\"https://colab.research.google.com/assets/colab-badge.svg\" alt=\"Open In Colab\"/></a>"
      ]
    },
    {
      "cell_type": "code",
      "source": [
        "import pandas as pd #libreria especializada en el manejo y análisis de estructuras de datos.\n",
        "pokemon = pd.read_csv('pokemon.csv')"
      ],
      "metadata": {
        "id": "oyqXHqgNeMmZ"
      },
      "execution_count": 165,
      "outputs": []
    },
    {
      "cell_type": "code",
      "source": [
        "pokemon.head()"
      ],
      "metadata": {
        "id": "H20W9KA0fVxF",
        "outputId": "5047dae6-69c2-4b62-8227-90b60b14ae46",
        "colab": {
          "base_uri": "https://localhost:8080/",
          "height": 206
        }
      },
      "execution_count": 166,
      "outputs": [
        {
          "output_type": "execute_result",
          "data": {
            "text/plain": [
              "   #           Name Type 1  Type 2  HP  Attack  Defense  Sp. Atk  Sp. Def  \\\n",
              "0  1      Bulbasaur  Grass  Poison  45      49       49       65       65   \n",
              "1  2        Ivysaur  Grass  Poison  60      62       63       80       80   \n",
              "2  3       Venusaur  Grass  Poison  80      82       83      100      100   \n",
              "3  4  Mega Venusaur  Grass  Poison  80     100      123      122      120   \n",
              "4  5     Charmander   Fire     NaN  39      52       43       60       50   \n",
              "\n",
              "   Speed  Generation  Legendary  \n",
              "0     45           1      False  \n",
              "1     60           1      False  \n",
              "2     80           1      False  \n",
              "3     80           1      False  \n",
              "4     65           1      False  "
            ],
            "text/html": [
              "\n",
              "  <div id=\"df-0f789294-a1ef-4b72-930c-cb5134764947\">\n",
              "    <div class=\"colab-df-container\">\n",
              "      <div>\n",
              "<style scoped>\n",
              "    .dataframe tbody tr th:only-of-type {\n",
              "        vertical-align: middle;\n",
              "    }\n",
              "\n",
              "    .dataframe tbody tr th {\n",
              "        vertical-align: top;\n",
              "    }\n",
              "\n",
              "    .dataframe thead th {\n",
              "        text-align: right;\n",
              "    }\n",
              "</style>\n",
              "<table border=\"1\" class=\"dataframe\">\n",
              "  <thead>\n",
              "    <tr style=\"text-align: right;\">\n",
              "      <th></th>\n",
              "      <th>#</th>\n",
              "      <th>Name</th>\n",
              "      <th>Type 1</th>\n",
              "      <th>Type 2</th>\n",
              "      <th>HP</th>\n",
              "      <th>Attack</th>\n",
              "      <th>Defense</th>\n",
              "      <th>Sp. Atk</th>\n",
              "      <th>Sp. Def</th>\n",
              "      <th>Speed</th>\n",
              "      <th>Generation</th>\n",
              "      <th>Legendary</th>\n",
              "    </tr>\n",
              "  </thead>\n",
              "  <tbody>\n",
              "    <tr>\n",
              "      <th>0</th>\n",
              "      <td>1</td>\n",
              "      <td>Bulbasaur</td>\n",
              "      <td>Grass</td>\n",
              "      <td>Poison</td>\n",
              "      <td>45</td>\n",
              "      <td>49</td>\n",
              "      <td>49</td>\n",
              "      <td>65</td>\n",
              "      <td>65</td>\n",
              "      <td>45</td>\n",
              "      <td>1</td>\n",
              "      <td>False</td>\n",
              "    </tr>\n",
              "    <tr>\n",
              "      <th>1</th>\n",
              "      <td>2</td>\n",
              "      <td>Ivysaur</td>\n",
              "      <td>Grass</td>\n",
              "      <td>Poison</td>\n",
              "      <td>60</td>\n",
              "      <td>62</td>\n",
              "      <td>63</td>\n",
              "      <td>80</td>\n",
              "      <td>80</td>\n",
              "      <td>60</td>\n",
              "      <td>1</td>\n",
              "      <td>False</td>\n",
              "    </tr>\n",
              "    <tr>\n",
              "      <th>2</th>\n",
              "      <td>3</td>\n",
              "      <td>Venusaur</td>\n",
              "      <td>Grass</td>\n",
              "      <td>Poison</td>\n",
              "      <td>80</td>\n",
              "      <td>82</td>\n",
              "      <td>83</td>\n",
              "      <td>100</td>\n",
              "      <td>100</td>\n",
              "      <td>80</td>\n",
              "      <td>1</td>\n",
              "      <td>False</td>\n",
              "    </tr>\n",
              "    <tr>\n",
              "      <th>3</th>\n",
              "      <td>4</td>\n",
              "      <td>Mega Venusaur</td>\n",
              "      <td>Grass</td>\n",
              "      <td>Poison</td>\n",
              "      <td>80</td>\n",
              "      <td>100</td>\n",
              "      <td>123</td>\n",
              "      <td>122</td>\n",
              "      <td>120</td>\n",
              "      <td>80</td>\n",
              "      <td>1</td>\n",
              "      <td>False</td>\n",
              "    </tr>\n",
              "    <tr>\n",
              "      <th>4</th>\n",
              "      <td>5</td>\n",
              "      <td>Charmander</td>\n",
              "      <td>Fire</td>\n",
              "      <td>NaN</td>\n",
              "      <td>39</td>\n",
              "      <td>52</td>\n",
              "      <td>43</td>\n",
              "      <td>60</td>\n",
              "      <td>50</td>\n",
              "      <td>65</td>\n",
              "      <td>1</td>\n",
              "      <td>False</td>\n",
              "    </tr>\n",
              "  </tbody>\n",
              "</table>\n",
              "</div>\n",
              "      <button class=\"colab-df-convert\" onclick=\"convertToInteractive('df-0f789294-a1ef-4b72-930c-cb5134764947')\"\n",
              "              title=\"Convert this dataframe to an interactive table.\"\n",
              "              style=\"display:none;\">\n",
              "        \n",
              "  <svg xmlns=\"http://www.w3.org/2000/svg\" height=\"24px\"viewBox=\"0 0 24 24\"\n",
              "       width=\"24px\">\n",
              "    <path d=\"M0 0h24v24H0V0z\" fill=\"none\"/>\n",
              "    <path d=\"M18.56 5.44l.94 2.06.94-2.06 2.06-.94-2.06-.94-.94-2.06-.94 2.06-2.06.94zm-11 1L8.5 8.5l.94-2.06 2.06-.94-2.06-.94L8.5 2.5l-.94 2.06-2.06.94zm10 10l.94 2.06.94-2.06 2.06-.94-2.06-.94-.94-2.06-.94 2.06-2.06.94z\"/><path d=\"M17.41 7.96l-1.37-1.37c-.4-.4-.92-.59-1.43-.59-.52 0-1.04.2-1.43.59L10.3 9.45l-7.72 7.72c-.78.78-.78 2.05 0 2.83L4 21.41c.39.39.9.59 1.41.59.51 0 1.02-.2 1.41-.59l7.78-7.78 2.81-2.81c.8-.78.8-2.07 0-2.86zM5.41 20L4 18.59l7.72-7.72 1.47 1.35L5.41 20z\"/>\n",
              "  </svg>\n",
              "      </button>\n",
              "      \n",
              "  <style>\n",
              "    .colab-df-container {\n",
              "      display:flex;\n",
              "      flex-wrap:wrap;\n",
              "      gap: 12px;\n",
              "    }\n",
              "\n",
              "    .colab-df-convert {\n",
              "      background-color: #E8F0FE;\n",
              "      border: none;\n",
              "      border-radius: 50%;\n",
              "      cursor: pointer;\n",
              "      display: none;\n",
              "      fill: #1967D2;\n",
              "      height: 32px;\n",
              "      padding: 0 0 0 0;\n",
              "      width: 32px;\n",
              "    }\n",
              "\n",
              "    .colab-df-convert:hover {\n",
              "      background-color: #E2EBFA;\n",
              "      box-shadow: 0px 1px 2px rgba(60, 64, 67, 0.3), 0px 1px 3px 1px rgba(60, 64, 67, 0.15);\n",
              "      fill: #174EA6;\n",
              "    }\n",
              "\n",
              "    [theme=dark] .colab-df-convert {\n",
              "      background-color: #3B4455;\n",
              "      fill: #D2E3FC;\n",
              "    }\n",
              "\n",
              "    [theme=dark] .colab-df-convert:hover {\n",
              "      background-color: #434B5C;\n",
              "      box-shadow: 0px 1px 3px 1px rgba(0, 0, 0, 0.15);\n",
              "      filter: drop-shadow(0px 1px 2px rgba(0, 0, 0, 0.3));\n",
              "      fill: #FFFFFF;\n",
              "    }\n",
              "  </style>\n",
              "\n",
              "      <script>\n",
              "        const buttonEl =\n",
              "          document.querySelector('#df-0f789294-a1ef-4b72-930c-cb5134764947 button.colab-df-convert');\n",
              "        buttonEl.style.display =\n",
              "          google.colab.kernel.accessAllowed ? 'block' : 'none';\n",
              "\n",
              "        async function convertToInteractive(key) {\n",
              "          const element = document.querySelector('#df-0f789294-a1ef-4b72-930c-cb5134764947');\n",
              "          const dataTable =\n",
              "            await google.colab.kernel.invokeFunction('convertToInteractive',\n",
              "                                                     [key], {});\n",
              "          if (!dataTable) return;\n",
              "\n",
              "          const docLinkHtml = 'Like what you see? Visit the ' +\n",
              "            '<a target=\"_blank\" href=https://colab.research.google.com/notebooks/data_table.ipynb>data table notebook</a>'\n",
              "            + ' to learn more about interactive tables.';\n",
              "          element.innerHTML = '';\n",
              "          dataTable['output_type'] = 'display_data';\n",
              "          await google.colab.output.renderOutput(dataTable, element);\n",
              "          const docLink = document.createElement('div');\n",
              "          docLink.innerHTML = docLinkHtml;\n",
              "          element.appendChild(docLink);\n",
              "        }\n",
              "      </script>\n",
              "    </div>\n",
              "  </div>\n",
              "  "
            ]
          },
          "metadata": {},
          "execution_count": 166
        }
      ]
    },
    {
      "cell_type": "code",
      "source": [
        "pd.unique(pokemon['Legendary'])#Mostrando los valores de pokemon legendario"
      ],
      "metadata": {
        "id": "nOmgYl-BgVhj",
        "outputId": "5b9ccd9e-929a-4acd-ed3f-f5daa60446e9",
        "colab": {
          "base_uri": "https://localhost:8080/"
        }
      },
      "execution_count": 167,
      "outputs": [
        {
          "output_type": "execute_result",
          "data": {
            "text/plain": [
              "array([False,  True])"
            ]
          },
          "metadata": {},
          "execution_count": 167
        }
      ]
    },
    {
      "cell_type": "code",
      "source": [
        "pokemon.isna().sum()"
      ],
      "metadata": {
        "id": "GgIIKFY0gf67",
        "outputId": "cee5fe75-480d-4db2-f247-7b844bdf42b3",
        "colab": {
          "base_uri": "https://localhost:8080/"
        }
      },
      "execution_count": 168,
      "outputs": [
        {
          "output_type": "execute_result",
          "data": {
            "text/plain": [
              "#               0\n",
              "Name            1\n",
              "Type 1          0\n",
              "Type 2        386\n",
              "HP              0\n",
              "Attack          0\n",
              "Defense         0\n",
              "Sp. Atk         0\n",
              "Sp. Def         0\n",
              "Speed           0\n",
              "Generation      0\n",
              "Legendary       0\n",
              "dtype: int64"
            ]
          },
          "metadata": {},
          "execution_count": 168
        }
      ]
    },
    {
      "cell_type": "code",
      "source": [
        "#pokemon faltante\n",
        "print(pokemon[pokemon['Name'].isnull()])"
      ],
      "metadata": {
        "id": "8t4EL1vahmQm",
        "outputId": "92bac117-8c7b-4b06-9b0d-5ca798ad2b4e",
        "colab": {
          "base_uri": "https://localhost:8080/"
        }
      },
      "execution_count": 169,
      "outputs": [
        {
          "output_type": "stream",
          "name": "stdout",
          "text": [
            "     # Name    Type 1 Type 2  HP  Attack  Defense  Sp. Atk  Sp. Def  Speed  \\\n",
            "62  63  NaN  Fighting    NaN  65     105       60       60       70     95   \n",
            "\n",
            "    Generation  Legendary  \n",
            "62           1      False  \n"
          ]
        }
      ]
    },
    {
      "cell_type": "code",
      "source": [
        "print(pokemon['Name'][61])\n",
        "print(pokemon['Name'][pokemon['Name'].isnull()])\n",
        "print(pokemon['Name'][63])"
      ],
      "metadata": {
        "id": "yrhhWKj0hwHC",
        "outputId": "707ddd3e-c90c-49f3-e78f-1935714c4fc7",
        "colab": {
          "base_uri": "https://localhost:8080/"
        }
      },
      "execution_count": 170,
      "outputs": [
        {
          "output_type": "stream",
          "name": "stdout",
          "text": [
            "Mankey\n",
            "62    NaN\n",
            "Name: Name, dtype: object\n",
            "Growlithe\n"
          ]
        }
      ]
    },
    {
      "cell_type": "code",
      "source": [
        "pokemon['Name'][62] = \"Primeape\" #llenando el campo con el naombre del pokemon faltante"
      ],
      "metadata": {
        "id": "B5bQiL8Bhy4_",
        "outputId": "238d311f-1b27-4598-f45e-25b28632d0f9",
        "colab": {
          "base_uri": "https://localhost:8080/"
        }
      },
      "execution_count": 171,
      "outputs": [
        {
          "output_type": "stream",
          "name": "stderr",
          "text": [
            "/usr/local/lib/python3.7/dist-packages/ipykernel_launcher.py:1: SettingWithCopyWarning: \n",
            "A value is trying to be set on a copy of a slice from a DataFrame\n",
            "\n",
            "See the caveats in the documentation: https://pandas.pydata.org/pandas-docs/stable/user_guide/indexing.html#returning-a-view-versus-a-copy\n",
            "  \"\"\"Entry point for launching an IPython kernel.\n"
          ]
        }
      ]
    },
    {
      "cell_type": "code",
      "source": [
        "#llenando los datos con null, \n",
        "pokemon[\"Type 2\"]=pokemon[\"Type 2\"].fillna(\"null\")"
      ],
      "metadata": {
        "id": "ly_8IpAMjFHn"
      },
      "execution_count": 172,
      "outputs": []
    },
    {
      "cell_type": "code",
      "source": [
        "pokemon.isna().sum()"
      ],
      "metadata": {
        "id": "WF_n2C1-jTJi",
        "outputId": "27028273-c45f-4470-bf99-70c401f8b0af",
        "colab": {
          "base_uri": "https://localhost:8080/"
        }
      },
      "execution_count": 173,
      "outputs": [
        {
          "output_type": "execute_result",
          "data": {
            "text/plain": [
              "#             0\n",
              "Name          0\n",
              "Type 1        0\n",
              "Type 2        0\n",
              "HP            0\n",
              "Attack        0\n",
              "Defense       0\n",
              "Sp. Atk       0\n",
              "Sp. Def       0\n",
              "Speed         0\n",
              "Generation    0\n",
              "Legendary     0\n",
              "dtype: int64"
            ]
          },
          "metadata": {},
          "execution_count": 173
        }
      ]
    },
    {
      "cell_type": "code",
      "source": [
        "# Tomando columnas importantes\n",
        "pokemon=pokemon[['HP','Attack','Defense','Sp. Atk','Sp. Def','Speed','Legendary']] \n",
        "\n",
        "# Este elimina las filas que tengan algun nulo, dropna elimina datos nulos\n",
        "pokemon=pokemon.dropna() \n",
        "#Luego eliminados los duplicados\n",
        "pokemon=pokemon.drop_duplicates() "
      ],
      "metadata": {
        "id": "YlavsHlHmIES"
      },
      "execution_count": 174,
      "outputs": []
    },
    {
      "cell_type": "code",
      "source": [
        "pokemon.head()"
      ],
      "metadata": {
        "id": "Z4nIfJy3mLCT",
        "outputId": "2a8f084e-881a-40d8-996a-5a1786931c2d",
        "colab": {
          "base_uri": "https://localhost:8080/",
          "height": 206
        }
      },
      "execution_count": 175,
      "outputs": [
        {
          "output_type": "execute_result",
          "data": {
            "text/plain": [
              "   HP  Attack  Defense  Sp. Atk  Sp. Def  Speed  Legendary\n",
              "0  45      49       49       65       65     45      False\n",
              "1  60      62       63       80       80     60      False\n",
              "2  80      82       83      100      100     80      False\n",
              "3  80     100      123      122      120     80      False\n",
              "4  39      52       43       60       50     65      False"
            ],
            "text/html": [
              "\n",
              "  <div id=\"df-98336992-af13-498f-a2f6-b0be5df3e3c9\">\n",
              "    <div class=\"colab-df-container\">\n",
              "      <div>\n",
              "<style scoped>\n",
              "    .dataframe tbody tr th:only-of-type {\n",
              "        vertical-align: middle;\n",
              "    }\n",
              "\n",
              "    .dataframe tbody tr th {\n",
              "        vertical-align: top;\n",
              "    }\n",
              "\n",
              "    .dataframe thead th {\n",
              "        text-align: right;\n",
              "    }\n",
              "</style>\n",
              "<table border=\"1\" class=\"dataframe\">\n",
              "  <thead>\n",
              "    <tr style=\"text-align: right;\">\n",
              "      <th></th>\n",
              "      <th>HP</th>\n",
              "      <th>Attack</th>\n",
              "      <th>Defense</th>\n",
              "      <th>Sp. Atk</th>\n",
              "      <th>Sp. Def</th>\n",
              "      <th>Speed</th>\n",
              "      <th>Legendary</th>\n",
              "    </tr>\n",
              "  </thead>\n",
              "  <tbody>\n",
              "    <tr>\n",
              "      <th>0</th>\n",
              "      <td>45</td>\n",
              "      <td>49</td>\n",
              "      <td>49</td>\n",
              "      <td>65</td>\n",
              "      <td>65</td>\n",
              "      <td>45</td>\n",
              "      <td>False</td>\n",
              "    </tr>\n",
              "    <tr>\n",
              "      <th>1</th>\n",
              "      <td>60</td>\n",
              "      <td>62</td>\n",
              "      <td>63</td>\n",
              "      <td>80</td>\n",
              "      <td>80</td>\n",
              "      <td>60</td>\n",
              "      <td>False</td>\n",
              "    </tr>\n",
              "    <tr>\n",
              "      <th>2</th>\n",
              "      <td>80</td>\n",
              "      <td>82</td>\n",
              "      <td>83</td>\n",
              "      <td>100</td>\n",
              "      <td>100</td>\n",
              "      <td>80</td>\n",
              "      <td>False</td>\n",
              "    </tr>\n",
              "    <tr>\n",
              "      <th>3</th>\n",
              "      <td>80</td>\n",
              "      <td>100</td>\n",
              "      <td>123</td>\n",
              "      <td>122</td>\n",
              "      <td>120</td>\n",
              "      <td>80</td>\n",
              "      <td>False</td>\n",
              "    </tr>\n",
              "    <tr>\n",
              "      <th>4</th>\n",
              "      <td>39</td>\n",
              "      <td>52</td>\n",
              "      <td>43</td>\n",
              "      <td>60</td>\n",
              "      <td>50</td>\n",
              "      <td>65</td>\n",
              "      <td>False</td>\n",
              "    </tr>\n",
              "  </tbody>\n",
              "</table>\n",
              "</div>\n",
              "      <button class=\"colab-df-convert\" onclick=\"convertToInteractive('df-98336992-af13-498f-a2f6-b0be5df3e3c9')\"\n",
              "              title=\"Convert this dataframe to an interactive table.\"\n",
              "              style=\"display:none;\">\n",
              "        \n",
              "  <svg xmlns=\"http://www.w3.org/2000/svg\" height=\"24px\"viewBox=\"0 0 24 24\"\n",
              "       width=\"24px\">\n",
              "    <path d=\"M0 0h24v24H0V0z\" fill=\"none\"/>\n",
              "    <path d=\"M18.56 5.44l.94 2.06.94-2.06 2.06-.94-2.06-.94-.94-2.06-.94 2.06-2.06.94zm-11 1L8.5 8.5l.94-2.06 2.06-.94-2.06-.94L8.5 2.5l-.94 2.06-2.06.94zm10 10l.94 2.06.94-2.06 2.06-.94-2.06-.94-.94-2.06-.94 2.06-2.06.94z\"/><path d=\"M17.41 7.96l-1.37-1.37c-.4-.4-.92-.59-1.43-.59-.52 0-1.04.2-1.43.59L10.3 9.45l-7.72 7.72c-.78.78-.78 2.05 0 2.83L4 21.41c.39.39.9.59 1.41.59.51 0 1.02-.2 1.41-.59l7.78-7.78 2.81-2.81c.8-.78.8-2.07 0-2.86zM5.41 20L4 18.59l7.72-7.72 1.47 1.35L5.41 20z\"/>\n",
              "  </svg>\n",
              "      </button>\n",
              "      \n",
              "  <style>\n",
              "    .colab-df-container {\n",
              "      display:flex;\n",
              "      flex-wrap:wrap;\n",
              "      gap: 12px;\n",
              "    }\n",
              "\n",
              "    .colab-df-convert {\n",
              "      background-color: #E8F0FE;\n",
              "      border: none;\n",
              "      border-radius: 50%;\n",
              "      cursor: pointer;\n",
              "      display: none;\n",
              "      fill: #1967D2;\n",
              "      height: 32px;\n",
              "      padding: 0 0 0 0;\n",
              "      width: 32px;\n",
              "    }\n",
              "\n",
              "    .colab-df-convert:hover {\n",
              "      background-color: #E2EBFA;\n",
              "      box-shadow: 0px 1px 2px rgba(60, 64, 67, 0.3), 0px 1px 3px 1px rgba(60, 64, 67, 0.15);\n",
              "      fill: #174EA6;\n",
              "    }\n",
              "\n",
              "    [theme=dark] .colab-df-convert {\n",
              "      background-color: #3B4455;\n",
              "      fill: #D2E3FC;\n",
              "    }\n",
              "\n",
              "    [theme=dark] .colab-df-convert:hover {\n",
              "      background-color: #434B5C;\n",
              "      box-shadow: 0px 1px 3px 1px rgba(0, 0, 0, 0.15);\n",
              "      filter: drop-shadow(0px 1px 2px rgba(0, 0, 0, 0.3));\n",
              "      fill: #FFFFFF;\n",
              "    }\n",
              "  </style>\n",
              "\n",
              "      <script>\n",
              "        const buttonEl =\n",
              "          document.querySelector('#df-98336992-af13-498f-a2f6-b0be5df3e3c9 button.colab-df-convert');\n",
              "        buttonEl.style.display =\n",
              "          google.colab.kernel.accessAllowed ? 'block' : 'none';\n",
              "\n",
              "        async function convertToInteractive(key) {\n",
              "          const element = document.querySelector('#df-98336992-af13-498f-a2f6-b0be5df3e3c9');\n",
              "          const dataTable =\n",
              "            await google.colab.kernel.invokeFunction('convertToInteractive',\n",
              "                                                     [key], {});\n",
              "          if (!dataTable) return;\n",
              "\n",
              "          const docLinkHtml = 'Like what you see? Visit the ' +\n",
              "            '<a target=\"_blank\" href=https://colab.research.google.com/notebooks/data_table.ipynb>data table notebook</a>'\n",
              "            + ' to learn more about interactive tables.';\n",
              "          element.innerHTML = '';\n",
              "          dataTable['output_type'] = 'display_data';\n",
              "          await google.colab.output.renderOutput(dataTable, element);\n",
              "          const docLink = document.createElement('div');\n",
              "          docLink.innerHTML = docLinkHtml;\n",
              "          element.appendChild(docLink);\n",
              "        }\n",
              "      </script>\n",
              "    </div>\n",
              "  </div>\n",
              "  "
            ]
          },
          "metadata": {},
          "execution_count": 175
        }
      ]
    },
    {
      "cell_type": "code",
      "source": [
        "pokemonDatax=pokemon[['HP','Attack','Defense','Sp. Atk','Sp. Def','Speed']]  #los datax son las datos de entradas\n",
        "pokemonDatay=pokemon[['Legendary']] #datay son los datos de salida\n",
        "print(pokemonDatay.head(),\"\\n\", pokemonDatax.head())  #mostrar "
      ],
      "metadata": {
        "id": "FZQyQO64m-iy",
        "outputId": "84fba745-467a-4066-d685-9d1f9bf8ff02",
        "colab": {
          "base_uri": "https://localhost:8080/"
        }
      },
      "execution_count": 176,
      "outputs": [
        {
          "output_type": "stream",
          "name": "stdout",
          "text": [
            "   Legendary\n",
            "0      False\n",
            "1      False\n",
            "2      False\n",
            "3      False\n",
            "4      False \n",
            "    HP  Attack  Defense  Sp. Atk  Sp. Def  Speed\n",
            "0  45      49       49       65       65     45\n",
            "1  60      62       63       80       80     60\n",
            "2  80      82       83      100      100     80\n",
            "3  80     100      123      122      120     80\n",
            "4  39      52       43       60       50     65\n"
          ]
        }
      ]
    },
    {
      "cell_type": "code",
      "source": [
        "pokemon.describe() #El método se utiliza para calcular algunos datos estadísticos "
      ],
      "metadata": {
        "id": "VyHkX3XhoKV2",
        "outputId": "6f523d59-8c69-498c-b94a-16f03fc54101",
        "colab": {
          "base_uri": "https://localhost:8080/",
          "height": 300
        }
      },
      "execution_count": 177,
      "outputs": [
        {
          "output_type": "execute_result",
          "data": {
            "text/plain": [
              "               HP      Attack     Defense     Sp. Atk     Sp. Def       Speed\n",
              "count  779.000000  779.000000  779.000000  779.000000  779.000000  779.000000\n",
              "mean    69.168164   79.021823   73.657253   72.287548   71.653402   67.761232\n",
              "std     25.589979   32.646400   31.375565   32.720001   27.891371   29.067415\n",
              "min      1.000000    5.000000    5.000000   10.000000   20.000000    5.000000\n",
              "25%     50.000000   55.000000   50.000000   48.000000   50.000000   45.000000\n",
              "50%     65.000000   75.000000   70.000000   65.000000   70.000000   65.000000\n",
              "75%     80.000000  100.000000   90.000000   94.000000   90.000000   90.000000\n",
              "max    255.000000  190.000000  230.000000  194.000000  230.000000  180.000000"
            ],
            "text/html": [
              "\n",
              "  <div id=\"df-610ee54b-01ec-4193-b06c-8b975be3e6ea\">\n",
              "    <div class=\"colab-df-container\">\n",
              "      <div>\n",
              "<style scoped>\n",
              "    .dataframe tbody tr th:only-of-type {\n",
              "        vertical-align: middle;\n",
              "    }\n",
              "\n",
              "    .dataframe tbody tr th {\n",
              "        vertical-align: top;\n",
              "    }\n",
              "\n",
              "    .dataframe thead th {\n",
              "        text-align: right;\n",
              "    }\n",
              "</style>\n",
              "<table border=\"1\" class=\"dataframe\">\n",
              "  <thead>\n",
              "    <tr style=\"text-align: right;\">\n",
              "      <th></th>\n",
              "      <th>HP</th>\n",
              "      <th>Attack</th>\n",
              "      <th>Defense</th>\n",
              "      <th>Sp. Atk</th>\n",
              "      <th>Sp. Def</th>\n",
              "      <th>Speed</th>\n",
              "    </tr>\n",
              "  </thead>\n",
              "  <tbody>\n",
              "    <tr>\n",
              "      <th>count</th>\n",
              "      <td>779.000000</td>\n",
              "      <td>779.000000</td>\n",
              "      <td>779.000000</td>\n",
              "      <td>779.000000</td>\n",
              "      <td>779.000000</td>\n",
              "      <td>779.000000</td>\n",
              "    </tr>\n",
              "    <tr>\n",
              "      <th>mean</th>\n",
              "      <td>69.168164</td>\n",
              "      <td>79.021823</td>\n",
              "      <td>73.657253</td>\n",
              "      <td>72.287548</td>\n",
              "      <td>71.653402</td>\n",
              "      <td>67.761232</td>\n",
              "    </tr>\n",
              "    <tr>\n",
              "      <th>std</th>\n",
              "      <td>25.589979</td>\n",
              "      <td>32.646400</td>\n",
              "      <td>31.375565</td>\n",
              "      <td>32.720001</td>\n",
              "      <td>27.891371</td>\n",
              "      <td>29.067415</td>\n",
              "    </tr>\n",
              "    <tr>\n",
              "      <th>min</th>\n",
              "      <td>1.000000</td>\n",
              "      <td>5.000000</td>\n",
              "      <td>5.000000</td>\n",
              "      <td>10.000000</td>\n",
              "      <td>20.000000</td>\n",
              "      <td>5.000000</td>\n",
              "    </tr>\n",
              "    <tr>\n",
              "      <th>25%</th>\n",
              "      <td>50.000000</td>\n",
              "      <td>55.000000</td>\n",
              "      <td>50.000000</td>\n",
              "      <td>48.000000</td>\n",
              "      <td>50.000000</td>\n",
              "      <td>45.000000</td>\n",
              "    </tr>\n",
              "    <tr>\n",
              "      <th>50%</th>\n",
              "      <td>65.000000</td>\n",
              "      <td>75.000000</td>\n",
              "      <td>70.000000</td>\n",
              "      <td>65.000000</td>\n",
              "      <td>70.000000</td>\n",
              "      <td>65.000000</td>\n",
              "    </tr>\n",
              "    <tr>\n",
              "      <th>75%</th>\n",
              "      <td>80.000000</td>\n",
              "      <td>100.000000</td>\n",
              "      <td>90.000000</td>\n",
              "      <td>94.000000</td>\n",
              "      <td>90.000000</td>\n",
              "      <td>90.000000</td>\n",
              "    </tr>\n",
              "    <tr>\n",
              "      <th>max</th>\n",
              "      <td>255.000000</td>\n",
              "      <td>190.000000</td>\n",
              "      <td>230.000000</td>\n",
              "      <td>194.000000</td>\n",
              "      <td>230.000000</td>\n",
              "      <td>180.000000</td>\n",
              "    </tr>\n",
              "  </tbody>\n",
              "</table>\n",
              "</div>\n",
              "      <button class=\"colab-df-convert\" onclick=\"convertToInteractive('df-610ee54b-01ec-4193-b06c-8b975be3e6ea')\"\n",
              "              title=\"Convert this dataframe to an interactive table.\"\n",
              "              style=\"display:none;\">\n",
              "        \n",
              "  <svg xmlns=\"http://www.w3.org/2000/svg\" height=\"24px\"viewBox=\"0 0 24 24\"\n",
              "       width=\"24px\">\n",
              "    <path d=\"M0 0h24v24H0V0z\" fill=\"none\"/>\n",
              "    <path d=\"M18.56 5.44l.94 2.06.94-2.06 2.06-.94-2.06-.94-.94-2.06-.94 2.06-2.06.94zm-11 1L8.5 8.5l.94-2.06 2.06-.94-2.06-.94L8.5 2.5l-.94 2.06-2.06.94zm10 10l.94 2.06.94-2.06 2.06-.94-2.06-.94-.94-2.06-.94 2.06-2.06.94z\"/><path d=\"M17.41 7.96l-1.37-1.37c-.4-.4-.92-.59-1.43-.59-.52 0-1.04.2-1.43.59L10.3 9.45l-7.72 7.72c-.78.78-.78 2.05 0 2.83L4 21.41c.39.39.9.59 1.41.59.51 0 1.02-.2 1.41-.59l7.78-7.78 2.81-2.81c.8-.78.8-2.07 0-2.86zM5.41 20L4 18.59l7.72-7.72 1.47 1.35L5.41 20z\"/>\n",
              "  </svg>\n",
              "      </button>\n",
              "      \n",
              "  <style>\n",
              "    .colab-df-container {\n",
              "      display:flex;\n",
              "      flex-wrap:wrap;\n",
              "      gap: 12px;\n",
              "    }\n",
              "\n",
              "    .colab-df-convert {\n",
              "      background-color: #E8F0FE;\n",
              "      border: none;\n",
              "      border-radius: 50%;\n",
              "      cursor: pointer;\n",
              "      display: none;\n",
              "      fill: #1967D2;\n",
              "      height: 32px;\n",
              "      padding: 0 0 0 0;\n",
              "      width: 32px;\n",
              "    }\n",
              "\n",
              "    .colab-df-convert:hover {\n",
              "      background-color: #E2EBFA;\n",
              "      box-shadow: 0px 1px 2px rgba(60, 64, 67, 0.3), 0px 1px 3px 1px rgba(60, 64, 67, 0.15);\n",
              "      fill: #174EA6;\n",
              "    }\n",
              "\n",
              "    [theme=dark] .colab-df-convert {\n",
              "      background-color: #3B4455;\n",
              "      fill: #D2E3FC;\n",
              "    }\n",
              "\n",
              "    [theme=dark] .colab-df-convert:hover {\n",
              "      background-color: #434B5C;\n",
              "      box-shadow: 0px 1px 3px 1px rgba(0, 0, 0, 0.15);\n",
              "      filter: drop-shadow(0px 1px 2px rgba(0, 0, 0, 0.3));\n",
              "      fill: #FFFFFF;\n",
              "    }\n",
              "  </style>\n",
              "\n",
              "      <script>\n",
              "        const buttonEl =\n",
              "          document.querySelector('#df-610ee54b-01ec-4193-b06c-8b975be3e6ea button.colab-df-convert');\n",
              "        buttonEl.style.display =\n",
              "          google.colab.kernel.accessAllowed ? 'block' : 'none';\n",
              "\n",
              "        async function convertToInteractive(key) {\n",
              "          const element = document.querySelector('#df-610ee54b-01ec-4193-b06c-8b975be3e6ea');\n",
              "          const dataTable =\n",
              "            await google.colab.kernel.invokeFunction('convertToInteractive',\n",
              "                                                     [key], {});\n",
              "          if (!dataTable) return;\n",
              "\n",
              "          const docLinkHtml = 'Like what you see? Visit the ' +\n",
              "            '<a target=\"_blank\" href=https://colab.research.google.com/notebooks/data_table.ipynb>data table notebook</a>'\n",
              "            + ' to learn more about interactive tables.';\n",
              "          element.innerHTML = '';\n",
              "          dataTable['output_type'] = 'display_data';\n",
              "          await google.colab.output.renderOutput(dataTable, element);\n",
              "          const docLink = document.createElement('div');\n",
              "          docLink.innerHTML = docLinkHtml;\n",
              "          element.appendChild(docLink);\n",
              "        }\n",
              "      </script>\n",
              "    </div>\n",
              "  </div>\n",
              "  "
            ]
          },
          "metadata": {},
          "execution_count": 177
        }
      ]
    },
    {
      "cell_type": "code",
      "source": [
        "#se divide en intervalos\n",
        "pd.cut(pokemonDatax['HP'],[0,20,40,60,80,100,120,140,160,180,200,220,240,260])"
      ],
      "metadata": {
        "id": "mntgg5_eoRV9",
        "outputId": "259cb1d6-3267-4707-8ef2-fac23ff49983",
        "colab": {
          "base_uri": "https://localhost:8080/"
        }
      },
      "execution_count": 178,
      "outputs": [
        {
          "output_type": "execute_result",
          "data": {
            "text/plain": [
              "0      (40, 60]\n",
              "1      (40, 60]\n",
              "2      (60, 80]\n",
              "3      (60, 80]\n",
              "4      (20, 40]\n",
              "         ...   \n",
              "795    (40, 60]\n",
              "796    (40, 60]\n",
              "797    (60, 80]\n",
              "798    (60, 80]\n",
              "799    (60, 80]\n",
              "Name: HP, Length: 779, dtype: category\n",
              "Categories (13, interval[int64, right]): [(0, 20] < (20, 40] < (40, 60] < (60, 80] < ... <\n",
              "                                          (180, 200] < (200, 220] < (220, 240] < (240, 260]]"
            ]
          },
          "metadata": {},
          "execution_count": 178
        }
      ]
    },
    {
      "cell_type": "code",
      "source": [
        "#remplazando el valor de pokemonDatax por los intervalos HP\n",
        "pokemonDatax['HP']=pd.cut(pokemonDatax['HP'],[0,20,40,60,80,100,120,140,160,180,200,220,240,260])"
      ],
      "metadata": {
        "id": "k4_hrDDzoxmG",
        "outputId": "597d739b-6df5-455f-a5ad-e8eaf7021615",
        "colab": {
          "base_uri": "https://localhost:8080/"
        }
      },
      "execution_count": 179,
      "outputs": [
        {
          "output_type": "stream",
          "name": "stderr",
          "text": [
            "/usr/local/lib/python3.7/dist-packages/ipykernel_launcher.py:2: SettingWithCopyWarning: \n",
            "A value is trying to be set on a copy of a slice from a DataFrame.\n",
            "Try using .loc[row_indexer,col_indexer] = value instead\n",
            "\n",
            "See the caveats in the documentation: https://pandas.pydata.org/pandas-docs/stable/user_guide/indexing.html#returning-a-view-versus-a-copy\n",
            "  \n"
          ]
        }
      ]
    },
    {
      "cell_type": "code",
      "source": [
        "pd.cut(pokemonDatax['Attack'],[0,20,40,60,80,100,120,140,160,180,200])"
      ],
      "metadata": {
        "id": "Y-3TolqaqEPG",
        "outputId": "b39b1cd8-7eef-44ed-b659-0ae8a9f56a9b",
        "colab": {
          "base_uri": "https://localhost:8080/"
        }
      },
      "execution_count": 180,
      "outputs": [
        {
          "output_type": "execute_result",
          "data": {
            "text/plain": [
              "0        (40, 60]\n",
              "1        (60, 80]\n",
              "2       (80, 100]\n",
              "3       (80, 100]\n",
              "4        (40, 60]\n",
              "          ...    \n",
              "795     (80, 100]\n",
              "796    (140, 160]\n",
              "797    (100, 120]\n",
              "798    (140, 160]\n",
              "799    (100, 120]\n",
              "Name: Attack, Length: 779, dtype: category\n",
              "Categories (10, interval[int64, right]): [(0, 20] < (20, 40] < (40, 60] < (60, 80] < ... <\n",
              "                                          (120, 140] < (140, 160] < (160, 180] < (180, 200]]"
            ]
          },
          "metadata": {},
          "execution_count": 180
        }
      ]
    },
    {
      "cell_type": "code",
      "source": [
        "#remplazando el valor de pokemonDatax por los intervalos HP\n",
        "pokemonDatax['Attack']=pd.cut(pokemonDatax['Attack'],[0,20,40,60,80,100,120,140,160,180,200])"
      ],
      "metadata": {
        "id": "ECE59votqEL2",
        "outputId": "6bf06b94-5d5f-476e-c4df-e5d6ee6dcf2b",
        "colab": {
          "base_uri": "https://localhost:8080/"
        }
      },
      "execution_count": 181,
      "outputs": [
        {
          "output_type": "stream",
          "name": "stderr",
          "text": [
            "/usr/local/lib/python3.7/dist-packages/ipykernel_launcher.py:2: SettingWithCopyWarning: \n",
            "A value is trying to be set on a copy of a slice from a DataFrame.\n",
            "Try using .loc[row_indexer,col_indexer] = value instead\n",
            "\n",
            "See the caveats in the documentation: https://pandas.pydata.org/pandas-docs/stable/user_guide/indexing.html#returning-a-view-versus-a-copy\n",
            "  \n"
          ]
        }
      ]
    },
    {
      "cell_type": "code",
      "source": [
        "pd.cut(pokemonDatax['Defense'],[0,20,40,60,80,100,120,140,160,180,200,220,240])#dando intervalo de Defense 230"
      ],
      "metadata": {
        "id": "gGLvCE9Dq3Rp",
        "outputId": "29202e74-3422-4a40-a105-434994fc86f6",
        "colab": {
          "base_uri": "https://localhost:8080/"
        }
      },
      "execution_count": 182,
      "outputs": [
        {
          "output_type": "execute_result",
          "data": {
            "text/plain": [
              "0        (40, 60]\n",
              "1        (60, 80]\n",
              "2       (80, 100]\n",
              "3      (120, 140]\n",
              "4        (40, 60]\n",
              "          ...    \n",
              "795    (140, 160]\n",
              "796    (100, 120]\n",
              "797      (40, 60]\n",
              "798      (40, 60]\n",
              "799    (100, 120]\n",
              "Name: Defense, Length: 779, dtype: category\n",
              "Categories (12, interval[int64, right]): [(0, 20] < (20, 40] < (40, 60] < (60, 80] < ... <\n",
              "                                          (160, 180] < (180, 200] < (200, 220] < (220, 240]]"
            ]
          },
          "metadata": {},
          "execution_count": 182
        }
      ]
    },
    {
      "cell_type": "code",
      "source": [
        "#remplazando el valor de pokemonDatax por los intervalos Defense\n",
        "pokemonDatax['Defense']=pd.cut(pokemonDatax['Defense'],[0,20,40,60,80,100,120,140,160,180,200,220,240])"
      ],
      "metadata": {
        "id": "978UVzIqq_Rj",
        "outputId": "5e6c6408-61d9-459d-83f6-524dd06ea830",
        "colab": {
          "base_uri": "https://localhost:8080/"
        }
      },
      "execution_count": 183,
      "outputs": [
        {
          "output_type": "stream",
          "name": "stderr",
          "text": [
            "/usr/local/lib/python3.7/dist-packages/ipykernel_launcher.py:2: SettingWithCopyWarning: \n",
            "A value is trying to be set on a copy of a slice from a DataFrame.\n",
            "Try using .loc[row_indexer,col_indexer] = value instead\n",
            "\n",
            "See the caveats in the documentation: https://pandas.pydata.org/pandas-docs/stable/user_guide/indexing.html#returning-a-view-versus-a-copy\n",
            "  \n"
          ]
        }
      ]
    },
    {
      "cell_type": "code",
      "source": [
        "pd.cut(pokemonDatax['Sp. Atk'],[10,20,30,40,50,60,70,80,90,100,110,120,130,140,150,160,170,180,190,200])"
      ],
      "metadata": {
        "id": "yPG-h4iQr7NZ",
        "outputId": "fcb7df16-3ad4-49f1-bb6f-10f7c4078a74",
        "colab": {
          "base_uri": "https://localhost:8080/"
        }
      },
      "execution_count": 184,
      "outputs": [
        {
          "output_type": "execute_result",
          "data": {
            "text/plain": [
              "0        (60, 70]\n",
              "1        (70, 80]\n",
              "2       (90, 100]\n",
              "3      (120, 130]\n",
              "4        (50, 60]\n",
              "          ...    \n",
              "795     (90, 100]\n",
              "796    (150, 160]\n",
              "797    (140, 150]\n",
              "798    (160, 170]\n",
              "799    (120, 130]\n",
              "Name: Sp. Atk, Length: 779, dtype: category\n",
              "Categories (19, interval[int64, right]): [(10, 20] < (20, 30] < (30, 40] < (40, 50] < ... <\n",
              "                                          (160, 170] < (170, 180] < (180, 190] < (190, 200]]"
            ]
          },
          "metadata": {},
          "execution_count": 184
        }
      ]
    },
    {
      "cell_type": "code",
      "source": [
        "#remplazando el valor de pokemonDatax por los intervalos Sp. Atk\n",
        "pokemonDatax['Sp. Atk']=pd.cut(pokemonDatax['Sp. Atk'],[10,20,30,40,50,60,70,80,90,100,110,120,130,140,150,160,170,180,190,200])"
      ],
      "metadata": {
        "id": "EEqYlI78r2qL",
        "outputId": "a42da075-b1ed-4042-8eb0-7c259b644cc2",
        "colab": {
          "base_uri": "https://localhost:8080/"
        }
      },
      "execution_count": 185,
      "outputs": [
        {
          "output_type": "stream",
          "name": "stderr",
          "text": [
            "/usr/local/lib/python3.7/dist-packages/ipykernel_launcher.py:2: SettingWithCopyWarning: \n",
            "A value is trying to be set on a copy of a slice from a DataFrame.\n",
            "Try using .loc[row_indexer,col_indexer] = value instead\n",
            "\n",
            "See the caveats in the documentation: https://pandas.pydata.org/pandas-docs/stable/user_guide/indexing.html#returning-a-view-versus-a-copy\n",
            "  \n"
          ]
        }
      ]
    },
    {
      "cell_type": "code",
      "source": [
        "pd.cut(pokemonDatax['Sp. Def'],[20,30,40,50,60,70,80,90,100,110,120,130,140,150,160,170,180,190,200,210,220,230])"
      ],
      "metadata": {
        "id": "3brcbwmftec9",
        "outputId": "e5d847b7-2a70-46dd-9fa4-3d45b06c9ffa",
        "colab": {
          "base_uri": "https://localhost:8080/"
        }
      },
      "execution_count": 186,
      "outputs": [
        {
          "output_type": "execute_result",
          "data": {
            "text/plain": [
              "0        (60, 70]\n",
              "1        (70, 80]\n",
              "2       (90, 100]\n",
              "3      (110, 120]\n",
              "4        (40, 50]\n",
              "          ...    \n",
              "795    (140, 150]\n",
              "796    (100, 110]\n",
              "797    (120, 130]\n",
              "798    (120, 130]\n",
              "799      (80, 90]\n",
              "Name: Sp. Def, Length: 779, dtype: category\n",
              "Categories (21, interval[int64, right]): [(20, 30] < (30, 40] < (40, 50] < (50, 60] < ... <\n",
              "                                          (190, 200] < (200, 210] < (210, 220] < (220, 230]]"
            ]
          },
          "metadata": {},
          "execution_count": 186
        }
      ]
    },
    {
      "cell_type": "code",
      "source": [
        "pokemonDatax['Sp. Def']=pd.cut(pokemonDatax['Sp. Def'],[20,30,40,50,60,70,80,90,100,110,120,130,140,150,160,170,180,190,200,210,220,230])"
      ],
      "metadata": {
        "id": "3ymQtSOGtizm",
        "outputId": "6681269a-16e8-49c6-c1dd-e9f65bb7cb01",
        "colab": {
          "base_uri": "https://localhost:8080/"
        }
      },
      "execution_count": 187,
      "outputs": [
        {
          "output_type": "stream",
          "name": "stderr",
          "text": [
            "/usr/local/lib/python3.7/dist-packages/ipykernel_launcher.py:1: SettingWithCopyWarning: \n",
            "A value is trying to be set on a copy of a slice from a DataFrame.\n",
            "Try using .loc[row_indexer,col_indexer] = value instead\n",
            "\n",
            "See the caveats in the documentation: https://pandas.pydata.org/pandas-docs/stable/user_guide/indexing.html#returning-a-view-versus-a-copy\n",
            "  \"\"\"Entry point for launching an IPython kernel.\n"
          ]
        }
      ]
    },
    {
      "cell_type": "code",
      "source": [
        "pd.cut(pokemonDatax['Speed'],[0,10,20,30,40,50,60,70,80,90,100,110,120,130,140,150,160,170,180])"
      ],
      "metadata": {
        "id": "q4BERctluKRe",
        "outputId": "225e8be2-df25-4f07-9e6e-b1cdc441cc5c",
        "colab": {
          "base_uri": "https://localhost:8080/"
        }
      },
      "execution_count": 188,
      "outputs": [
        {
          "output_type": "execute_result",
          "data": {
            "text/plain": [
              "0        (40, 50]\n",
              "1        (50, 60]\n",
              "2        (70, 80]\n",
              "3        (70, 80]\n",
              "4        (60, 70]\n",
              "          ...    \n",
              "795      (40, 50]\n",
              "796    (100, 110]\n",
              "797      (60, 70]\n",
              "798      (70, 80]\n",
              "799      (60, 70]\n",
              "Name: Speed, Length: 779, dtype: category\n",
              "Categories (18, interval[int64, right]): [(0, 10] < (10, 20] < (20, 30] < (30, 40] < ... <\n",
              "                                          (140, 150] < (150, 160] < (160, 170] < (170, 180]]"
            ]
          },
          "metadata": {},
          "execution_count": 188
        }
      ]
    },
    {
      "cell_type": "code",
      "source": [
        "pokemonDatax['Speed']=pd.cut(pokemonDatax['Speed'],[0,10,20,30,40,50,60,70,80,90,100,110,120,130,140,150,160,170,180])"
      ],
      "metadata": {
        "id": "yfPe_w0kuPg-",
        "outputId": "2df209b1-c108-43a0-e657-0bf0cf91b8d2",
        "colab": {
          "base_uri": "https://localhost:8080/"
        }
      },
      "execution_count": 189,
      "outputs": [
        {
          "output_type": "stream",
          "name": "stderr",
          "text": [
            "/usr/local/lib/python3.7/dist-packages/ipykernel_launcher.py:1: SettingWithCopyWarning: \n",
            "A value is trying to be set on a copy of a slice from a DataFrame.\n",
            "Try using .loc[row_indexer,col_indexer] = value instead\n",
            "\n",
            "See the caveats in the documentation: https://pandas.pydata.org/pandas-docs/stable/user_guide/indexing.html#returning-a-view-versus-a-copy\n",
            "  \"\"\"Entry point for launching an IPython kernel.\n"
          ]
        }
      ]
    },
    {
      "cell_type": "code",
      "source": [
        "pokemonDatax.head(10) #mostrando elementos"
      ],
      "metadata": {
        "id": "D5Knzb8wv4Y4",
        "outputId": "6c950cb0-920f-4862-d92f-fee556af0f29",
        "colab": {
          "base_uri": "https://localhost:8080/",
          "height": 363
        }
      },
      "execution_count": 190,
      "outputs": [
        {
          "output_type": "execute_result",
          "data": {
            "text/plain": [
              "         HP      Attack     Defense     Sp. Atk     Sp. Def      Speed\n",
              "0  (40, 60]    (40, 60]    (40, 60]    (60, 70]    (60, 70]   (40, 50]\n",
              "1  (40, 60]    (60, 80]    (60, 80]    (70, 80]    (70, 80]   (50, 60]\n",
              "2  (60, 80]   (80, 100]   (80, 100]   (90, 100]   (90, 100]   (70, 80]\n",
              "3  (60, 80]   (80, 100]  (120, 140]  (120, 130]  (110, 120]   (70, 80]\n",
              "4  (20, 40]    (40, 60]    (40, 60]    (50, 60]    (40, 50]   (60, 70]\n",
              "5  (40, 60]    (60, 80]    (40, 60]    (70, 80]    (60, 70]   (70, 80]\n",
              "6  (60, 80]   (80, 100]    (60, 80]  (100, 110]    (80, 90]  (90, 100]\n",
              "7  (60, 80]  (120, 140]  (100, 120]  (120, 130]    (80, 90]  (90, 100]\n",
              "8  (60, 80]  (100, 120]    (60, 80]  (150, 160]  (110, 120]  (90, 100]\n",
              "9  (40, 60]    (40, 60]    (60, 80]    (40, 50]    (60, 70]   (40, 50]"
            ],
            "text/html": [
              "\n",
              "  <div id=\"df-ab0fd2e3-058f-421b-8332-8bc7dd08ec75\">\n",
              "    <div class=\"colab-df-container\">\n",
              "      <div>\n",
              "<style scoped>\n",
              "    .dataframe tbody tr th:only-of-type {\n",
              "        vertical-align: middle;\n",
              "    }\n",
              "\n",
              "    .dataframe tbody tr th {\n",
              "        vertical-align: top;\n",
              "    }\n",
              "\n",
              "    .dataframe thead th {\n",
              "        text-align: right;\n",
              "    }\n",
              "</style>\n",
              "<table border=\"1\" class=\"dataframe\">\n",
              "  <thead>\n",
              "    <tr style=\"text-align: right;\">\n",
              "      <th></th>\n",
              "      <th>HP</th>\n",
              "      <th>Attack</th>\n",
              "      <th>Defense</th>\n",
              "      <th>Sp. Atk</th>\n",
              "      <th>Sp. Def</th>\n",
              "      <th>Speed</th>\n",
              "    </tr>\n",
              "  </thead>\n",
              "  <tbody>\n",
              "    <tr>\n",
              "      <th>0</th>\n",
              "      <td>(40, 60]</td>\n",
              "      <td>(40, 60]</td>\n",
              "      <td>(40, 60]</td>\n",
              "      <td>(60, 70]</td>\n",
              "      <td>(60, 70]</td>\n",
              "      <td>(40, 50]</td>\n",
              "    </tr>\n",
              "    <tr>\n",
              "      <th>1</th>\n",
              "      <td>(40, 60]</td>\n",
              "      <td>(60, 80]</td>\n",
              "      <td>(60, 80]</td>\n",
              "      <td>(70, 80]</td>\n",
              "      <td>(70, 80]</td>\n",
              "      <td>(50, 60]</td>\n",
              "    </tr>\n",
              "    <tr>\n",
              "      <th>2</th>\n",
              "      <td>(60, 80]</td>\n",
              "      <td>(80, 100]</td>\n",
              "      <td>(80, 100]</td>\n",
              "      <td>(90, 100]</td>\n",
              "      <td>(90, 100]</td>\n",
              "      <td>(70, 80]</td>\n",
              "    </tr>\n",
              "    <tr>\n",
              "      <th>3</th>\n",
              "      <td>(60, 80]</td>\n",
              "      <td>(80, 100]</td>\n",
              "      <td>(120, 140]</td>\n",
              "      <td>(120, 130]</td>\n",
              "      <td>(110, 120]</td>\n",
              "      <td>(70, 80]</td>\n",
              "    </tr>\n",
              "    <tr>\n",
              "      <th>4</th>\n",
              "      <td>(20, 40]</td>\n",
              "      <td>(40, 60]</td>\n",
              "      <td>(40, 60]</td>\n",
              "      <td>(50, 60]</td>\n",
              "      <td>(40, 50]</td>\n",
              "      <td>(60, 70]</td>\n",
              "    </tr>\n",
              "    <tr>\n",
              "      <th>5</th>\n",
              "      <td>(40, 60]</td>\n",
              "      <td>(60, 80]</td>\n",
              "      <td>(40, 60]</td>\n",
              "      <td>(70, 80]</td>\n",
              "      <td>(60, 70]</td>\n",
              "      <td>(70, 80]</td>\n",
              "    </tr>\n",
              "    <tr>\n",
              "      <th>6</th>\n",
              "      <td>(60, 80]</td>\n",
              "      <td>(80, 100]</td>\n",
              "      <td>(60, 80]</td>\n",
              "      <td>(100, 110]</td>\n",
              "      <td>(80, 90]</td>\n",
              "      <td>(90, 100]</td>\n",
              "    </tr>\n",
              "    <tr>\n",
              "      <th>7</th>\n",
              "      <td>(60, 80]</td>\n",
              "      <td>(120, 140]</td>\n",
              "      <td>(100, 120]</td>\n",
              "      <td>(120, 130]</td>\n",
              "      <td>(80, 90]</td>\n",
              "      <td>(90, 100]</td>\n",
              "    </tr>\n",
              "    <tr>\n",
              "      <th>8</th>\n",
              "      <td>(60, 80]</td>\n",
              "      <td>(100, 120]</td>\n",
              "      <td>(60, 80]</td>\n",
              "      <td>(150, 160]</td>\n",
              "      <td>(110, 120]</td>\n",
              "      <td>(90, 100]</td>\n",
              "    </tr>\n",
              "    <tr>\n",
              "      <th>9</th>\n",
              "      <td>(40, 60]</td>\n",
              "      <td>(40, 60]</td>\n",
              "      <td>(60, 80]</td>\n",
              "      <td>(40, 50]</td>\n",
              "      <td>(60, 70]</td>\n",
              "      <td>(40, 50]</td>\n",
              "    </tr>\n",
              "  </tbody>\n",
              "</table>\n",
              "</div>\n",
              "      <button class=\"colab-df-convert\" onclick=\"convertToInteractive('df-ab0fd2e3-058f-421b-8332-8bc7dd08ec75')\"\n",
              "              title=\"Convert this dataframe to an interactive table.\"\n",
              "              style=\"display:none;\">\n",
              "        \n",
              "  <svg xmlns=\"http://www.w3.org/2000/svg\" height=\"24px\"viewBox=\"0 0 24 24\"\n",
              "       width=\"24px\">\n",
              "    <path d=\"M0 0h24v24H0V0z\" fill=\"none\"/>\n",
              "    <path d=\"M18.56 5.44l.94 2.06.94-2.06 2.06-.94-2.06-.94-.94-2.06-.94 2.06-2.06.94zm-11 1L8.5 8.5l.94-2.06 2.06-.94-2.06-.94L8.5 2.5l-.94 2.06-2.06.94zm10 10l.94 2.06.94-2.06 2.06-.94-2.06-.94-.94-2.06-.94 2.06-2.06.94z\"/><path d=\"M17.41 7.96l-1.37-1.37c-.4-.4-.92-.59-1.43-.59-.52 0-1.04.2-1.43.59L10.3 9.45l-7.72 7.72c-.78.78-.78 2.05 0 2.83L4 21.41c.39.39.9.59 1.41.59.51 0 1.02-.2 1.41-.59l7.78-7.78 2.81-2.81c.8-.78.8-2.07 0-2.86zM5.41 20L4 18.59l7.72-7.72 1.47 1.35L5.41 20z\"/>\n",
              "  </svg>\n",
              "      </button>\n",
              "      \n",
              "  <style>\n",
              "    .colab-df-container {\n",
              "      display:flex;\n",
              "      flex-wrap:wrap;\n",
              "      gap: 12px;\n",
              "    }\n",
              "\n",
              "    .colab-df-convert {\n",
              "      background-color: #E8F0FE;\n",
              "      border: none;\n",
              "      border-radius: 50%;\n",
              "      cursor: pointer;\n",
              "      display: none;\n",
              "      fill: #1967D2;\n",
              "      height: 32px;\n",
              "      padding: 0 0 0 0;\n",
              "      width: 32px;\n",
              "    }\n",
              "\n",
              "    .colab-df-convert:hover {\n",
              "      background-color: #E2EBFA;\n",
              "      box-shadow: 0px 1px 2px rgba(60, 64, 67, 0.3), 0px 1px 3px 1px rgba(60, 64, 67, 0.15);\n",
              "      fill: #174EA6;\n",
              "    }\n",
              "\n",
              "    [theme=dark] .colab-df-convert {\n",
              "      background-color: #3B4455;\n",
              "      fill: #D2E3FC;\n",
              "    }\n",
              "\n",
              "    [theme=dark] .colab-df-convert:hover {\n",
              "      background-color: #434B5C;\n",
              "      box-shadow: 0px 1px 3px 1px rgba(0, 0, 0, 0.15);\n",
              "      filter: drop-shadow(0px 1px 2px rgba(0, 0, 0, 0.3));\n",
              "      fill: #FFFFFF;\n",
              "    }\n",
              "  </style>\n",
              "\n",
              "      <script>\n",
              "        const buttonEl =\n",
              "          document.querySelector('#df-ab0fd2e3-058f-421b-8332-8bc7dd08ec75 button.colab-df-convert');\n",
              "        buttonEl.style.display =\n",
              "          google.colab.kernel.accessAllowed ? 'block' : 'none';\n",
              "\n",
              "        async function convertToInteractive(key) {\n",
              "          const element = document.querySelector('#df-ab0fd2e3-058f-421b-8332-8bc7dd08ec75');\n",
              "          const dataTable =\n",
              "            await google.colab.kernel.invokeFunction('convertToInteractive',\n",
              "                                                     [key], {});\n",
              "          if (!dataTable) return;\n",
              "\n",
              "          const docLinkHtml = 'Like what you see? Visit the ' +\n",
              "            '<a target=\"_blank\" href=https://colab.research.google.com/notebooks/data_table.ipynb>data table notebook</a>'\n",
              "            + ' to learn more about interactive tables.';\n",
              "          element.innerHTML = '';\n",
              "          dataTable['output_type'] = 'display_data';\n",
              "          await google.colab.output.renderOutput(dataTable, element);\n",
              "          const docLink = document.createElement('div');\n",
              "          docLink.innerHTML = docLinkHtml;\n",
              "          element.appendChild(docLink);\n",
              "        }\n",
              "      </script>\n",
              "    </div>\n",
              "  </div>\n",
              "  "
            ]
          },
          "metadata": {},
          "execution_count": 190
        }
      ]
    },
    {
      "cell_type": "code",
      "source": [
        "#muestra los duplicados dentro del dataX\n",
        "pokemonDatax.duplicated(keep=False) "
      ],
      "metadata": {
        "id": "lxJ3f14Pv7ja",
        "outputId": "87aa61b1-c19d-4aeb-95eb-11b8ead718bb",
        "colab": {
          "base_uri": "https://localhost:8080/"
        }
      },
      "execution_count": 191,
      "outputs": [
        {
          "output_type": "execute_result",
          "data": {
            "text/plain": [
              "0      False\n",
              "1       True\n",
              "2      False\n",
              "3      False\n",
              "4      False\n",
              "       ...  \n",
              "795    False\n",
              "796    False\n",
              "797    False\n",
              "798    False\n",
              "799    False\n",
              "Length: 779, dtype: bool"
            ]
          },
          "metadata": {},
          "execution_count": 191
        }
      ]
    },
    {
      "cell_type": "code",
      "source": [
        "#son un tipo de datos pandas correspondientes a variables categóricas en estadísticas\n",
        "from pandas.core.arrays import categorical #valor categorico, toman una variable limitada\n",
        "pokemonDatax.loc[:,'HP'],categoriaHP=pd.factorize(pokemonDatax['HP'],sort=True)"
      ],
      "metadata": {
        "id": "i4gMd-ZCwCC1",
        "outputId": "a9e7b9f6-a5b0-4392-8bcd-96d34decb4cc",
        "colab": {
          "base_uri": "https://localhost:8080/"
        }
      },
      "execution_count": 192,
      "outputs": [
        {
          "output_type": "stream",
          "name": "stderr",
          "text": [
            "/usr/local/lib/python3.7/dist-packages/pandas/core/indexing.py:1773: SettingWithCopyWarning: \n",
            "A value is trying to be set on a copy of a slice from a DataFrame.\n",
            "Try using .loc[row_indexer,col_indexer] = value instead\n",
            "\n",
            "See the caveats in the documentation: https://pandas.pydata.org/pandas-docs/stable/user_guide/indexing.html#returning-a-view-versus-a-copy\n",
            "  self._setitem_single_column(ilocs[0], value, pi)\n"
          ]
        }
      ]
    },
    {
      "cell_type": "code",
      "source": [
        "pokemonDatax.loc[:,'Attack'],categoriaAttack=pd.factorize(pokemonDatax['Attack'],sort=True)"
      ],
      "metadata": {
        "id": "JO5lPrMCwEi9",
        "outputId": "ffc5c637-e09a-411d-fd35-6c7c3a6870b0",
        "colab": {
          "base_uri": "https://localhost:8080/"
        }
      },
      "execution_count": 193,
      "outputs": [
        {
          "output_type": "stream",
          "name": "stderr",
          "text": [
            "/usr/local/lib/python3.7/dist-packages/pandas/core/indexing.py:1773: SettingWithCopyWarning: \n",
            "A value is trying to be set on a copy of a slice from a DataFrame.\n",
            "Try using .loc[row_indexer,col_indexer] = value instead\n",
            "\n",
            "See the caveats in the documentation: https://pandas.pydata.org/pandas-docs/stable/user_guide/indexing.html#returning-a-view-versus-a-copy\n",
            "  self._setitem_single_column(ilocs[0], value, pi)\n"
          ]
        }
      ]
    },
    {
      "cell_type": "code",
      "source": [
        "pokemonDatax.loc[:,'Defense'],categoriaDef=pd.factorize(pokemonDatax['Defense'],sort=True)"
      ],
      "metadata": {
        "id": "i70EyJ_ZwGoR",
        "outputId": "ab19bf7d-f9cb-4bdc-d5cb-36c7701ccde8",
        "colab": {
          "base_uri": "https://localhost:8080/"
        }
      },
      "execution_count": 194,
      "outputs": [
        {
          "output_type": "stream",
          "name": "stderr",
          "text": [
            "/usr/local/lib/python3.7/dist-packages/pandas/core/indexing.py:1773: SettingWithCopyWarning: \n",
            "A value is trying to be set on a copy of a slice from a DataFrame.\n",
            "Try using .loc[row_indexer,col_indexer] = value instead\n",
            "\n",
            "See the caveats in the documentation: https://pandas.pydata.org/pandas-docs/stable/user_guide/indexing.html#returning-a-view-versus-a-copy\n",
            "  self._setitem_single_column(ilocs[0], value, pi)\n"
          ]
        }
      ]
    },
    {
      "cell_type": "code",
      "source": [
        "pokemonDatax.loc[:,'Sp. Atk'],categoriaSA=pd.factorize(pokemonDatax['Sp. Atk'],sort=True)"
      ],
      "metadata": {
        "id": "qhTryzQUwJbo",
        "outputId": "e1eb188d-a0f8-4bcc-ec06-60e549eee766",
        "colab": {
          "base_uri": "https://localhost:8080/"
        }
      },
      "execution_count": 195,
      "outputs": [
        {
          "output_type": "stream",
          "name": "stderr",
          "text": [
            "/usr/local/lib/python3.7/dist-packages/pandas/core/indexing.py:1773: SettingWithCopyWarning: \n",
            "A value is trying to be set on a copy of a slice from a DataFrame.\n",
            "Try using .loc[row_indexer,col_indexer] = value instead\n",
            "\n",
            "See the caveats in the documentation: https://pandas.pydata.org/pandas-docs/stable/user_guide/indexing.html#returning-a-view-versus-a-copy\n",
            "  self._setitem_single_column(ilocs[0], value, pi)\n"
          ]
        }
      ]
    },
    {
      "cell_type": "code",
      "source": [
        "pokemonDatax.loc[:,'Sp. Def'],categoriaSD=pd.factorize(pokemonDatax['Sp. Def'],sort=True)"
      ],
      "metadata": {
        "id": "FKMjIjtIwL76",
        "outputId": "6573b2ec-b946-40f0-b74c-823f88a377cc",
        "colab": {
          "base_uri": "https://localhost:8080/"
        }
      },
      "execution_count": 196,
      "outputs": [
        {
          "output_type": "stream",
          "name": "stderr",
          "text": [
            "/usr/local/lib/python3.7/dist-packages/pandas/core/indexing.py:1773: SettingWithCopyWarning: \n",
            "A value is trying to be set on a copy of a slice from a DataFrame.\n",
            "Try using .loc[row_indexer,col_indexer] = value instead\n",
            "\n",
            "See the caveats in the documentation: https://pandas.pydata.org/pandas-docs/stable/user_guide/indexing.html#returning-a-view-versus-a-copy\n",
            "  self._setitem_single_column(ilocs[0], value, pi)\n"
          ]
        }
      ]
    },
    {
      "cell_type": "code",
      "source": [
        "pokemonDatax.loc[:,'Speed'],categoriaSp=pd.factorize(pokemonDatax['Speed'],sort=True)"
      ],
      "metadata": {
        "id": "DGAtrcrywOIT",
        "outputId": "91034a9e-282d-4546-9670-a64ce21244c8",
        "colab": {
          "base_uri": "https://localhost:8080/"
        }
      },
      "execution_count": 197,
      "outputs": [
        {
          "output_type": "stream",
          "name": "stderr",
          "text": [
            "/usr/local/lib/python3.7/dist-packages/pandas/core/indexing.py:1773: SettingWithCopyWarning: \n",
            "A value is trying to be set on a copy of a slice from a DataFrame.\n",
            "Try using .loc[row_indexer,col_indexer] = value instead\n",
            "\n",
            "See the caveats in the documentation: https://pandas.pydata.org/pandas-docs/stable/user_guide/indexing.html#returning-a-view-versus-a-copy\n",
            "  self._setitem_single_column(ilocs[0], value, pi)\n"
          ]
        }
      ]
    },
    {
      "cell_type": "code",
      "source": [
        "pokemonDatax.head(10)  "
      ],
      "metadata": {
        "id": "6JGnNhy6wSOm",
        "outputId": "1a6e28e6-0878-4642-c3ac-2d8661635327",
        "colab": {
          "base_uri": "https://localhost:8080/",
          "height": 363
        }
      },
      "execution_count": 198,
      "outputs": [
        {
          "output_type": "execute_result",
          "data": {
            "text/plain": [
              "   HP  Attack  Defense  Sp. Atk  Sp. Def  Speed\n",
              "0   2       2        2        5        4      4\n",
              "1   2       3        3        6        5      5\n",
              "2   3       4        4        8        7      7\n",
              "3   3       4        6       11        9      7\n",
              "4   1       2        2        4        2      6\n",
              "5   2       3        2        6        4      7\n",
              "6   3       4        3        9        6      9\n",
              "7   3       6        5       11        6      9\n",
              "8   3       5        3       14        9      9\n",
              "9   2       2        3        3        4      4"
            ],
            "text/html": [
              "\n",
              "  <div id=\"df-70691256-2106-4e08-bae1-fea76fd4af2b\">\n",
              "    <div class=\"colab-df-container\">\n",
              "      <div>\n",
              "<style scoped>\n",
              "    .dataframe tbody tr th:only-of-type {\n",
              "        vertical-align: middle;\n",
              "    }\n",
              "\n",
              "    .dataframe tbody tr th {\n",
              "        vertical-align: top;\n",
              "    }\n",
              "\n",
              "    .dataframe thead th {\n",
              "        text-align: right;\n",
              "    }\n",
              "</style>\n",
              "<table border=\"1\" class=\"dataframe\">\n",
              "  <thead>\n",
              "    <tr style=\"text-align: right;\">\n",
              "      <th></th>\n",
              "      <th>HP</th>\n",
              "      <th>Attack</th>\n",
              "      <th>Defense</th>\n",
              "      <th>Sp. Atk</th>\n",
              "      <th>Sp. Def</th>\n",
              "      <th>Speed</th>\n",
              "    </tr>\n",
              "  </thead>\n",
              "  <tbody>\n",
              "    <tr>\n",
              "      <th>0</th>\n",
              "      <td>2</td>\n",
              "      <td>2</td>\n",
              "      <td>2</td>\n",
              "      <td>5</td>\n",
              "      <td>4</td>\n",
              "      <td>4</td>\n",
              "    </tr>\n",
              "    <tr>\n",
              "      <th>1</th>\n",
              "      <td>2</td>\n",
              "      <td>3</td>\n",
              "      <td>3</td>\n",
              "      <td>6</td>\n",
              "      <td>5</td>\n",
              "      <td>5</td>\n",
              "    </tr>\n",
              "    <tr>\n",
              "      <th>2</th>\n",
              "      <td>3</td>\n",
              "      <td>4</td>\n",
              "      <td>4</td>\n",
              "      <td>8</td>\n",
              "      <td>7</td>\n",
              "      <td>7</td>\n",
              "    </tr>\n",
              "    <tr>\n",
              "      <th>3</th>\n",
              "      <td>3</td>\n",
              "      <td>4</td>\n",
              "      <td>6</td>\n",
              "      <td>11</td>\n",
              "      <td>9</td>\n",
              "      <td>7</td>\n",
              "    </tr>\n",
              "    <tr>\n",
              "      <th>4</th>\n",
              "      <td>1</td>\n",
              "      <td>2</td>\n",
              "      <td>2</td>\n",
              "      <td>4</td>\n",
              "      <td>2</td>\n",
              "      <td>6</td>\n",
              "    </tr>\n",
              "    <tr>\n",
              "      <th>5</th>\n",
              "      <td>2</td>\n",
              "      <td>3</td>\n",
              "      <td>2</td>\n",
              "      <td>6</td>\n",
              "      <td>4</td>\n",
              "      <td>7</td>\n",
              "    </tr>\n",
              "    <tr>\n",
              "      <th>6</th>\n",
              "      <td>3</td>\n",
              "      <td>4</td>\n",
              "      <td>3</td>\n",
              "      <td>9</td>\n",
              "      <td>6</td>\n",
              "      <td>9</td>\n",
              "    </tr>\n",
              "    <tr>\n",
              "      <th>7</th>\n",
              "      <td>3</td>\n",
              "      <td>6</td>\n",
              "      <td>5</td>\n",
              "      <td>11</td>\n",
              "      <td>6</td>\n",
              "      <td>9</td>\n",
              "    </tr>\n",
              "    <tr>\n",
              "      <th>8</th>\n",
              "      <td>3</td>\n",
              "      <td>5</td>\n",
              "      <td>3</td>\n",
              "      <td>14</td>\n",
              "      <td>9</td>\n",
              "      <td>9</td>\n",
              "    </tr>\n",
              "    <tr>\n",
              "      <th>9</th>\n",
              "      <td>2</td>\n",
              "      <td>2</td>\n",
              "      <td>3</td>\n",
              "      <td>3</td>\n",
              "      <td>4</td>\n",
              "      <td>4</td>\n",
              "    </tr>\n",
              "  </tbody>\n",
              "</table>\n",
              "</div>\n",
              "      <button class=\"colab-df-convert\" onclick=\"convertToInteractive('df-70691256-2106-4e08-bae1-fea76fd4af2b')\"\n",
              "              title=\"Convert this dataframe to an interactive table.\"\n",
              "              style=\"display:none;\">\n",
              "        \n",
              "  <svg xmlns=\"http://www.w3.org/2000/svg\" height=\"24px\"viewBox=\"0 0 24 24\"\n",
              "       width=\"24px\">\n",
              "    <path d=\"M0 0h24v24H0V0z\" fill=\"none\"/>\n",
              "    <path d=\"M18.56 5.44l.94 2.06.94-2.06 2.06-.94-2.06-.94-.94-2.06-.94 2.06-2.06.94zm-11 1L8.5 8.5l.94-2.06 2.06-.94-2.06-.94L8.5 2.5l-.94 2.06-2.06.94zm10 10l.94 2.06.94-2.06 2.06-.94-2.06-.94-.94-2.06-.94 2.06-2.06.94z\"/><path d=\"M17.41 7.96l-1.37-1.37c-.4-.4-.92-.59-1.43-.59-.52 0-1.04.2-1.43.59L10.3 9.45l-7.72 7.72c-.78.78-.78 2.05 0 2.83L4 21.41c.39.39.9.59 1.41.59.51 0 1.02-.2 1.41-.59l7.78-7.78 2.81-2.81c.8-.78.8-2.07 0-2.86zM5.41 20L4 18.59l7.72-7.72 1.47 1.35L5.41 20z\"/>\n",
              "  </svg>\n",
              "      </button>\n",
              "      \n",
              "  <style>\n",
              "    .colab-df-container {\n",
              "      display:flex;\n",
              "      flex-wrap:wrap;\n",
              "      gap: 12px;\n",
              "    }\n",
              "\n",
              "    .colab-df-convert {\n",
              "      background-color: #E8F0FE;\n",
              "      border: none;\n",
              "      border-radius: 50%;\n",
              "      cursor: pointer;\n",
              "      display: none;\n",
              "      fill: #1967D2;\n",
              "      height: 32px;\n",
              "      padding: 0 0 0 0;\n",
              "      width: 32px;\n",
              "    }\n",
              "\n",
              "    .colab-df-convert:hover {\n",
              "      background-color: #E2EBFA;\n",
              "      box-shadow: 0px 1px 2px rgba(60, 64, 67, 0.3), 0px 1px 3px 1px rgba(60, 64, 67, 0.15);\n",
              "      fill: #174EA6;\n",
              "    }\n",
              "\n",
              "    [theme=dark] .colab-df-convert {\n",
              "      background-color: #3B4455;\n",
              "      fill: #D2E3FC;\n",
              "    }\n",
              "\n",
              "    [theme=dark] .colab-df-convert:hover {\n",
              "      background-color: #434B5C;\n",
              "      box-shadow: 0px 1px 3px 1px rgba(0, 0, 0, 0.15);\n",
              "      filter: drop-shadow(0px 1px 2px rgba(0, 0, 0, 0.3));\n",
              "      fill: #FFFFFF;\n",
              "    }\n",
              "  </style>\n",
              "\n",
              "      <script>\n",
              "        const buttonEl =\n",
              "          document.querySelector('#df-70691256-2106-4e08-bae1-fea76fd4af2b button.colab-df-convert');\n",
              "        buttonEl.style.display =\n",
              "          google.colab.kernel.accessAllowed ? 'block' : 'none';\n",
              "\n",
              "        async function convertToInteractive(key) {\n",
              "          const element = document.querySelector('#df-70691256-2106-4e08-bae1-fea76fd4af2b');\n",
              "          const dataTable =\n",
              "            await google.colab.kernel.invokeFunction('convertToInteractive',\n",
              "                                                     [key], {});\n",
              "          if (!dataTable) return;\n",
              "\n",
              "          const docLinkHtml = 'Like what you see? Visit the ' +\n",
              "            '<a target=\"_blank\" href=https://colab.research.google.com/notebooks/data_table.ipynb>data table notebook</a>'\n",
              "            + ' to learn more about interactive tables.';\n",
              "          element.innerHTML = '';\n",
              "          dataTable['output_type'] = 'display_data';\n",
              "          await google.colab.output.renderOutput(dataTable, element);\n",
              "          const docLink = document.createElement('div');\n",
              "          docLink.innerHTML = docLinkHtml;\n",
              "          element.appendChild(docLink);\n",
              "        }\n",
              "      </script>\n",
              "    </div>\n",
              "  </div>\n",
              "  "
            ]
          },
          "metadata": {},
          "execution_count": 198
        }
      ]
    },
    {
      "cell_type": "code",
      "source": [
        "#Normalizar los datos\n",
        "from sklearn.preprocessing import StandardScaler"
      ],
      "metadata": {
        "id": "XDIt95fww7jZ"
      },
      "execution_count": 199,
      "outputs": []
    },
    {
      "cell_type": "code",
      "source": [
        "scaler=StandardScaler()    #calcula el valor medio y varianza de las características\n",
        "scaler.fit(pokemonDatax)     #calcula la media para poder hacer la transformaciom\n",
        "print(scaler.mean_)   "
      ],
      "metadata": {
        "id": "MkpTIZEsxEUg",
        "outputId": "0a433344-9cd3-489d-cd95-2679a04ac56b",
        "colab": {
          "base_uri": "https://localhost:8080/"
        }
      },
      "execution_count": 200,
      "outputs": [
        {
          "output_type": "stream",
          "name": "stdout",
          "text": [
            "[2.83568678 3.36071887 3.06803594 5.51604621 4.4338896  6.06418485]\n"
          ]
        }
      ]
    },
    {
      "cell_type": "code",
      "source": [
        "#Ajuste a los datos y luego transfórmelos.\n",
        "pokemonDatax=scaler.fit_transform(pokemonDatax)  \n",
        "pokemonDatax"
      ],
      "metadata": {
        "id": "rFebGREmxH-_",
        "outputId": "597069ca-00fe-4150-d931-cf169eca718d",
        "colab": {
          "base_uri": "https://localhost:8080/"
        }
      },
      "execution_count": 201,
      "outputs": [
        {
          "output_type": "execute_result",
          "data": {
            "text/plain": [
              "array([[-0.64916416, -0.82764726, -0.68183529, -0.15755922, -0.15913226,\n",
              "        -0.70634257],\n",
              "       [-0.64916416, -0.2194046 , -0.04343422,  0.14776076,  0.20762523,\n",
              "        -0.36415298],\n",
              "       [ 0.12763904,  0.38883805,  0.59496685,  0.75840074,  0.94114022,\n",
              "         0.3202262 ],\n",
              "       ...,\n",
              "       [ 0.12763904,  0.99708071, -0.68183529,  2.28500068,  2.04141271,\n",
              "        -0.02196339],\n",
              "       [ 0.12763904,  2.21356602, -0.68183529,  2.89564065,  2.04141271,\n",
              "         0.3202262 ],\n",
              "       [ 0.12763904,  0.99708071,  1.23336793,  1.6743607 ,  0.57438273,\n",
              "        -0.02196339]])"
            ]
          },
          "metadata": {},
          "execution_count": 201
        }
      ]
    },
    {
      "cell_type": "code",
      "source": [
        "# implementa la mayoría de las funcionalidades necesarias para crear y utilizar modelos PCA.\n",
        "from sklearn.decomposition import PCA"
      ],
      "metadata": {
        "id": "d48lWOEj7B2q"
      },
      "execution_count": 202,
      "outputs": []
    },
    {
      "cell_type": "code",
      "source": [
        "# Instanciamos objeto PCA y aplicamos\n",
        "# pca, metodo pa simplificar la informacion\n",
        "pca = PCA(n_components=6)     #depende al numero de entradas\n",
        "pca.fit(pokemonDatax)           #obtiene los componentes principales\n",
        "print(pca.explained_variance_ratio_)  #muestra y convierte los datos con las nuevas dimensiones del PCA"
      ],
      "metadata": {
        "id": "ElBvSpjT7Coq",
        "outputId": "cf41b5c2-3bab-491a-f096-910d4051f3cc",
        "colab": {
          "base_uri": "https://localhost:8080/"
        }
      },
      "execution_count": 203,
      "outputs": [
        {
          "output_type": "stream",
          "name": "stdout",
          "text": [
            "[0.43834922 0.18629584 0.13408562 0.12019477 0.07357006 0.0475045 ]\n"
          ]
        }
      ]
    },
    {
      "cell_type": "code",
      "source": [
        "#combierte el dato boolean de la salida a numeros (1=true , 0 = false)\n",
        "pokemonDatay.loc[:,'Legendary'],categoriAge=pd.factorize(pokemonDatay['Legendary'],sort=True)"
      ],
      "metadata": {
        "id": "EBNRJTv97HYg",
        "outputId": "93cc398f-37a7-4d94-cf84-e66400abb382",
        "colab": {
          "base_uri": "https://localhost:8080/"
        }
      },
      "execution_count": 204,
      "outputs": [
        {
          "output_type": "stream",
          "name": "stderr",
          "text": [
            "/usr/local/lib/python3.7/dist-packages/pandas/core/indexing.py:1773: SettingWithCopyWarning: \n",
            "A value is trying to be set on a copy of a slice from a DataFrame.\n",
            "Try using .loc[row_indexer,col_indexer] = value instead\n",
            "\n",
            "See the caveats in the documentation: https://pandas.pydata.org/pandas-docs/stable/user_guide/indexing.html#returning-a-view-versus-a-copy\n",
            "  self._setitem_single_column(ilocs[0], value, pi)\n"
          ]
        }
      ]
    },
    {
      "cell_type": "markdown",
      "source": [
        "# ENTRENAMIENTO DE LA NEURONA\n",
        "Se dividira los datos en 80% de entrenamientos, 20% pruebas"
      ],
      "metadata": {
        "id": "YX9izj541hlJ"
      }
    },
    {
      "cell_type": "code",
      "source": [
        "import numpy as np\n",
        "from sklearn.model_selection import train_test_split #Dividir arreglos o matrices en subconjuntos aleatorios de train y test;"
      ],
      "metadata": {
        "id": "c4fR_fsW1TiU"
      },
      "execution_count": 205,
      "outputs": []
    },
    {
      "cell_type": "code",
      "source": [
        "#Convierta el DataFrame en una matriz NumPy.De forma predeterminada,\n",
        "# el dtype de la matriz devuelta será el dtype NumPy común de todos los tipos en el DataFrame\n",
        "pokemonDatay=pokemonDatay.to_numpy() \n",
        "x_train, x_test, y_train, y_test= train_test_split(pokemonDatax, pokemonDatay, test_size=0.3) #longitud de las matrices divididas"
      ],
      "metadata": {
        "id": "byChMo951Y9r"
      },
      "execution_count": 206,
      "outputs": []
    },
    {
      "cell_type": "code",
      "source": [
        "# Imprime los 5 primeros valores de xtrain,xtest,ytrain y ytest\n",
        "print(x_train[0:5], x_test[0:5], y_train[0:5], y_test[0:5]) "
      ],
      "metadata": {
        "id": "r_rgIAvJ1nba",
        "outputId": "8dbff933-202a-4fa3-a528-6c2502028ed8",
        "colab": {
          "base_uri": "https://localhost:8080/"
        }
      },
      "execution_count": 207,
      "outputs": [
        {
          "output_type": "stream",
          "name": "stdout",
          "text": [
            "[[ 0.12763904  0.38883805 -0.68183529  0.75840074 -0.52588976 -0.02196339]\n",
            " [-0.64916416 -0.2194046   1.23336793 -0.15755922  1.67465521  0.3202262 ]\n",
            " [ 2.45804864 -0.2194046  -0.04343422  0.75840074  0.94114022 -0.36415298]\n",
            " [-0.64916416 -0.82764726 -0.04343422 -0.7681992   0.57438273  1.00460539]\n",
            " [ 1.68124544  0.38883805  1.871769    0.45308075  3.1416852   1.34679498]] [[ 1.68124544  0.38883805 -0.04343422 -1.07351919  0.20762523  0.6624158 ]\n",
            " [-0.64916416 -2.04413257 -1.32023637 -1.68415916 -0.89264725  0.3202262 ]\n",
            " [-0.64916416  0.38883805 -0.04343422 -0.7681992  -0.89264725 -0.70634257]\n",
            " [ 0.90444224  0.38883805  1.871769    1.06372073 -0.89264725 -0.70634257]\n",
            " [ 0.12763904 -0.2194046  -0.68183529 -0.7681992   0.20762523  0.6624158 ]] [[0]\n",
            " [0]\n",
            " [0]\n",
            " [0]\n",
            " [1]] [[0]\n",
            " [0]\n",
            " [0]\n",
            " [0]\n",
            " [0]]\n"
          ]
        }
      ]
    },
    {
      "cell_type": "markdown",
      "source": [
        "#funcion sigmoide"
      ],
      "metadata": {
        "id": "wxOprQKvz8V0"
      }
    },
    {
      "cell_type": "code",
      "source": [
        "#  función sigmoidea es una función logística matemática, se usa comunmente en la función de activación en neuronas artificiales.\n",
        "def sigmoide(x): \n",
        "  return (1.0/(1.0+np.exp(-x))) # fórmula para la función sigmoidea \n",
        "def derivada(x): \n",
        "  return sigmoide(x)*(1.0-sigmoide(x)) #derivada de la funcion sigmoide"
      ],
      "metadata": {
        "id": "PBPrp9V7zsZ0"
      },
      "execution_count": 208,
      "outputs": []
    },
    {
      "cell_type": "code",
      "source": [
        "#Aqui se empieza a añadir neuronas en caso de q tu error es grande\n",
        "#En este caso se añade pesosCO4, tendenciasC04 (por si necesitas una neurona mas pero si necesitas mas neuronas incrementas el numero )\n",
        "def neurona(entrada, pesosCO1, tendenciasC01, pesosCO2, tendenciasCO2, pesosCO3, tendenciasCO3, pesosCO4, tendenciasC04, pesosCS, tendenciasCS):\n",
        "  \n",
        "  entradaNetaC1=np.dot(pesosCO1, np.transpose(entrada))-tendenciasC01\n",
        "  salidaC1=sigmoide(entradaNetaC1)\n",
        "\n",
        "  entradaNetaC2 = np.dot(pesosCO2,salidaC1)-tendenciasCO2\n",
        "  salidaC2=sigmoide(entradaNetaC2)\n",
        "\n",
        "  entradaNetaC3 = np.dot(pesosCO3,salidaC2)-tendenciasCO3\n",
        "  salidaC3=sigmoide(entradaNetaC3)\n",
        "\n",
        "  #de aqui para abajo copias lo mismo de arriba y reemplazas entradaNetaC3 a entradaNetaC4, lo mismo con pesosCO3, tendenciasCO3,  salidaC3 a C04\n",
        "  # (pesosCO3,salidaC2) AQUI! salidaC2 cambia a salidaC3... es tomar la salida de la anterior neurona\n",
        "  entradaNetaC4 = np.dot(pesosCO4,salidaC3)-tendenciasC04\n",
        "  salidaC4=sigmoide(entradaNetaC4)\n",
        "\n",
        "\n",
        "  entradaNetaCS = np.dot(pesosCS,salidaC4)-tendenciasCS  #aqui la salidaC3 lo cambias por la salida de la ultima neurona q has agregado \n",
        "  salida=sigmoide(entradaNetaCS) \n",
        "\n",
        "  return salida, entradaNetaCS, entradaNetaC4, entradaNetaC3, entradaNetaC2, entradaNetaC1   #aqui agregas otra entradaNetaCx   #x=neurona q agregastes\n",
        "# el algoritmo recibe\n",
        "# FacorAprendizaje: que tanto se permite el cambio en los pesos w(t) = e*error'f'(neta)*xj\n",
        "# error: un valor de error que permitimos\n",
        "# entradas: el conjunto de entradas que se van a trabajar \n",
        "# salidas: salidas esperadas\n",
        "# max-it: el numero de iteraciones que prmitimos\n",
        "# alpha: el valor de incremento del factor de aprendzaje\n",
        "# rho: El valor de decremento del factor de aprendizaje\n",
        "# neuronasC1: numero de neuronas en la capa oculta 1\n",
        "# neuronasC2: numero de neuronas en la capa oculta 2\n",
        "# neuronasC3: numero de neuronas en la capa oculta 3\n",
        "def backpropagation(entradas, salidas,factorAprendizaje, error, max_it, alpha, rho, neuronasC1, neuronasC2, neuronasC3, neuronasC4):#aqui agregas las neuronas vas agregar por ejem neuronaC4\n",
        "\n",
        "  # tiene 4 neuronas y como tres entradas tenemos una matriz de 4x3\n",
        "  pesosCO1=2*np.random.rand(neuronasC1,entradas.shape[1])-1\n",
        "  tendenciasC1=2*np.random.rand(neuronasC1)-1\n",
        "\n",
        "  # pesos capa oculta 2\n",
        "  # la capa oculta 2 tiene 2 neuronas y recive las salidas de 3 neuronas en la capa oculta 1\n",
        "  # genera una matriz de 2x3\n",
        "  pesosCO2=2*np.random.rand(neuronasC2,neuronasC1)-1\n",
        "  tendenciasC2=2*np.random.rand(neuronasC2)-1\n",
        "\n",
        "  # capa oculta 3\n",
        "  pesosCO3=2*np.random.rand(neuronasC3,neuronasC2)-1\n",
        "  tendenciasC3=2*np.random.rand(neuronasC3)-1\n",
        "\n",
        "  #AQUI abajo AGREGAS OTRA CAPA, copias el codigo q arriba y cambias pesosC03, tendeciasC3, neuronasC3 por C4 \n",
        "  # (neuronasC3,neuronasC2) aqui cambias neuronasC2 por C3 \n",
        "\n",
        "  #capa oculta 4 \n",
        "  pesosCO4=2*np.random.rand(neuronasC4,neuronasC3)-1\n",
        "  tendenciasC4=2*np.random.rand(neuronasC4)-1\n",
        "\n",
        "\n",
        "  # Generamos los pesos de la capa de salida, 1 salida (1 neurona) y tenemos 2 entradas que vienen de la capa oculta 2\n",
        "  pesosCS = 2*np.random.rand(neuronasC4)-1    #IMPORTANTE! aqui cambias neurnasC3 por la ULTIMA NEURONA q agregaste \n",
        "  tendenciasCS=2*np.random.rand(1)-1\n",
        "  it=0\n",
        "  errorVec=[]\n",
        "  errorAnt=float('inf')\n",
        "  while(it<max_it):\n",
        "    it+=1\n",
        "    errorIt=0\n",
        "    for i in range(0, entradas.shape[0]):\n",
        "      ent=entradas[i]\n",
        "      t=salidas[i]\n",
        "      y,entradaNetaCS, entradaNetaC4, entradaNetaC3, entradaNetaC2, entradaNetaC1=neurona(  #IMPORTANTEEE..  entradaNetaCx\n",
        "          ent, pesosCO1, tendenciasC1, pesosCO2, tendenciasC2,pesosCO3, tendenciasC3, pesosCO4, tendenciasC4, pesosCS, tendenciasCS #IMPORTANTEEE..  pesosCOx, tendenciasCx\n",
        "        )\n",
        "#CS =capas de salidas \n",
        "      errorIt+=np.power(t-y,2)/2.0\n",
        "\n",
        "    errorVec.append(errorIt)\n",
        "    for i in range(0, entradas.shape[0]):\n",
        "      ent=entradas[i]\n",
        "      t=salidas[i]\n",
        "      y, entradaNetaCS, entradaNetaC4, entradaNetaC3, entradaNetaC2, entradaNetaC1 = neurona(   #AQUI! agrega entradaNetaCx.. las q sigas aumentando\n",
        "          ent, pesosCO1, tendenciasC1, pesosCO2, tendenciasC2, pesosCO3, tendenciasC3,pesosCO4, tendenciasC4, pesosCS, tendenciasCS   #aqui agregas pesosCO4, tendenciasC4 .. las q sigas aumentando\n",
        "      )\n",
        "\n",
        "   \n",
        "\n",
        "      # calcular el error en la capa salida\n",
        "      errorCS=(t-y)*derivada(entradaNetaCS)\n",
        "\n",
        "\n",
        "      #AQUIIII.. agregas calcular la capa oculta 4 o las q agregues y copias el codigo de abajo\n",
        "      #en vez de errorC3, entradaNetaC3 pones C4 o las q vas agregando\n",
        "\n",
        "      #la ultima capa q aumentamos toma el lugar de la capa de salida \n",
        "\n",
        "      # calcular la capa oculta 4\n",
        "      errorC4=0\n",
        "      for j in range(0,pesosCS.shape[0]):\n",
        "        errorC4+=pesosCS[j]*errorCS*derivada(entradaNetaC4[j])\n",
        "\n",
        "      # calcular la capa oculta 3\n",
        "      errorC3=0\n",
        "      for j in range(0,pesosCO4.shape[0]):\n",
        "        for k in range(0, pesosCO4.shape[1]):\n",
        "          errorC3 += pesosCO4[j][k]*errorC4*derivada(entradaNetaC3[k])\n",
        "\n",
        "      #calcular el error capa oculta 2\n",
        "      errorC2=0\n",
        "      for j in range(0,pesosCO3.shape[0]):\n",
        "        for k in range(0, pesosCO3.shape[1]):\n",
        "          errorC2 += pesosCO3[j][k]*errorC3*derivada(entradaNetaC2[k])\n",
        "\n",
        "      #Calcular el error de la capa oculta 1\n",
        "      errorC1=0\n",
        "      for j in range(0, pesosCO2.shape[0]):\n",
        "        for k in range(0, pesosCO2.shape[1]):\n",
        "          errorC1 += pesosCO2[j][k]*errorC2*derivada(entradaNetaC1[k])\n",
        "\n",
        "      # actualiza pesos\n",
        "      # cada salida\n",
        "      for j in range(0, pesosCS.shape[0]):\n",
        "        pesosCS[j]+=factorAprendizaje*errorCS*entradaNetaCS\n",
        "\n",
        "      #Actualizar las tendencias\n",
        "      for j in range(0,tendenciasCS.shape[0]):\n",
        "        tendenciasCS[j]+=factorAprendizaje*errorCS*(-1)\n",
        "\n",
        "\n",
        "      #IMPORTANTEEEEEEEEEEEEEEEEEEEEEEEEE aumentar peso y actualizar\n",
        "\n",
        "      #pesos capa oculta 4\n",
        "      for j in range(0, pesosCO4.shape[0]): #neurona de CO4\n",
        "        for k in range(0, pesosCO4.shape[1]): #Salida de la CO3\n",
        "          pesosCO4[j][k]+=factorAprendizaje*errorC4*entradaNetaC4[j]\n",
        "      # \n",
        "      # actualizar las tendencias 4\n",
        "      for j in range(0, tendenciasC4.shape[0]):\n",
        "        tendenciasC4[j]+=factorAprendizaje*errorC4*(-1)\n",
        "\n",
        "      \n",
        "      #pesos capa oculta 3\n",
        "      for j in range(0, pesosCO3.shape[0]): #neurona de CO3\n",
        "        for k in range(0, pesosCO3.shape[1]): #Salida de la CO2\n",
        "          pesosCO3[j][k]+=factorAprendizaje*errorC3*entradaNetaC3[j]\n",
        "      # \n",
        "      # actualizar las tendencias 3\n",
        "      for j in range(0, tendenciasC3.shape[0]):\n",
        "        tendenciasC3[j]+=factorAprendizaje*errorC3*(-1)\n",
        "\n",
        "      #pesos capa oculta 2\n",
        "      for j in range(0, pesosCO2.shape[0]): #neurona de CO2\n",
        "        for k in range(0, pesosCO2.shape[1]): #Salida de la CO1\n",
        "          pesosCO2[j][k]+=factorAprendizaje*errorC2*entradaNetaC2[j]\n",
        "      # \n",
        "      # actualizar las tendencias 2\n",
        "      for j in range(0, tendenciasC2.shape[0]):\n",
        "        tendenciasC2[j]+=factorAprendizaje*errorC2*(-1)\n",
        "\n",
        "      # Pesos capa oculta 1\n",
        "      for j in range(0, pesosCO1.shape[0]):\n",
        "        for k in range(0, pesosCO1.shape[1]):\n",
        "          pesosCO1[j][k]+=factorAprendizaje*errorC1*entradaNetaC1[j]\n",
        "\n",
        "      #Actualizar las tendencias 1\n",
        "      for j in range(0,tendenciasC1.shape[0]):\n",
        "        tendenciasC1[j]+=factorAprendizaje*errorC1*(-1)\n",
        "\n",
        "    if errorIt < errorAnt:\n",
        "      factorAprendizaje*=alpha\n",
        "  else:\n",
        "    factorAprendizaje*=rho\n",
        "  errorAnt=errorIt\n",
        "  return pesosCS, pesosCO1, pesosCO2, pesosCO3, pesosCO4, tendenciasC1, tendenciasC2, tendenciasC3, tendenciasC4, tendenciasCS, errorVec"
      ],
      "metadata": {
        "id": "FyVO13IjzM01"
      },
      "execution_count": 209,
      "outputs": []
    },
    {
      "cell_type": "code",
      "source": [
        "# parametros     \n",
        "neuronasC1=6\n",
        "neuronasC2=7 #2n+1 Regla de Kolmorogov\n",
        "neuronasC3=3\n",
        "neuronasC4=5\n",
        "factorAprendizaje=0.5\n",
        "alpha=1.05 # aumentar el factor de aprendizaje \n",
        "rho=0.95 #disminuir el factor de aprendizaje\n",
        "max_it=200\n",
        "error=0.5"
      ],
      "metadata": {
        "id": "1534BTUV3W2S"
      },
      "execution_count": 210,
      "outputs": []
    },
    {
      "cell_type": "code",
      "source": [
        "# x_train, x_test, y_train, y_test\n",
        "pesosCS, pesosCO1, pesosCO2, pesosCO3,pesosCO4, tc1, tc2, tc3, tc4, tcs, errorVec=backpropagation(\n",
        "    x_train, y_train,factorAprendizaje, error, max_it, alpha, rho, neuronasC1, neuronasC2, neuronasC3, neuronasC4)"
      ],
      "metadata": {
        "id": "D1RFOQyu3aQ1",
        "outputId": "4717d824-663f-47e5-9738-640906f12f38",
        "colab": {
          "base_uri": "https://localhost:8080/"
        }
      },
      "execution_count": 211,
      "outputs": [
        {
          "output_type": "stream",
          "name": "stderr",
          "text": [
            "/usr/local/lib/python3.7/dist-packages/ipykernel_launcher.py:3: RuntimeWarning: overflow encountered in exp\n",
            "  This is separate from the ipykernel package so we can avoid doing imports until\n"
          ]
        }
      ]
    },
    {
      "cell_type": "code",
      "source": [
        "import matplotlib.pyplot as plt\n",
        "plt.plot(errorVec)\n",
        "plt.title(\"Error de entrenamiento\")\n",
        "#sobreaprendizaje o over learning "
      ],
      "metadata": {
        "id": "LS-dwDkH4DoA",
        "outputId": "b4589ad2-5930-4c77-e788-76e9c63ac5cd",
        "colab": {
          "base_uri": "https://localhost:8080/",
          "height": 298
        }
      },
      "execution_count": 212,
      "outputs": [
        {
          "output_type": "execute_result",
          "data": {
            "text/plain": [
              "Text(0.5, 1.0, 'Error de entrenamiento')"
            ]
          },
          "metadata": {},
          "execution_count": 212
        },
        {
          "output_type": "display_data",
          "data": {
            "text/plain": [
              "<Figure size 432x288 with 1 Axes>"
            ],
            "image/png": "[encoded data removed]"
          },
          "metadata": {
            "needs_background": "light"
          }
        }
      ]
    },
    {
      "cell_type": "code",
      "source": [
        "import math\n",
        "def errorRNN(x,t):\n",
        "  error=0\n",
        "  emc=0\n",
        "  for i in range(0,x.shape[0]):\n",
        "    authuser=0\n",
        "    xi=x[i]\n",
        "    ti=t[i]   #añadir entradaNetaCx, pesosCOx, tcx---------------------------------------------------------\n",
        "    y,entredaNetaCS, entradaNetaC4, entradaNetaC3,entradaNetaC2,entradaNetaC1=neurona(xi,pesosCO1,tc1,pesosCO2,tc2, pesosCO3,tc3,pesosCO4,tc4, pesosCS, tcs)\n",
        "    \n",
        "    emc=pow((ti-y),2)/2\n",
        "    if int(round(y[0],0))!=ti:\n",
        "      error+=1\n",
        "\n",
        "  error=(error/x.shape[0])*100\n",
        "\n",
        "  return error, emc"
      ],
      "metadata": {
        "id": "aTpR8Zcd4I8T"
      },
      "execution_count": 213,
      "outputs": []
    },
    {
      "cell_type": "code",
      "source": [
        "#  llama la funcion y almacena \n",
        "error, emc=errorRNN(x_test, y_test)\n",
        "print(error,emc)"
      ],
      "metadata": {
        "id": "4oqRTWWH4NC1",
        "outputId": "a3dabf39-e369-4372-f372-f586b7c9ee02",
        "colab": {
          "base_uri": "https://localhost:8080/"
        }
      },
      "execution_count": 214,
      "outputs": [
        {
          "output_type": "stream",
          "name": "stdout",
          "text": [
            "7.6923076923076925 [1.64893152e-43]\n"
          ]
        },
        {
          "output_type": "stream",
          "name": "stderr",
          "text": [
            "/usr/local/lib/python3.7/dist-packages/ipykernel_launcher.py:3: RuntimeWarning: overflow encountered in exp\n",
            "  This is separate from the ipykernel package so we can avoid doing imports until\n"
          ]
        }
      ]
    },
    {
      "cell_type": "code",
      "source": [
        "#MLPClassifier solver es un algoritmo de opt. se añaden las neuronas \n",
        "from sklearn.neural_network import MLPClassifier\n",
        "clf=MLPClassifier(solver='lbfgs', alpha=1e-5,hidden_layer_sizes=(neuronasC1, neuronasC2, neuronasC3,neuronasC4),random_state=1)\n",
        "clf.fit(x_train, y_train)"
      ],
      "metadata": {
        "id": "AmlSp3Oq5Mdz",
        "outputId": "ba6f55cd-80bb-4898-8c31-f880fd9b9eb2",
        "colab": {
          "base_uri": "https://localhost:8080/"
        }
      },
      "execution_count": 215,
      "outputs": [
        {
          "output_type": "stream",
          "name": "stderr",
          "text": [
            "/usr/local/lib/python3.7/dist-packages/sklearn/neural_network/_multilayer_perceptron.py:1109: DataConversionWarning: A column-vector y was passed when a 1d array was expected. Please change the shape of y to (n_samples, ), for example using ravel().\n",
            "  y = column_or_1d(y, warn=True)\n",
            "/usr/local/lib/python3.7/dist-packages/sklearn/neural_network/_multilayer_perceptron.py:549: ConvergenceWarning: lbfgs failed to converge (status=1):\n",
            "STOP: TOTAL NO. of ITERATIONS REACHED LIMIT.\n",
            "\n",
            "Increase the number of iterations (max_iter) or scale the data as shown in:\n",
            "    https://scikit-learn.org/stable/modules/preprocessing.html\n",
            "  self.n_iter_ = _check_optimize_result(\"lbfgs\", opt_res, self.max_iter)\n"
          ]
        },
        {
          "output_type": "execute_result",
          "data": {
            "text/plain": [
              "MLPClassifier(alpha=1e-05, hidden_layer_sizes=(6, 7, 3, 5), random_state=1,\n",
              "              solver='lbfgs')"
            ]
          },
          "metadata": {},
          "execution_count": 215
        }
      ]
    },
    {
      "cell_type": "code",
      "source": [
        "clf.score(x_test, y_test) \n",
        "# La mejor puntuación posible es 1,0 y puede ser negativa (porque el modelo puede ser arbitrariamente peor). \n",
        "# Un modelo constante que siempre prediga el valor esperado de y, sin tener en cuenta las características de entrada, \n",
        "# obtendría una puntuación R^2 de 0,0."
      ],
      "metadata": {
        "id": "5KXPca2C5QxN",
        "outputId": "6acd99d1-110b-4ca8-d37f-bfd63a4dc4c0",
        "colab": {
          "base_uri": "https://localhost:8080/"
        }
      },
      "execution_count": 216,
      "outputs": [
        {
          "output_type": "execute_result",
          "data": {
            "text/plain": [
              "0.9316239316239316"
            ]
          },
          "metadata": {},
          "execution_count": 216
        }
      ]
    }
  ]
}