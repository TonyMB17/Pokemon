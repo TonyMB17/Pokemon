{
  "nbformat": 4,
  "nbformat_minor": 0,
  "metadata": {
    "colab": {
      "name": "Pokemon.ipynb",
      "provenance": [],
      "include_colab_link": true
    },
    "kernelspec": {
      "name": "python3",
      "display_name": "Python 3"
    },
    "language_info": {
      "name": "python"
    }
  },
  "cells": [
    {
      "cell_type": "markdown",
      "metadata": {
        "id": "view-in-github",
        "colab_type": "text"
      },
      "source": [
        "<a href=\"https://colab.research.google.com/github/TonyMB17/Pokemon/blob/main/Pokemon.ipynb\" target=\"_parent\"><img src=\"https://colab.research.google.com/assets/colab-badge.svg\" alt=\"Open In Colab\"/></a>"
      ]
    },
    {
      "cell_type": "code",
      "source": [
        "import pandas as pd #libreria especializada en el manejo y análisis de estructuras de datos.\n",
        "pokemon = pd.read_csv('pokemon.csv')"
      ],
      "metadata": {
        "id": "oyqXHqgNeMmZ"
      },
      "execution_count": 111,
      "outputs": []
    },
    {
      "cell_type": "code",
      "source": [
        "pokemon.head()"
      ],
      "metadata": {
        "id": "H20W9KA0fVxF",
        "outputId": "de0cd54f-1090-47e4-ca8c-639f795c8321",
        "colab": {
          "base_uri": "https://localhost:8080/",
          "height": 206
        }
      },
      "execution_count": 112,
      "outputs": [
        {
          "output_type": "execute_result",
          "data": {
            "text/plain": [
              "   #                   Name Type 1  Type 2  Total  HP  Attack  Defense  \\\n",
              "0  1              Bulbasaur  Grass  Poison    318  45      49       49   \n",
              "1  2                Ivysaur  Grass  Poison    405  60      62       63   \n",
              "2  3               Venusaur  Grass  Poison    525  80      82       83   \n",
              "3  3  VenusaurMega Venusaur  Grass  Poison    625  80     100      123   \n",
              "4  4             Charmander   Fire     NaN    309  39      52       43   \n",
              "\n",
              "   Sp. Atk  Sp. Def  Speed  Generation  Legendary  \n",
              "0       65       65     45           1      False  \n",
              "1       80       80     60           1      False  \n",
              "2      100      100     80           1      False  \n",
              "3      122      120     80           1      False  \n",
              "4       60       50     65           1      False  "
            ],
            "text/html": [
              "\n",
              "  <div id=\"df-5a5cfed8-dea5-4ce6-858d-400ebb73a933\">\n",
              "    <div class=\"colab-df-container\">\n",
              "      <div>\n",
              "<style scoped>\n",
              "    .dataframe tbody tr th:only-of-type {\n",
              "        vertical-align: middle;\n",
              "    }\n",
              "\n",
              "    .dataframe tbody tr th {\n",
              "        vertical-align: top;\n",
              "    }\n",
              "\n",
              "    .dataframe thead th {\n",
              "        text-align: right;\n",
              "    }\n",
              "</style>\n",
              "<table border=\"1\" class=\"dataframe\">\n",
              "  <thead>\n",
              "    <tr style=\"text-align: right;\">\n",
              "      <th></th>\n",
              "      <th>#</th>\n",
              "      <th>Name</th>\n",
              "      <th>Type 1</th>\n",
              "      <th>Type 2</th>\n",
              "      <th>Total</th>\n",
              "      <th>HP</th>\n",
              "      <th>Attack</th>\n",
              "      <th>Defense</th>\n",
              "      <th>Sp. Atk</th>\n",
              "      <th>Sp. Def</th>\n",
              "      <th>Speed</th>\n",
              "      <th>Generation</th>\n",
              "      <th>Legendary</th>\n",
              "    </tr>\n",
              "  </thead>\n",
              "  <tbody>\n",
              "    <tr>\n",
              "      <th>0</th>\n",
              "      <td>1</td>\n",
              "      <td>Bulbasaur</td>\n",
              "      <td>Grass</td>\n",
              "      <td>Poison</td>\n",
              "      <td>318</td>\n",
              "      <td>45</td>\n",
              "      <td>49</td>\n",
              "      <td>49</td>\n",
              "      <td>65</td>\n",
              "      <td>65</td>\n",
              "      <td>45</td>\n",
              "      <td>1</td>\n",
              "      <td>False</td>\n",
              "    </tr>\n",
              "    <tr>\n",
              "      <th>1</th>\n",
              "      <td>2</td>\n",
              "      <td>Ivysaur</td>\n",
              "      <td>Grass</td>\n",
              "      <td>Poison</td>\n",
              "      <td>405</td>\n",
              "      <td>60</td>\n",
              "      <td>62</td>\n",
              "      <td>63</td>\n",
              "      <td>80</td>\n",
              "      <td>80</td>\n",
              "      <td>60</td>\n",
              "      <td>1</td>\n",
              "      <td>False</td>\n",
              "    </tr>\n",
              "    <tr>\n",
              "      <th>2</th>\n",
              "      <td>3</td>\n",
              "      <td>Venusaur</td>\n",
              "      <td>Grass</td>\n",
              "      <td>Poison</td>\n",
              "      <td>525</td>\n",
              "      <td>80</td>\n",
              "      <td>82</td>\n",
              "      <td>83</td>\n",
              "      <td>100</td>\n",
              "      <td>100</td>\n",
              "      <td>80</td>\n",
              "      <td>1</td>\n",
              "      <td>False</td>\n",
              "    </tr>\n",
              "    <tr>\n",
              "      <th>3</th>\n",
              "      <td>3</td>\n",
              "      <td>VenusaurMega Venusaur</td>\n",
              "      <td>Grass</td>\n",
              "      <td>Poison</td>\n",
              "      <td>625</td>\n",
              "      <td>80</td>\n",
              "      <td>100</td>\n",
              "      <td>123</td>\n",
              "      <td>122</td>\n",
              "      <td>120</td>\n",
              "      <td>80</td>\n",
              "      <td>1</td>\n",
              "      <td>False</td>\n",
              "    </tr>\n",
              "    <tr>\n",
              "      <th>4</th>\n",
              "      <td>4</td>\n",
              "      <td>Charmander</td>\n",
              "      <td>Fire</td>\n",
              "      <td>NaN</td>\n",
              "      <td>309</td>\n",
              "      <td>39</td>\n",
              "      <td>52</td>\n",
              "      <td>43</td>\n",
              "      <td>60</td>\n",
              "      <td>50</td>\n",
              "      <td>65</td>\n",
              "      <td>1</td>\n",
              "      <td>False</td>\n",
              "    </tr>\n",
              "  </tbody>\n",
              "</table>\n",
              "</div>\n",
              "      <button class=\"colab-df-convert\" onclick=\"convertToInteractive('df-5a5cfed8-dea5-4ce6-858d-400ebb73a933')\"\n",
              "              title=\"Convert this dataframe to an interactive table.\"\n",
              "              style=\"display:none;\">\n",
              "        \n",
              "  <svg xmlns=\"http://www.w3.org/2000/svg\" height=\"24px\"viewBox=\"0 0 24 24\"\n",
              "       width=\"24px\">\n",
              "    <path d=\"M0 0h24v24H0V0z\" fill=\"none\"/>\n",
              "    <path d=\"M18.56 5.44l.94 2.06.94-2.06 2.06-.94-2.06-.94-.94-2.06-.94 2.06-2.06.94zm-11 1L8.5 8.5l.94-2.06 2.06-.94-2.06-.94L8.5 2.5l-.94 2.06-2.06.94zm10 10l.94 2.06.94-2.06 2.06-.94-2.06-.94-.94-2.06-.94 2.06-2.06.94z\"/><path d=\"M17.41 7.96l-1.37-1.37c-.4-.4-.92-.59-1.43-.59-.52 0-1.04.2-1.43.59L10.3 9.45l-7.72 7.72c-.78.78-.78 2.05 0 2.83L4 21.41c.39.39.9.59 1.41.59.51 0 1.02-.2 1.41-.59l7.78-7.78 2.81-2.81c.8-.78.8-2.07 0-2.86zM5.41 20L4 18.59l7.72-7.72 1.47 1.35L5.41 20z\"/>\n",
              "  </svg>\n",
              "      </button>\n",
              "      \n",
              "  <style>\n",
              "    .colab-df-container {\n",
              "      display:flex;\n",
              "      flex-wrap:wrap;\n",
              "      gap: 12px;\n",
              "    }\n",
              "\n",
              "    .colab-df-convert {\n",
              "      background-color: #E8F0FE;\n",
              "      border: none;\n",
              "      border-radius: 50%;\n",
              "      cursor: pointer;\n",
              "      display: none;\n",
              "      fill: #1967D2;\n",
              "      height: 32px;\n",
              "      padding: 0 0 0 0;\n",
              "      width: 32px;\n",
              "    }\n",
              "\n",
              "    .colab-df-convert:hover {\n",
              "      background-color: #E2EBFA;\n",
              "      box-shadow: 0px 1px 2px rgba(60, 64, 67, 0.3), 0px 1px 3px 1px rgba(60, 64, 67, 0.15);\n",
              "      fill: #174EA6;\n",
              "    }\n",
              "\n",
              "    [theme=dark] .colab-df-convert {\n",
              "      background-color: #3B4455;\n",
              "      fill: #D2E3FC;\n",
              "    }\n",
              "\n",
              "    [theme=dark] .colab-df-convert:hover {\n",
              "      background-color: #434B5C;\n",
              "      box-shadow: 0px 1px 3px 1px rgba(0, 0, 0, 0.15);\n",
              "      filter: drop-shadow(0px 1px 2px rgba(0, 0, 0, 0.3));\n",
              "      fill: #FFFFFF;\n",
              "    }\n",
              "  </style>\n",
              "\n",
              "      <script>\n",
              "        const buttonEl =\n",
              "          document.querySelector('#df-5a5cfed8-dea5-4ce6-858d-400ebb73a933 button.colab-df-convert');\n",
              "        buttonEl.style.display =\n",
              "          google.colab.kernel.accessAllowed ? 'block' : 'none';\n",
              "\n",
              "        async function convertToInteractive(key) {\n",
              "          const element = document.querySelector('#df-5a5cfed8-dea5-4ce6-858d-400ebb73a933');\n",
              "          const dataTable =\n",
              "            await google.colab.kernel.invokeFunction('convertToInteractive',\n",
              "                                                     [key], {});\n",
              "          if (!dataTable) return;\n",
              "\n",
              "          const docLinkHtml = 'Like what you see? Visit the ' +\n",
              "            '<a target=\"_blank\" href=https://colab.research.google.com/notebooks/data_table.ipynb>data table notebook</a>'\n",
              "            + ' to learn more about interactive tables.';\n",
              "          element.innerHTML = '';\n",
              "          dataTable['output_type'] = 'display_data';\n",
              "          await google.colab.output.renderOutput(dataTable, element);\n",
              "          const docLink = document.createElement('div');\n",
              "          docLink.innerHTML = docLinkHtml;\n",
              "          element.appendChild(docLink);\n",
              "        }\n",
              "      </script>\n",
              "    </div>\n",
              "  </div>\n",
              "  "
            ]
          },
          "metadata": {},
          "execution_count": 112
        }
      ]
    },
    {
      "cell_type": "code",
      "source": [
        "pd.unique(pokemon['Legendary'])#Mostrando los valores de pokemon legendario"
      ],
      "metadata": {
        "id": "nOmgYl-BgVhj",
        "outputId": "f44b8ab7-f8fa-4ed0-d81b-9d46a291edaf",
        "colab": {
          "base_uri": "https://localhost:8080/"
        }
      },
      "execution_count": 113,
      "outputs": [
        {
          "output_type": "execute_result",
          "data": {
            "text/plain": [
              "array([False,  True])"
            ]
          },
          "metadata": {},
          "execution_count": 113
        }
      ]
    },
    {
      "cell_type": "code",
      "source": [
        "pokemon.isna().sum()"
      ],
      "metadata": {
        "id": "GgIIKFY0gf67",
        "outputId": "bda46876-181d-44f7-a05c-32fcde41d6f0",
        "colab": {
          "base_uri": "https://localhost:8080/"
        }
      },
      "execution_count": 114,
      "outputs": [
        {
          "output_type": "execute_result",
          "data": {
            "text/plain": [
              "#               0\n",
              "Name            0\n",
              "Type 1          0\n",
              "Type 2        386\n",
              "Total           0\n",
              "HP              0\n",
              "Attack          0\n",
              "Defense         0\n",
              "Sp. Atk         0\n",
              "Sp. Def         0\n",
              "Speed           0\n",
              "Generation      0\n",
              "Legendary       0\n",
              "dtype: int64"
            ]
          },
          "metadata": {},
          "execution_count": 114
        }
      ]
    },
    {
      "cell_type": "code",
      "source": [
        "#pokemon faltante\n",
        "print(pokemon[pokemon['Name'].isnull()])"
      ],
      "metadata": {
        "id": "8t4EL1vahmQm",
        "outputId": "11924032-7620-411d-e080-ac13000bde58",
        "colab": {
          "base_uri": "https://localhost:8080/"
        }
      },
      "execution_count": 115,
      "outputs": [
        {
          "output_type": "stream",
          "name": "stdout",
          "text": [
            "Empty DataFrame\n",
            "Columns: [#, Name, Type 1, Type 2, Total, HP, Attack, Defense, Sp. Atk, Sp. Def, Speed, Generation, Legendary]\n",
            "Index: []\n"
          ]
        }
      ]
    },
    {
      "cell_type": "code",
      "source": [
        "print(pokemon['Name'][61])\n",
        "print(pokemon['Name'][pokemon['Name'].isnull()])\n",
        "print(pokemon['Name'][63])"
      ],
      "metadata": {
        "id": "yrhhWKj0hwHC",
        "outputId": "61aab6c9-2c5e-4db6-c5e7-4d6206b2c966",
        "colab": {
          "base_uri": "https://localhost:8080/"
        }
      },
      "execution_count": 116,
      "outputs": [
        {
          "output_type": "stream",
          "name": "stdout",
          "text": [
            "Mankey\n",
            "Series([], Name: Name, dtype: object)\n",
            "Growlithe\n"
          ]
        }
      ]
    },
    {
      "cell_type": "code",
      "source": [
        "pokemon['Name'][62] = \"Primeape\" #llenando el campo con el naombre del pokemon faltante"
      ],
      "metadata": {
        "id": "B5bQiL8Bhy4_",
        "outputId": "f1740ce9-29fe-42a0-9dfb-3e9981e40e19",
        "colab": {
          "base_uri": "https://localhost:8080/"
        }
      },
      "execution_count": 117,
      "outputs": [
        {
          "output_type": "stream",
          "name": "stderr",
          "text": [
            "/usr/local/lib/python3.7/dist-packages/ipykernel_launcher.py:1: SettingWithCopyWarning: \n",
            "A value is trying to be set on a copy of a slice from a DataFrame\n",
            "\n",
            "See the caveats in the documentation: https://pandas.pydata.org/pandas-docs/stable/user_guide/indexing.html#returning-a-view-versus-a-copy\n",
            "  \"\"\"Entry point for launching an IPython kernel.\n"
          ]
        }
      ]
    },
    {
      "cell_type": "code",
      "source": [
        "#llenando los datos con null, \n",
        "pokemon[\"Type 2\"]=pokemon[\"Type 2\"].fillna(\"null\")"
      ],
      "metadata": {
        "id": "ly_8IpAMjFHn"
      },
      "execution_count": 118,
      "outputs": []
    },
    {
      "cell_type": "code",
      "source": [
        "pokemon.isna().sum()"
      ],
      "metadata": {
        "id": "WF_n2C1-jTJi",
        "outputId": "e34a1974-9d09-4524-9e84-6c0a8568425f",
        "colab": {
          "base_uri": "https://localhost:8080/"
        }
      },
      "execution_count": 119,
      "outputs": [
        {
          "output_type": "execute_result",
          "data": {
            "text/plain": [
              "#             0\n",
              "Name          0\n",
              "Type 1        0\n",
              "Type 2        0\n",
              "Total         0\n",
              "HP            0\n",
              "Attack        0\n",
              "Defense       0\n",
              "Sp. Atk       0\n",
              "Sp. Def       0\n",
              "Speed         0\n",
              "Generation    0\n",
              "Legendary     0\n",
              "dtype: int64"
            ]
          },
          "metadata": {},
          "execution_count": 119
        }
      ]
    },
    {
      "cell_type": "code",
      "source": [
        "# Tomando columnas importantes\n",
        "pokemon=pokemon[['HP','Attack','Defense','Sp. Atk','Sp. Def','Speed','Legendary']] \n",
        "\n",
        "# Este elimina las filas que tengan algun nulo, dropna elimina datos nulos\n",
        "pokemon=pokemon.dropna() \n",
        "#Luego eliminados los duplicados\n",
        "pokemon=pokemon.drop_duplicates() "
      ],
      "metadata": {
        "id": "YlavsHlHmIES"
      },
      "execution_count": 120,
      "outputs": []
    },
    {
      "cell_type": "code",
      "source": [
        "pokemon.head()"
      ],
      "metadata": {
        "id": "Z4nIfJy3mLCT",
        "outputId": "2a2fc750-222b-490d-a115-1dc12f7b4434",
        "colab": {
          "base_uri": "https://localhost:8080/",
          "height": 206
        }
      },
      "execution_count": 121,
      "outputs": [
        {
          "output_type": "execute_result",
          "data": {
            "text/plain": [
              "   HP  Attack  Defense  Sp. Atk  Sp. Def  Speed  Legendary\n",
              "0  45      49       49       65       65     45      False\n",
              "1  60      62       63       80       80     60      False\n",
              "2  80      82       83      100      100     80      False\n",
              "3  80     100      123      122      120     80      False\n",
              "4  39      52       43       60       50     65      False"
            ],
            "text/html": [
              "\n",
              "  <div id=\"df-cb4b951e-2099-4762-b3e3-83b0b9481929\">\n",
              "    <div class=\"colab-df-container\">\n",
              "      <div>\n",
              "<style scoped>\n",
              "    .dataframe tbody tr th:only-of-type {\n",
              "        vertical-align: middle;\n",
              "    }\n",
              "\n",
              "    .dataframe tbody tr th {\n",
              "        vertical-align: top;\n",
              "    }\n",
              "\n",
              "    .dataframe thead th {\n",
              "        text-align: right;\n",
              "    }\n",
              "</style>\n",
              "<table border=\"1\" class=\"dataframe\">\n",
              "  <thead>\n",
              "    <tr style=\"text-align: right;\">\n",
              "      <th></th>\n",
              "      <th>HP</th>\n",
              "      <th>Attack</th>\n",
              "      <th>Defense</th>\n",
              "      <th>Sp. Atk</th>\n",
              "      <th>Sp. Def</th>\n",
              "      <th>Speed</th>\n",
              "      <th>Legendary</th>\n",
              "    </tr>\n",
              "  </thead>\n",
              "  <tbody>\n",
              "    <tr>\n",
              "      <th>0</th>\n",
              "      <td>45</td>\n",
              "      <td>49</td>\n",
              "      <td>49</td>\n",
              "      <td>65</td>\n",
              "      <td>65</td>\n",
              "      <td>45</td>\n",
              "      <td>False</td>\n",
              "    </tr>\n",
              "    <tr>\n",
              "      <th>1</th>\n",
              "      <td>60</td>\n",
              "      <td>62</td>\n",
              "      <td>63</td>\n",
              "      <td>80</td>\n",
              "      <td>80</td>\n",
              "      <td>60</td>\n",
              "      <td>False</td>\n",
              "    </tr>\n",
              "    <tr>\n",
              "      <th>2</th>\n",
              "      <td>80</td>\n",
              "      <td>82</td>\n",
              "      <td>83</td>\n",
              "      <td>100</td>\n",
              "      <td>100</td>\n",
              "      <td>80</td>\n",
              "      <td>False</td>\n",
              "    </tr>\n",
              "    <tr>\n",
              "      <th>3</th>\n",
              "      <td>80</td>\n",
              "      <td>100</td>\n",
              "      <td>123</td>\n",
              "      <td>122</td>\n",
              "      <td>120</td>\n",
              "      <td>80</td>\n",
              "      <td>False</td>\n",
              "    </tr>\n",
              "    <tr>\n",
              "      <th>4</th>\n",
              "      <td>39</td>\n",
              "      <td>52</td>\n",
              "      <td>43</td>\n",
              "      <td>60</td>\n",
              "      <td>50</td>\n",
              "      <td>65</td>\n",
              "      <td>False</td>\n",
              "    </tr>\n",
              "  </tbody>\n",
              "</table>\n",
              "</div>\n",
              "      <button class=\"colab-df-convert\" onclick=\"convertToInteractive('df-cb4b951e-2099-4762-b3e3-83b0b9481929')\"\n",
              "              title=\"Convert this dataframe to an interactive table.\"\n",
              "              style=\"display:none;\">\n",
              "        \n",
              "  <svg xmlns=\"http://www.w3.org/2000/svg\" height=\"24px\"viewBox=\"0 0 24 24\"\n",
              "       width=\"24px\">\n",
              "    <path d=\"M0 0h24v24H0V0z\" fill=\"none\"/>\n",
              "    <path d=\"M18.56 5.44l.94 2.06.94-2.06 2.06-.94-2.06-.94-.94-2.06-.94 2.06-2.06.94zm-11 1L8.5 8.5l.94-2.06 2.06-.94-2.06-.94L8.5 2.5l-.94 2.06-2.06.94zm10 10l.94 2.06.94-2.06 2.06-.94-2.06-.94-.94-2.06-.94 2.06-2.06.94z\"/><path d=\"M17.41 7.96l-1.37-1.37c-.4-.4-.92-.59-1.43-.59-.52 0-1.04.2-1.43.59L10.3 9.45l-7.72 7.72c-.78.78-.78 2.05 0 2.83L4 21.41c.39.39.9.59 1.41.59.51 0 1.02-.2 1.41-.59l7.78-7.78 2.81-2.81c.8-.78.8-2.07 0-2.86zM5.41 20L4 18.59l7.72-7.72 1.47 1.35L5.41 20z\"/>\n",
              "  </svg>\n",
              "      </button>\n",
              "      \n",
              "  <style>\n",
              "    .colab-df-container {\n",
              "      display:flex;\n",
              "      flex-wrap:wrap;\n",
              "      gap: 12px;\n",
              "    }\n",
              "\n",
              "    .colab-df-convert {\n",
              "      background-color: #E8F0FE;\n",
              "      border: none;\n",
              "      border-radius: 50%;\n",
              "      cursor: pointer;\n",
              "      display: none;\n",
              "      fill: #1967D2;\n",
              "      height: 32px;\n",
              "      padding: 0 0 0 0;\n",
              "      width: 32px;\n",
              "    }\n",
              "\n",
              "    .colab-df-convert:hover {\n",
              "      background-color: #E2EBFA;\n",
              "      box-shadow: 0px 1px 2px rgba(60, 64, 67, 0.3), 0px 1px 3px 1px rgba(60, 64, 67, 0.15);\n",
              "      fill: #174EA6;\n",
              "    }\n",
              "\n",
              "    [theme=dark] .colab-df-convert {\n",
              "      background-color: #3B4455;\n",
              "      fill: #D2E3FC;\n",
              "    }\n",
              "\n",
              "    [theme=dark] .colab-df-convert:hover {\n",
              "      background-color: #434B5C;\n",
              "      box-shadow: 0px 1px 3px 1px rgba(0, 0, 0, 0.15);\n",
              "      filter: drop-shadow(0px 1px 2px rgba(0, 0, 0, 0.3));\n",
              "      fill: #FFFFFF;\n",
              "    }\n",
              "  </style>\n",
              "\n",
              "      <script>\n",
              "        const buttonEl =\n",
              "          document.querySelector('#df-cb4b951e-2099-4762-b3e3-83b0b9481929 button.colab-df-convert');\n",
              "        buttonEl.style.display =\n",
              "          google.colab.kernel.accessAllowed ? 'block' : 'none';\n",
              "\n",
              "        async function convertToInteractive(key) {\n",
              "          const element = document.querySelector('#df-cb4b951e-2099-4762-b3e3-83b0b9481929');\n",
              "          const dataTable =\n",
              "            await google.colab.kernel.invokeFunction('convertToInteractive',\n",
              "                                                     [key], {});\n",
              "          if (!dataTable) return;\n",
              "\n",
              "          const docLinkHtml = 'Like what you see? Visit the ' +\n",
              "            '<a target=\"_blank\" href=https://colab.research.google.com/notebooks/data_table.ipynb>data table notebook</a>'\n",
              "            + ' to learn more about interactive tables.';\n",
              "          element.innerHTML = '';\n",
              "          dataTable['output_type'] = 'display_data';\n",
              "          await google.colab.output.renderOutput(dataTable, element);\n",
              "          const docLink = document.createElement('div');\n",
              "          docLink.innerHTML = docLinkHtml;\n",
              "          element.appendChild(docLink);\n",
              "        }\n",
              "      </script>\n",
              "    </div>\n",
              "  </div>\n",
              "  "
            ]
          },
          "metadata": {},
          "execution_count": 121
        }
      ]
    },
    {
      "cell_type": "code",
      "source": [
        "pokemonDatax=pokemon[['HP','Attack','Defense','Sp. Atk','Sp. Def','Speed']]  #los datax son las datos de entradas\n",
        "pokemonDatay=pokemon[['Legendary']] #datay son los datos de salida\n",
        "print(pokemonDatay.head(),\"\\n\", pokemonDatax.head())  #mostrar "
      ],
      "metadata": {
        "id": "FZQyQO64m-iy",
        "outputId": "90882f9e-05b7-4f5d-8fad-dbd54398f616",
        "colab": {
          "base_uri": "https://localhost:8080/"
        }
      },
      "execution_count": 122,
      "outputs": [
        {
          "output_type": "stream",
          "name": "stdout",
          "text": [
            "   Legendary\n",
            "0      False\n",
            "1      False\n",
            "2      False\n",
            "3      False\n",
            "4      False \n",
            "    HP  Attack  Defense  Sp. Atk  Sp. Def  Speed\n",
            "0  45      49       49       65       65     45\n",
            "1  60      62       63       80       80     60\n",
            "2  80      82       83      100      100     80\n",
            "3  80     100      123      122      120     80\n",
            "4  39      52       43       60       50     65\n"
          ]
        }
      ]
    },
    {
      "cell_type": "code",
      "source": [
        "pokemon.describe() #El método se utiliza para calcular algunos datos estadísticos "
      ],
      "metadata": {
        "id": "VyHkX3XhoKV2",
        "outputId": "a89f7908-1c62-44f1-97e9-3ee2ec459973",
        "colab": {
          "base_uri": "https://localhost:8080/",
          "height": 300
        }
      },
      "execution_count": 123,
      "outputs": [
        {
          "output_type": "execute_result",
          "data": {
            "text/plain": [
              "               HP      Attack     Defense     Sp. Atk     Sp. Def       Speed\n",
              "count  779.000000  779.000000  779.000000  779.000000  779.000000  779.000000\n",
              "mean    69.168164   79.021823   73.657253   72.287548   71.653402   67.761232\n",
              "std     25.589979   32.646400   31.375565   32.720001   27.891371   29.067415\n",
              "min      1.000000    5.000000    5.000000   10.000000   20.000000    5.000000\n",
              "25%     50.000000   55.000000   50.000000   48.000000   50.000000   45.000000\n",
              "50%     65.000000   75.000000   70.000000   65.000000   70.000000   65.000000\n",
              "75%     80.000000  100.000000   90.000000   94.000000   90.000000   90.000000\n",
              "max    255.000000  190.000000  230.000000  194.000000  230.000000  180.000000"
            ],
            "text/html": [
              "\n",
              "  <div id=\"df-ef6ecb8e-309f-4f49-90e7-767fe567a1ea\">\n",
              "    <div class=\"colab-df-container\">\n",
              "      <div>\n",
              "<style scoped>\n",
              "    .dataframe tbody tr th:only-of-type {\n",
              "        vertical-align: middle;\n",
              "    }\n",
              "\n",
              "    .dataframe tbody tr th {\n",
              "        vertical-align: top;\n",
              "    }\n",
              "\n",
              "    .dataframe thead th {\n",
              "        text-align: right;\n",
              "    }\n",
              "</style>\n",
              "<table border=\"1\" class=\"dataframe\">\n",
              "  <thead>\n",
              "    <tr style=\"text-align: right;\">\n",
              "      <th></th>\n",
              "      <th>HP</th>\n",
              "      <th>Attack</th>\n",
              "      <th>Defense</th>\n",
              "      <th>Sp. Atk</th>\n",
              "      <th>Sp. Def</th>\n",
              "      <th>Speed</th>\n",
              "    </tr>\n",
              "  </thead>\n",
              "  <tbody>\n",
              "    <tr>\n",
              "      <th>count</th>\n",
              "      <td>779.000000</td>\n",
              "      <td>779.000000</td>\n",
              "      <td>779.000000</td>\n",
              "      <td>779.000000</td>\n",
              "      <td>779.000000</td>\n",
              "      <td>779.000000</td>\n",
              "    </tr>\n",
              "    <tr>\n",
              "      <th>mean</th>\n",
              "      <td>69.168164</td>\n",
              "      <td>79.021823</td>\n",
              "      <td>73.657253</td>\n",
              "      <td>72.287548</td>\n",
              "      <td>71.653402</td>\n",
              "      <td>67.761232</td>\n",
              "    </tr>\n",
              "    <tr>\n",
              "      <th>std</th>\n",
              "      <td>25.589979</td>\n",
              "      <td>32.646400</td>\n",
              "      <td>31.375565</td>\n",
              "      <td>32.720001</td>\n",
              "      <td>27.891371</td>\n",
              "      <td>29.067415</td>\n",
              "    </tr>\n",
              "    <tr>\n",
              "      <th>min</th>\n",
              "      <td>1.000000</td>\n",
              "      <td>5.000000</td>\n",
              "      <td>5.000000</td>\n",
              "      <td>10.000000</td>\n",
              "      <td>20.000000</td>\n",
              "      <td>5.000000</td>\n",
              "    </tr>\n",
              "    <tr>\n",
              "      <th>25%</th>\n",
              "      <td>50.000000</td>\n",
              "      <td>55.000000</td>\n",
              "      <td>50.000000</td>\n",
              "      <td>48.000000</td>\n",
              "      <td>50.000000</td>\n",
              "      <td>45.000000</td>\n",
              "    </tr>\n",
              "    <tr>\n",
              "      <th>50%</th>\n",
              "      <td>65.000000</td>\n",
              "      <td>75.000000</td>\n",
              "      <td>70.000000</td>\n",
              "      <td>65.000000</td>\n",
              "      <td>70.000000</td>\n",
              "      <td>65.000000</td>\n",
              "    </tr>\n",
              "    <tr>\n",
              "      <th>75%</th>\n",
              "      <td>80.000000</td>\n",
              "      <td>100.000000</td>\n",
              "      <td>90.000000</td>\n",
              "      <td>94.000000</td>\n",
              "      <td>90.000000</td>\n",
              "      <td>90.000000</td>\n",
              "    </tr>\n",
              "    <tr>\n",
              "      <th>max</th>\n",
              "      <td>255.000000</td>\n",
              "      <td>190.000000</td>\n",
              "      <td>230.000000</td>\n",
              "      <td>194.000000</td>\n",
              "      <td>230.000000</td>\n",
              "      <td>180.000000</td>\n",
              "    </tr>\n",
              "  </tbody>\n",
              "</table>\n",
              "</div>\n",
              "      <button class=\"colab-df-convert\" onclick=\"convertToInteractive('df-ef6ecb8e-309f-4f49-90e7-767fe567a1ea')\"\n",
              "              title=\"Convert this dataframe to an interactive table.\"\n",
              "              style=\"display:none;\">\n",
              "        \n",
              "  <svg xmlns=\"http://www.w3.org/2000/svg\" height=\"24px\"viewBox=\"0 0 24 24\"\n",
              "       width=\"24px\">\n",
              "    <path d=\"M0 0h24v24H0V0z\" fill=\"none\"/>\n",
              "    <path d=\"M18.56 5.44l.94 2.06.94-2.06 2.06-.94-2.06-.94-.94-2.06-.94 2.06-2.06.94zm-11 1L8.5 8.5l.94-2.06 2.06-.94-2.06-.94L8.5 2.5l-.94 2.06-2.06.94zm10 10l.94 2.06.94-2.06 2.06-.94-2.06-.94-.94-2.06-.94 2.06-2.06.94z\"/><path d=\"M17.41 7.96l-1.37-1.37c-.4-.4-.92-.59-1.43-.59-.52 0-1.04.2-1.43.59L10.3 9.45l-7.72 7.72c-.78.78-.78 2.05 0 2.83L4 21.41c.39.39.9.59 1.41.59.51 0 1.02-.2 1.41-.59l7.78-7.78 2.81-2.81c.8-.78.8-2.07 0-2.86zM5.41 20L4 18.59l7.72-7.72 1.47 1.35L5.41 20z\"/>\n",
              "  </svg>\n",
              "      </button>\n",
              "      \n",
              "  <style>\n",
              "    .colab-df-container {\n",
              "      display:flex;\n",
              "      flex-wrap:wrap;\n",
              "      gap: 12px;\n",
              "    }\n",
              "\n",
              "    .colab-df-convert {\n",
              "      background-color: #E8F0FE;\n",
              "      border: none;\n",
              "      border-radius: 50%;\n",
              "      cursor: pointer;\n",
              "      display: none;\n",
              "      fill: #1967D2;\n",
              "      height: 32px;\n",
              "      padding: 0 0 0 0;\n",
              "      width: 32px;\n",
              "    }\n",
              "\n",
              "    .colab-df-convert:hover {\n",
              "      background-color: #E2EBFA;\n",
              "      box-shadow: 0px 1px 2px rgba(60, 64, 67, 0.3), 0px 1px 3px 1px rgba(60, 64, 67, 0.15);\n",
              "      fill: #174EA6;\n",
              "    }\n",
              "\n",
              "    [theme=dark] .colab-df-convert {\n",
              "      background-color: #3B4455;\n",
              "      fill: #D2E3FC;\n",
              "    }\n",
              "\n",
              "    [theme=dark] .colab-df-convert:hover {\n",
              "      background-color: #434B5C;\n",
              "      box-shadow: 0px 1px 3px 1px rgba(0, 0, 0, 0.15);\n",
              "      filter: drop-shadow(0px 1px 2px rgba(0, 0, 0, 0.3));\n",
              "      fill: #FFFFFF;\n",
              "    }\n",
              "  </style>\n",
              "\n",
              "      <script>\n",
              "        const buttonEl =\n",
              "          document.querySelector('#df-ef6ecb8e-309f-4f49-90e7-767fe567a1ea button.colab-df-convert');\n",
              "        buttonEl.style.display =\n",
              "          google.colab.kernel.accessAllowed ? 'block' : 'none';\n",
              "\n",
              "        async function convertToInteractive(key) {\n",
              "          const element = document.querySelector('#df-ef6ecb8e-309f-4f49-90e7-767fe567a1ea');\n",
              "          const dataTable =\n",
              "            await google.colab.kernel.invokeFunction('convertToInteractive',\n",
              "                                                     [key], {});\n",
              "          if (!dataTable) return;\n",
              "\n",
              "          const docLinkHtml = 'Like what you see? Visit the ' +\n",
              "            '<a target=\"_blank\" href=https://colab.research.google.com/notebooks/data_table.ipynb>data table notebook</a>'\n",
              "            + ' to learn more about interactive tables.';\n",
              "          element.innerHTML = '';\n",
              "          dataTable['output_type'] = 'display_data';\n",
              "          await google.colab.output.renderOutput(dataTable, element);\n",
              "          const docLink = document.createElement('div');\n",
              "          docLink.innerHTML = docLinkHtml;\n",
              "          element.appendChild(docLink);\n",
              "        }\n",
              "      </script>\n",
              "    </div>\n",
              "  </div>\n",
              "  "
            ]
          },
          "metadata": {},
          "execution_count": 123
        }
      ]
    },
    {
      "cell_type": "code",
      "source": [
        "#se divide en intervalos\n",
        "pd.cut(pokemonDatax['HP'],[0,20,40,60,80,100,120,140,160,180,200,220,240,260])"
      ],
      "metadata": {
        "id": "mntgg5_eoRV9",
        "outputId": "ca0e79f3-1434-4d68-ffdc-539d7f621b11",
        "colab": {
          "base_uri": "https://localhost:8080/"
        }
      },
      "execution_count": 124,
      "outputs": [
        {
          "output_type": "execute_result",
          "data": {
            "text/plain": [
              "0      (40, 60]\n",
              "1      (40, 60]\n",
              "2      (60, 80]\n",
              "3      (60, 80]\n",
              "4      (20, 40]\n",
              "         ...   \n",
              "795    (40, 60]\n",
              "796    (40, 60]\n",
              "797    (60, 80]\n",
              "798    (60, 80]\n",
              "799    (60, 80]\n",
              "Name: HP, Length: 779, dtype: category\n",
              "Categories (13, interval[int64, right]): [(0, 20] < (20, 40] < (40, 60] < (60, 80] < ... <\n",
              "                                          (180, 200] < (200, 220] < (220, 240] < (240, 260]]"
            ]
          },
          "metadata": {},
          "execution_count": 124
        }
      ]
    },
    {
      "cell_type": "code",
      "source": [
        "#remplazando el valor de pokemonDatax por los intervalos HP\n",
        "pokemonDatax['HP']=pd.cut(pokemonDatax['HP'],[0,20,40,60,80,100,120,140,160,180,200,220,240,260])"
      ],
      "metadata": {
        "id": "k4_hrDDzoxmG",
        "outputId": "bfb9d0de-7702-44f1-8f16-f6eac631cbd3",
        "colab": {
          "base_uri": "https://localhost:8080/"
        }
      },
      "execution_count": 125,
      "outputs": [
        {
          "output_type": "stream",
          "name": "stderr",
          "text": [
            "/usr/local/lib/python3.7/dist-packages/ipykernel_launcher.py:2: SettingWithCopyWarning: \n",
            "A value is trying to be set on a copy of a slice from a DataFrame.\n",
            "Try using .loc[row_indexer,col_indexer] = value instead\n",
            "\n",
            "See the caveats in the documentation: https://pandas.pydata.org/pandas-docs/stable/user_guide/indexing.html#returning-a-view-versus-a-copy\n",
            "  \n"
          ]
        }
      ]
    },
    {
      "cell_type": "code",
      "source": [
        "pd.cut(pokemonDatax['Attack'],[0,20,40,60,80,100,120,140,160,180,200])"
      ],
      "metadata": {
        "id": "Y-3TolqaqEPG",
        "outputId": "a0411fdc-f4a4-4481-fa59-514f0b257c6c",
        "colab": {
          "base_uri": "https://localhost:8080/"
        }
      },
      "execution_count": 126,
      "outputs": [
        {
          "output_type": "execute_result",
          "data": {
            "text/plain": [
              "0        (40, 60]\n",
              "1        (60, 80]\n",
              "2       (80, 100]\n",
              "3       (80, 100]\n",
              "4        (40, 60]\n",
              "          ...    \n",
              "795     (80, 100]\n",
              "796    (140, 160]\n",
              "797    (100, 120]\n",
              "798    (140, 160]\n",
              "799    (100, 120]\n",
              "Name: Attack, Length: 779, dtype: category\n",
              "Categories (10, interval[int64, right]): [(0, 20] < (20, 40] < (40, 60] < (60, 80] < ... <\n",
              "                                          (120, 140] < (140, 160] < (160, 180] < (180, 200]]"
            ]
          },
          "metadata": {},
          "execution_count": 126
        }
      ]
    },
    {
      "cell_type": "code",
      "source": [
        "#remplazando el valor de pokemonDatax por los intervalos HP\n",
        "pokemonDatax['Attack']=pd.cut(pokemonDatax['Attack'],[0,20,40,60,80,100,120,140,160,180,200])"
      ],
      "metadata": {
        "id": "ECE59votqEL2",
        "outputId": "a4c315d3-af24-44ba-a15c-35c727043426",
        "colab": {
          "base_uri": "https://localhost:8080/"
        }
      },
      "execution_count": 127,
      "outputs": [
        {
          "output_type": "stream",
          "name": "stderr",
          "text": [
            "/usr/local/lib/python3.7/dist-packages/ipykernel_launcher.py:2: SettingWithCopyWarning: \n",
            "A value is trying to be set on a copy of a slice from a DataFrame.\n",
            "Try using .loc[row_indexer,col_indexer] = value instead\n",
            "\n",
            "See the caveats in the documentation: https://pandas.pydata.org/pandas-docs/stable/user_guide/indexing.html#returning-a-view-versus-a-copy\n",
            "  \n"
          ]
        }
      ]
    },
    {
      "cell_type": "code",
      "source": [
        "pd.cut(pokemonDatax['Defense'],[0,20,40,60,80,100,120,140,160,180,200,220,240])#dando intervalo de Defense 230"
      ],
      "metadata": {
        "id": "gGLvCE9Dq3Rp",
        "outputId": "56919e24-4172-47bd-b1f1-f97a7d366277",
        "colab": {
          "base_uri": "https://localhost:8080/"
        }
      },
      "execution_count": 128,
      "outputs": [
        {
          "output_type": "execute_result",
          "data": {
            "text/plain": [
              "0        (40, 60]\n",
              "1        (60, 80]\n",
              "2       (80, 100]\n",
              "3      (120, 140]\n",
              "4        (40, 60]\n",
              "          ...    \n",
              "795    (140, 160]\n",
              "796    (100, 120]\n",
              "797      (40, 60]\n",
              "798      (40, 60]\n",
              "799    (100, 120]\n",
              "Name: Defense, Length: 779, dtype: category\n",
              "Categories (12, interval[int64, right]): [(0, 20] < (20, 40] < (40, 60] < (60, 80] < ... <\n",
              "                                          (160, 180] < (180, 200] < (200, 220] < (220, 240]]"
            ]
          },
          "metadata": {},
          "execution_count": 128
        }
      ]
    },
    {
      "cell_type": "code",
      "source": [
        "#remplazando el valor de pokemonDatax por los intervalos Defense\n",
        "pokemonDatax['Defense']=pd.cut(pokemonDatax['Defense'],[0,20,40,60,80,100,120,140,160,180,200,220,240])"
      ],
      "metadata": {
        "id": "978UVzIqq_Rj",
        "outputId": "1fd5013d-33ef-47fa-8e01-018d86c0359e",
        "colab": {
          "base_uri": "https://localhost:8080/"
        }
      },
      "execution_count": 129,
      "outputs": [
        {
          "output_type": "stream",
          "name": "stderr",
          "text": [
            "/usr/local/lib/python3.7/dist-packages/ipykernel_launcher.py:2: SettingWithCopyWarning: \n",
            "A value is trying to be set on a copy of a slice from a DataFrame.\n",
            "Try using .loc[row_indexer,col_indexer] = value instead\n",
            "\n",
            "See the caveats in the documentation: https://pandas.pydata.org/pandas-docs/stable/user_guide/indexing.html#returning-a-view-versus-a-copy\n",
            "  \n"
          ]
        }
      ]
    },
    {
      "cell_type": "code",
      "source": [
        "pd.cut(pokemonDatax['Sp. Atk'],[10,20,30,40,50,60,70,80,90,100,110,120,130,140,150,160,170,180,190,200])"
      ],
      "metadata": {
        "id": "yPG-h4iQr7NZ",
        "outputId": "457d22fa-79c4-48ab-a07d-a178d74a82af",
        "colab": {
          "base_uri": "https://localhost:8080/"
        }
      },
      "execution_count": 130,
      "outputs": [
        {
          "output_type": "execute_result",
          "data": {
            "text/plain": [
              "0        (60, 70]\n",
              "1        (70, 80]\n",
              "2       (90, 100]\n",
              "3      (120, 130]\n",
              "4        (50, 60]\n",
              "          ...    \n",
              "795     (90, 100]\n",
              "796    (150, 160]\n",
              "797    (140, 150]\n",
              "798    (160, 170]\n",
              "799    (120, 130]\n",
              "Name: Sp. Atk, Length: 779, dtype: category\n",
              "Categories (19, interval[int64, right]): [(10, 20] < (20, 30] < (30, 40] < (40, 50] < ... <\n",
              "                                          (160, 170] < (170, 180] < (180, 190] < (190, 200]]"
            ]
          },
          "metadata": {},
          "execution_count": 130
        }
      ]
    },
    {
      "cell_type": "code",
      "source": [
        "#remplazando el valor de pokemonDatax por los intervalos Sp. Atk\n",
        "pokemonDatax['Sp. Atk']=pd.cut(pokemonDatax['Sp. Atk'],[10,20,30,40,50,60,70,80,90,100,110,120,130,140,150,160,170,180,190,200])"
      ],
      "metadata": {
        "id": "EEqYlI78r2qL",
        "outputId": "cb311b42-9873-424a-cd87-d59d6aa58966",
        "colab": {
          "base_uri": "https://localhost:8080/"
        }
      },
      "execution_count": 131,
      "outputs": [
        {
          "output_type": "stream",
          "name": "stderr",
          "text": [
            "/usr/local/lib/python3.7/dist-packages/ipykernel_launcher.py:2: SettingWithCopyWarning: \n",
            "A value is trying to be set on a copy of a slice from a DataFrame.\n",
            "Try using .loc[row_indexer,col_indexer] = value instead\n",
            "\n",
            "See the caveats in the documentation: https://pandas.pydata.org/pandas-docs/stable/user_guide/indexing.html#returning-a-view-versus-a-copy\n",
            "  \n"
          ]
        }
      ]
    },
    {
      "cell_type": "code",
      "source": [
        "pd.cut(pokemonDatax['Sp. Def'],[20,30,40,50,60,70,80,90,100,110,120,130,140,150,160,170,180,190,200,210,220,230])"
      ],
      "metadata": {
        "id": "3brcbwmftec9",
        "outputId": "263b745c-fd23-49de-f4f1-afc32a4f5514",
        "colab": {
          "base_uri": "https://localhost:8080/"
        }
      },
      "execution_count": 132,
      "outputs": [
        {
          "output_type": "execute_result",
          "data": {
            "text/plain": [
              "0        (60, 70]\n",
              "1        (70, 80]\n",
              "2       (90, 100]\n",
              "3      (110, 120]\n",
              "4        (40, 50]\n",
              "          ...    \n",
              "795    (140, 150]\n",
              "796    (100, 110]\n",
              "797    (120, 130]\n",
              "798    (120, 130]\n",
              "799      (80, 90]\n",
              "Name: Sp. Def, Length: 779, dtype: category\n",
              "Categories (21, interval[int64, right]): [(20, 30] < (30, 40] < (40, 50] < (50, 60] < ... <\n",
              "                                          (190, 200] < (200, 210] < (210, 220] < (220, 230]]"
            ]
          },
          "metadata": {},
          "execution_count": 132
        }
      ]
    },
    {
      "cell_type": "code",
      "source": [
        "pokemonDatax['Sp. Def']=pd.cut(pokemonDatax['Sp. Def'],[20,30,40,50,60,70,80,90,100,110,120,130,140,150,160,170,180,190,200,210,220,230])"
      ],
      "metadata": {
        "id": "3ymQtSOGtizm",
        "outputId": "d540ae4a-763f-4337-a2b2-5d6ca99b41df",
        "colab": {
          "base_uri": "https://localhost:8080/"
        }
      },
      "execution_count": 133,
      "outputs": [
        {
          "output_type": "stream",
          "name": "stderr",
          "text": [
            "/usr/local/lib/python3.7/dist-packages/ipykernel_launcher.py:1: SettingWithCopyWarning: \n",
            "A value is trying to be set on a copy of a slice from a DataFrame.\n",
            "Try using .loc[row_indexer,col_indexer] = value instead\n",
            "\n",
            "See the caveats in the documentation: https://pandas.pydata.org/pandas-docs/stable/user_guide/indexing.html#returning-a-view-versus-a-copy\n",
            "  \"\"\"Entry point for launching an IPython kernel.\n"
          ]
        }
      ]
    },
    {
      "cell_type": "code",
      "source": [
        "pd.cut(pokemonDatax['Speed'],[0,10,20,30,40,50,60,70,80,90,100,110,120,130,140,150,160,170,180])"
      ],
      "metadata": {
        "id": "q4BERctluKRe",
        "outputId": "9643d5c9-19ab-476b-8b3d-a70a3d888ed7",
        "colab": {
          "base_uri": "https://localhost:8080/"
        }
      },
      "execution_count": 134,
      "outputs": [
        {
          "output_type": "execute_result",
          "data": {
            "text/plain": [
              "0        (40, 50]\n",
              "1        (50, 60]\n",
              "2        (70, 80]\n",
              "3        (70, 80]\n",
              "4        (60, 70]\n",
              "          ...    \n",
              "795      (40, 50]\n",
              "796    (100, 110]\n",
              "797      (60, 70]\n",
              "798      (70, 80]\n",
              "799      (60, 70]\n",
              "Name: Speed, Length: 779, dtype: category\n",
              "Categories (18, interval[int64, right]): [(0, 10] < (10, 20] < (20, 30] < (30, 40] < ... <\n",
              "                                          (140, 150] < (150, 160] < (160, 170] < (170, 180]]"
            ]
          },
          "metadata": {},
          "execution_count": 134
        }
      ]
    },
    {
      "cell_type": "code",
      "source": [
        "pokemonDatax['Speed']=pd.cut(pokemonDatax['Speed'],[0,10,20,30,40,50,60,70,80,90,100,110,120,130,140,150,160,170,180])"
      ],
      "metadata": {
        "id": "yfPe_w0kuPg-",
        "outputId": "c0c400e0-4976-4200-d25e-1bbe3e44a4eb",
        "colab": {
          "base_uri": "https://localhost:8080/"
        }
      },
      "execution_count": 135,
      "outputs": [
        {
          "output_type": "stream",
          "name": "stderr",
          "text": [
            "/usr/local/lib/python3.7/dist-packages/ipykernel_launcher.py:1: SettingWithCopyWarning: \n",
            "A value is trying to be set on a copy of a slice from a DataFrame.\n",
            "Try using .loc[row_indexer,col_indexer] = value instead\n",
            "\n",
            "See the caveats in the documentation: https://pandas.pydata.org/pandas-docs/stable/user_guide/indexing.html#returning-a-view-versus-a-copy\n",
            "  \"\"\"Entry point for launching an IPython kernel.\n"
          ]
        }
      ]
    },
    {
      "cell_type": "code",
      "source": [
        "pokemonDatax.head(10) #mostrando elementos"
      ],
      "metadata": {
        "id": "D5Knzb8wv4Y4",
        "outputId": "2e6c5f7f-657c-4288-b43c-5ce6ac30aada",
        "colab": {
          "base_uri": "https://localhost:8080/",
          "height": 363
        }
      },
      "execution_count": 136,
      "outputs": [
        {
          "output_type": "execute_result",
          "data": {
            "text/plain": [
              "         HP      Attack     Defense     Sp. Atk     Sp. Def      Speed\n",
              "0  (40, 60]    (40, 60]    (40, 60]    (60, 70]    (60, 70]   (40, 50]\n",
              "1  (40, 60]    (60, 80]    (60, 80]    (70, 80]    (70, 80]   (50, 60]\n",
              "2  (60, 80]   (80, 100]   (80, 100]   (90, 100]   (90, 100]   (70, 80]\n",
              "3  (60, 80]   (80, 100]  (120, 140]  (120, 130]  (110, 120]   (70, 80]\n",
              "4  (20, 40]    (40, 60]    (40, 60]    (50, 60]    (40, 50]   (60, 70]\n",
              "5  (40, 60]    (60, 80]    (40, 60]    (70, 80]    (60, 70]   (70, 80]\n",
              "6  (60, 80]   (80, 100]    (60, 80]  (100, 110]    (80, 90]  (90, 100]\n",
              "7  (60, 80]  (120, 140]  (100, 120]  (120, 130]    (80, 90]  (90, 100]\n",
              "8  (60, 80]  (100, 120]    (60, 80]  (150, 160]  (110, 120]  (90, 100]\n",
              "9  (40, 60]    (40, 60]    (60, 80]    (40, 50]    (60, 70]   (40, 50]"
            ],
            "text/html": [
              "\n",
              "  <div id=\"df-0477cb49-217d-4f8b-a2eb-24de21b0bfaf\">\n",
              "    <div class=\"colab-df-container\">\n",
              "      <div>\n",
              "<style scoped>\n",
              "    .dataframe tbody tr th:only-of-type {\n",
              "        vertical-align: middle;\n",
              "    }\n",
              "\n",
              "    .dataframe tbody tr th {\n",
              "        vertical-align: top;\n",
              "    }\n",
              "\n",
              "    .dataframe thead th {\n",
              "        text-align: right;\n",
              "    }\n",
              "</style>\n",
              "<table border=\"1\" class=\"dataframe\">\n",
              "  <thead>\n",
              "    <tr style=\"text-align: right;\">\n",
              "      <th></th>\n",
              "      <th>HP</th>\n",
              "      <th>Attack</th>\n",
              "      <th>Defense</th>\n",
              "      <th>Sp. Atk</th>\n",
              "      <th>Sp. Def</th>\n",
              "      <th>Speed</th>\n",
              "    </tr>\n",
              "  </thead>\n",
              "  <tbody>\n",
              "    <tr>\n",
              "      <th>0</th>\n",
              "      <td>(40, 60]</td>\n",
              "      <td>(40, 60]</td>\n",
              "      <td>(40, 60]</td>\n",
              "      <td>(60, 70]</td>\n",
              "      <td>(60, 70]</td>\n",
              "      <td>(40, 50]</td>\n",
              "    </tr>\n",
              "    <tr>\n",
              "      <th>1</th>\n",
              "      <td>(40, 60]</td>\n",
              "      <td>(60, 80]</td>\n",
              "      <td>(60, 80]</td>\n",
              "      <td>(70, 80]</td>\n",
              "      <td>(70, 80]</td>\n",
              "      <td>(50, 60]</td>\n",
              "    </tr>\n",
              "    <tr>\n",
              "      <th>2</th>\n",
              "      <td>(60, 80]</td>\n",
              "      <td>(80, 100]</td>\n",
              "      <td>(80, 100]</td>\n",
              "      <td>(90, 100]</td>\n",
              "      <td>(90, 100]</td>\n",
              "      <td>(70, 80]</td>\n",
              "    </tr>\n",
              "    <tr>\n",
              "      <th>3</th>\n",
              "      <td>(60, 80]</td>\n",
              "      <td>(80, 100]</td>\n",
              "      <td>(120, 140]</td>\n",
              "      <td>(120, 130]</td>\n",
              "      <td>(110, 120]</td>\n",
              "      <td>(70, 80]</td>\n",
              "    </tr>\n",
              "    <tr>\n",
              "      <th>4</th>\n",
              "      <td>(20, 40]</td>\n",
              "      <td>(40, 60]</td>\n",
              "      <td>(40, 60]</td>\n",
              "      <td>(50, 60]</td>\n",
              "      <td>(40, 50]</td>\n",
              "      <td>(60, 70]</td>\n",
              "    </tr>\n",
              "    <tr>\n",
              "      <th>5</th>\n",
              "      <td>(40, 60]</td>\n",
              "      <td>(60, 80]</td>\n",
              "      <td>(40, 60]</td>\n",
              "      <td>(70, 80]</td>\n",
              "      <td>(60, 70]</td>\n",
              "      <td>(70, 80]</td>\n",
              "    </tr>\n",
              "    <tr>\n",
              "      <th>6</th>\n",
              "      <td>(60, 80]</td>\n",
              "      <td>(80, 100]</td>\n",
              "      <td>(60, 80]</td>\n",
              "      <td>(100, 110]</td>\n",
              "      <td>(80, 90]</td>\n",
              "      <td>(90, 100]</td>\n",
              "    </tr>\n",
              "    <tr>\n",
              "      <th>7</th>\n",
              "      <td>(60, 80]</td>\n",
              "      <td>(120, 140]</td>\n",
              "      <td>(100, 120]</td>\n",
              "      <td>(120, 130]</td>\n",
              "      <td>(80, 90]</td>\n",
              "      <td>(90, 100]</td>\n",
              "    </tr>\n",
              "    <tr>\n",
              "      <th>8</th>\n",
              "      <td>(60, 80]</td>\n",
              "      <td>(100, 120]</td>\n",
              "      <td>(60, 80]</td>\n",
              "      <td>(150, 160]</td>\n",
              "      <td>(110, 120]</td>\n",
              "      <td>(90, 100]</td>\n",
              "    </tr>\n",
              "    <tr>\n",
              "      <th>9</th>\n",
              "      <td>(40, 60]</td>\n",
              "      <td>(40, 60]</td>\n",
              "      <td>(60, 80]</td>\n",
              "      <td>(40, 50]</td>\n",
              "      <td>(60, 70]</td>\n",
              "      <td>(40, 50]</td>\n",
              "    </tr>\n",
              "  </tbody>\n",
              "</table>\n",
              "</div>\n",
              "      <button class=\"colab-df-convert\" onclick=\"convertToInteractive('df-0477cb49-217d-4f8b-a2eb-24de21b0bfaf')\"\n",
              "              title=\"Convert this dataframe to an interactive table.\"\n",
              "              style=\"display:none;\">\n",
              "        \n",
              "  <svg xmlns=\"http://www.w3.org/2000/svg\" height=\"24px\"viewBox=\"0 0 24 24\"\n",
              "       width=\"24px\">\n",
              "    <path d=\"M0 0h24v24H0V0z\" fill=\"none\"/>\n",
              "    <path d=\"M18.56 5.44l.94 2.06.94-2.06 2.06-.94-2.06-.94-.94-2.06-.94 2.06-2.06.94zm-11 1L8.5 8.5l.94-2.06 2.06-.94-2.06-.94L8.5 2.5l-.94 2.06-2.06.94zm10 10l.94 2.06.94-2.06 2.06-.94-2.06-.94-.94-2.06-.94 2.06-2.06.94z\"/><path d=\"M17.41 7.96l-1.37-1.37c-.4-.4-.92-.59-1.43-.59-.52 0-1.04.2-1.43.59L10.3 9.45l-7.72 7.72c-.78.78-.78 2.05 0 2.83L4 21.41c.39.39.9.59 1.41.59.51 0 1.02-.2 1.41-.59l7.78-7.78 2.81-2.81c.8-.78.8-2.07 0-2.86zM5.41 20L4 18.59l7.72-7.72 1.47 1.35L5.41 20z\"/>\n",
              "  </svg>\n",
              "      </button>\n",
              "      \n",
              "  <style>\n",
              "    .colab-df-container {\n",
              "      display:flex;\n",
              "      flex-wrap:wrap;\n",
              "      gap: 12px;\n",
              "    }\n",
              "\n",
              "    .colab-df-convert {\n",
              "      background-color: #E8F0FE;\n",
              "      border: none;\n",
              "      border-radius: 50%;\n",
              "      cursor: pointer;\n",
              "      display: none;\n",
              "      fill: #1967D2;\n",
              "      height: 32px;\n",
              "      padding: 0 0 0 0;\n",
              "      width: 32px;\n",
              "    }\n",
              "\n",
              "    .colab-df-convert:hover {\n",
              "      background-color: #E2EBFA;\n",
              "      box-shadow: 0px 1px 2px rgba(60, 64, 67, 0.3), 0px 1px 3px 1px rgba(60, 64, 67, 0.15);\n",
              "      fill: #174EA6;\n",
              "    }\n",
              "\n",
              "    [theme=dark] .colab-df-convert {\n",
              "      background-color: #3B4455;\n",
              "      fill: #D2E3FC;\n",
              "    }\n",
              "\n",
              "    [theme=dark] .colab-df-convert:hover {\n",
              "      background-color: #434B5C;\n",
              "      box-shadow: 0px 1px 3px 1px rgba(0, 0, 0, 0.15);\n",
              "      filter: drop-shadow(0px 1px 2px rgba(0, 0, 0, 0.3));\n",
              "      fill: #FFFFFF;\n",
              "    }\n",
              "  </style>\n",
              "\n",
              "      <script>\n",
              "        const buttonEl =\n",
              "          document.querySelector('#df-0477cb49-217d-4f8b-a2eb-24de21b0bfaf button.colab-df-convert');\n",
              "        buttonEl.style.display =\n",
              "          google.colab.kernel.accessAllowed ? 'block' : 'none';\n",
              "\n",
              "        async function convertToInteractive(key) {\n",
              "          const element = document.querySelector('#df-0477cb49-217d-4f8b-a2eb-24de21b0bfaf');\n",
              "          const dataTable =\n",
              "            await google.colab.kernel.invokeFunction('convertToInteractive',\n",
              "                                                     [key], {});\n",
              "          if (!dataTable) return;\n",
              "\n",
              "          const docLinkHtml = 'Like what you see? Visit the ' +\n",
              "            '<a target=\"_blank\" href=https://colab.research.google.com/notebooks/data_table.ipynb>data table notebook</a>'\n",
              "            + ' to learn more about interactive tables.';\n",
              "          element.innerHTML = '';\n",
              "          dataTable['output_type'] = 'display_data';\n",
              "          await google.colab.output.renderOutput(dataTable, element);\n",
              "          const docLink = document.createElement('div');\n",
              "          docLink.innerHTML = docLinkHtml;\n",
              "          element.appendChild(docLink);\n",
              "        }\n",
              "      </script>\n",
              "    </div>\n",
              "  </div>\n",
              "  "
            ]
          },
          "metadata": {},
          "execution_count": 136
        }
      ]
    },
    {
      "cell_type": "code",
      "source": [
        "#muestra los duplicados dentro del dataX\n",
        "pokemonDatax.duplicated(keep=False) "
      ],
      "metadata": {
        "id": "lxJ3f14Pv7ja",
        "outputId": "20ef46ad-f679-4d42-d21d-f5747753a7c2",
        "colab": {
          "base_uri": "https://localhost:8080/"
        }
      },
      "execution_count": 137,
      "outputs": [
        {
          "output_type": "execute_result",
          "data": {
            "text/plain": [
              "0      False\n",
              "1       True\n",
              "2      False\n",
              "3      False\n",
              "4      False\n",
              "       ...  \n",
              "795    False\n",
              "796    False\n",
              "797    False\n",
              "798    False\n",
              "799    False\n",
              "Length: 779, dtype: bool"
            ]
          },
          "metadata": {},
          "execution_count": 137
        }
      ]
    },
    {
      "cell_type": "code",
      "source": [
        "#son un tipo de datos pandas correspondientes a variables categóricas en estadísticas\n",
        "from pandas.core.arrays import categorical #valor categorico, toman una variable limitada\n",
        "pokemonDatax.loc[:,'HP'],categoriaHP=pd.factorize(pokemonDatax['HP'],sort=True)"
      ],
      "metadata": {
        "id": "i4gMd-ZCwCC1",
        "outputId": "f97dc1f4-591c-42f8-8bd9-d42c0bab37b8",
        "colab": {
          "base_uri": "https://localhost:8080/"
        }
      },
      "execution_count": 138,
      "outputs": [
        {
          "output_type": "stream",
          "name": "stderr",
          "text": [
            "/usr/local/lib/python3.7/dist-packages/pandas/core/indexing.py:1773: SettingWithCopyWarning: \n",
            "A value is trying to be set on a copy of a slice from a DataFrame.\n",
            "Try using .loc[row_indexer,col_indexer] = value instead\n",
            "\n",
            "See the caveats in the documentation: https://pandas.pydata.org/pandas-docs/stable/user_guide/indexing.html#returning-a-view-versus-a-copy\n",
            "  self._setitem_single_column(ilocs[0], value, pi)\n"
          ]
        }
      ]
    },
    {
      "cell_type": "code",
      "source": [
        "pokemonDatax.loc[:,'Attack'],categoriaAttack=pd.factorize(pokemonDatax['Attack'],sort=True)"
      ],
      "metadata": {
        "id": "JO5lPrMCwEi9",
        "outputId": "b0d26afa-185a-44e0-a85e-6795220c8f41",
        "colab": {
          "base_uri": "https://localhost:8080/"
        }
      },
      "execution_count": 139,
      "outputs": [
        {
          "output_type": "stream",
          "name": "stderr",
          "text": [
            "/usr/local/lib/python3.7/dist-packages/pandas/core/indexing.py:1773: SettingWithCopyWarning: \n",
            "A value is trying to be set on a copy of a slice from a DataFrame.\n",
            "Try using .loc[row_indexer,col_indexer] = value instead\n",
            "\n",
            "See the caveats in the documentation: https://pandas.pydata.org/pandas-docs/stable/user_guide/indexing.html#returning-a-view-versus-a-copy\n",
            "  self._setitem_single_column(ilocs[0], value, pi)\n"
          ]
        }
      ]
    },
    {
      "cell_type": "code",
      "source": [
        "pokemonDatax.loc[:,'Defense'],categoriaDef=pd.factorize(pokemonDatax['Defense'],sort=True)"
      ],
      "metadata": {
        "id": "i70EyJ_ZwGoR",
        "outputId": "709ef72d-aa37-4512-96e9-7df70230a651",
        "colab": {
          "base_uri": "https://localhost:8080/"
        }
      },
      "execution_count": 140,
      "outputs": [
        {
          "output_type": "stream",
          "name": "stderr",
          "text": [
            "/usr/local/lib/python3.7/dist-packages/pandas/core/indexing.py:1773: SettingWithCopyWarning: \n",
            "A value is trying to be set on a copy of a slice from a DataFrame.\n",
            "Try using .loc[row_indexer,col_indexer] = value instead\n",
            "\n",
            "See the caveats in the documentation: https://pandas.pydata.org/pandas-docs/stable/user_guide/indexing.html#returning-a-view-versus-a-copy\n",
            "  self._setitem_single_column(ilocs[0], value, pi)\n"
          ]
        }
      ]
    },
    {
      "cell_type": "code",
      "source": [
        "pokemonDatax.loc[:,'Sp. Atk'],categoriaSA=pd.factorize(pokemonDatax['Sp. Atk'],sort=True)"
      ],
      "metadata": {
        "id": "qhTryzQUwJbo",
        "outputId": "fde121cd-45ce-41bd-917c-49abd1b3b38c",
        "colab": {
          "base_uri": "https://localhost:8080/"
        }
      },
      "execution_count": 141,
      "outputs": [
        {
          "output_type": "stream",
          "name": "stderr",
          "text": [
            "/usr/local/lib/python3.7/dist-packages/pandas/core/indexing.py:1773: SettingWithCopyWarning: \n",
            "A value is trying to be set on a copy of a slice from a DataFrame.\n",
            "Try using .loc[row_indexer,col_indexer] = value instead\n",
            "\n",
            "See the caveats in the documentation: https://pandas.pydata.org/pandas-docs/stable/user_guide/indexing.html#returning-a-view-versus-a-copy\n",
            "  self._setitem_single_column(ilocs[0], value, pi)\n"
          ]
        }
      ]
    },
    {
      "cell_type": "code",
      "source": [
        "pokemonDatax.loc[:,'Sp. Def'],categoriaSD=pd.factorize(pokemonDatax['Sp. Def'],sort=True)"
      ],
      "metadata": {
        "id": "FKMjIjtIwL76",
        "outputId": "dcb69bcf-dd0d-4795-fb45-cd505dc65885",
        "colab": {
          "base_uri": "https://localhost:8080/"
        }
      },
      "execution_count": 142,
      "outputs": [
        {
          "output_type": "stream",
          "name": "stderr",
          "text": [
            "/usr/local/lib/python3.7/dist-packages/pandas/core/indexing.py:1773: SettingWithCopyWarning: \n",
            "A value is trying to be set on a copy of a slice from a DataFrame.\n",
            "Try using .loc[row_indexer,col_indexer] = value instead\n",
            "\n",
            "See the caveats in the documentation: https://pandas.pydata.org/pandas-docs/stable/user_guide/indexing.html#returning-a-view-versus-a-copy\n",
            "  self._setitem_single_column(ilocs[0], value, pi)\n"
          ]
        }
      ]
    },
    {
      "cell_type": "code",
      "source": [
        "pokemonDatax.loc[:,'Speed'],categoriaSp=pd.factorize(pokemonDatax['Speed'],sort=True)"
      ],
      "metadata": {
        "id": "DGAtrcrywOIT",
        "outputId": "cc1391c3-d949-4938-cb85-c36ec4a06a09",
        "colab": {
          "base_uri": "https://localhost:8080/"
        }
      },
      "execution_count": 143,
      "outputs": [
        {
          "output_type": "stream",
          "name": "stderr",
          "text": [
            "/usr/local/lib/python3.7/dist-packages/pandas/core/indexing.py:1773: SettingWithCopyWarning: \n",
            "A value is trying to be set on a copy of a slice from a DataFrame.\n",
            "Try using .loc[row_indexer,col_indexer] = value instead\n",
            "\n",
            "See the caveats in the documentation: https://pandas.pydata.org/pandas-docs/stable/user_guide/indexing.html#returning-a-view-versus-a-copy\n",
            "  self._setitem_single_column(ilocs[0], value, pi)\n"
          ]
        }
      ]
    },
    {
      "cell_type": "code",
      "source": [
        "pokemonDatax.head(10)  "
      ],
      "metadata": {
        "id": "6JGnNhy6wSOm",
        "outputId": "438524e3-f6d3-4e68-ff37-b59380f5252d",
        "colab": {
          "base_uri": "https://localhost:8080/",
          "height": 363
        }
      },
      "execution_count": 144,
      "outputs": [
        {
          "output_type": "execute_result",
          "data": {
            "text/plain": [
              "   HP  Attack  Defense  Sp. Atk  Sp. Def  Speed\n",
              "0   2       2        2        5        4      4\n",
              "1   2       3        3        6        5      5\n",
              "2   3       4        4        8        7      7\n",
              "3   3       4        6       11        9      7\n",
              "4   1       2        2        4        2      6\n",
              "5   2       3        2        6        4      7\n",
              "6   3       4        3        9        6      9\n",
              "7   3       6        5       11        6      9\n",
              "8   3       5        3       14        9      9\n",
              "9   2       2        3        3        4      4"
            ],
            "text/html": [
              "\n",
              "  <div id=\"df-1e1dc56e-5a43-405d-8ad4-54765f92fbfe\">\n",
              "    <div class=\"colab-df-container\">\n",
              "      <div>\n",
              "<style scoped>\n",
              "    .dataframe tbody tr th:only-of-type {\n",
              "        vertical-align: middle;\n",
              "    }\n",
              "\n",
              "    .dataframe tbody tr th {\n",
              "        vertical-align: top;\n",
              "    }\n",
              "\n",
              "    .dataframe thead th {\n",
              "        text-align: right;\n",
              "    }\n",
              "</style>\n",
              "<table border=\"1\" class=\"dataframe\">\n",
              "  <thead>\n",
              "    <tr style=\"text-align: right;\">\n",
              "      <th></th>\n",
              "      <th>HP</th>\n",
              "      <th>Attack</th>\n",
              "      <th>Defense</th>\n",
              "      <th>Sp. Atk</th>\n",
              "      <th>Sp. Def</th>\n",
              "      <th>Speed</th>\n",
              "    </tr>\n",
              "  </thead>\n",
              "  <tbody>\n",
              "    <tr>\n",
              "      <th>0</th>\n",
              "      <td>2</td>\n",
              "      <td>2</td>\n",
              "      <td>2</td>\n",
              "      <td>5</td>\n",
              "      <td>4</td>\n",
              "      <td>4</td>\n",
              "    </tr>\n",
              "    <tr>\n",
              "      <th>1</th>\n",
              "      <td>2</td>\n",
              "      <td>3</td>\n",
              "      <td>3</td>\n",
              "      <td>6</td>\n",
              "      <td>5</td>\n",
              "      <td>5</td>\n",
              "    </tr>\n",
              "    <tr>\n",
              "      <th>2</th>\n",
              "      <td>3</td>\n",
              "      <td>4</td>\n",
              "      <td>4</td>\n",
              "      <td>8</td>\n",
              "      <td>7</td>\n",
              "      <td>7</td>\n",
              "    </tr>\n",
              "    <tr>\n",
              "      <th>3</th>\n",
              "      <td>3</td>\n",
              "      <td>4</td>\n",
              "      <td>6</td>\n",
              "      <td>11</td>\n",
              "      <td>9</td>\n",
              "      <td>7</td>\n",
              "    </tr>\n",
              "    <tr>\n",
              "      <th>4</th>\n",
              "      <td>1</td>\n",
              "      <td>2</td>\n",
              "      <td>2</td>\n",
              "      <td>4</td>\n",
              "      <td>2</td>\n",
              "      <td>6</td>\n",
              "    </tr>\n",
              "    <tr>\n",
              "      <th>5</th>\n",
              "      <td>2</td>\n",
              "      <td>3</td>\n",
              "      <td>2</td>\n",
              "      <td>6</td>\n",
              "      <td>4</td>\n",
              "      <td>7</td>\n",
              "    </tr>\n",
              "    <tr>\n",
              "      <th>6</th>\n",
              "      <td>3</td>\n",
              "      <td>4</td>\n",
              "      <td>3</td>\n",
              "      <td>9</td>\n",
              "      <td>6</td>\n",
              "      <td>9</td>\n",
              "    </tr>\n",
              "    <tr>\n",
              "      <th>7</th>\n",
              "      <td>3</td>\n",
              "      <td>6</td>\n",
              "      <td>5</td>\n",
              "      <td>11</td>\n",
              "      <td>6</td>\n",
              "      <td>9</td>\n",
              "    </tr>\n",
              "    <tr>\n",
              "      <th>8</th>\n",
              "      <td>3</td>\n",
              "      <td>5</td>\n",
              "      <td>3</td>\n",
              "      <td>14</td>\n",
              "      <td>9</td>\n",
              "      <td>9</td>\n",
              "    </tr>\n",
              "    <tr>\n",
              "      <th>9</th>\n",
              "      <td>2</td>\n",
              "      <td>2</td>\n",
              "      <td>3</td>\n",
              "      <td>3</td>\n",
              "      <td>4</td>\n",
              "      <td>4</td>\n",
              "    </tr>\n",
              "  </tbody>\n",
              "</table>\n",
              "</div>\n",
              "      <button class=\"colab-df-convert\" onclick=\"convertToInteractive('df-1e1dc56e-5a43-405d-8ad4-54765f92fbfe')\"\n",
              "              title=\"Convert this dataframe to an interactive table.\"\n",
              "              style=\"display:none;\">\n",
              "        \n",
              "  <svg xmlns=\"http://www.w3.org/2000/svg\" height=\"24px\"viewBox=\"0 0 24 24\"\n",
              "       width=\"24px\">\n",
              "    <path d=\"M0 0h24v24H0V0z\" fill=\"none\"/>\n",
              "    <path d=\"M18.56 5.44l.94 2.06.94-2.06 2.06-.94-2.06-.94-.94-2.06-.94 2.06-2.06.94zm-11 1L8.5 8.5l.94-2.06 2.06-.94-2.06-.94L8.5 2.5l-.94 2.06-2.06.94zm10 10l.94 2.06.94-2.06 2.06-.94-2.06-.94-.94-2.06-.94 2.06-2.06.94z\"/><path d=\"M17.41 7.96l-1.37-1.37c-.4-.4-.92-.59-1.43-.59-.52 0-1.04.2-1.43.59L10.3 9.45l-7.72 7.72c-.78.78-.78 2.05 0 2.83L4 21.41c.39.39.9.59 1.41.59.51 0 1.02-.2 1.41-.59l7.78-7.78 2.81-2.81c.8-.78.8-2.07 0-2.86zM5.41 20L4 18.59l7.72-7.72 1.47 1.35L5.41 20z\"/>\n",
              "  </svg>\n",
              "      </button>\n",
              "      \n",
              "  <style>\n",
              "    .colab-df-container {\n",
              "      display:flex;\n",
              "      flex-wrap:wrap;\n",
              "      gap: 12px;\n",
              "    }\n",
              "\n",
              "    .colab-df-convert {\n",
              "      background-color: #E8F0FE;\n",
              "      border: none;\n",
              "      border-radius: 50%;\n",
              "      cursor: pointer;\n",
              "      display: none;\n",
              "      fill: #1967D2;\n",
              "      height: 32px;\n",
              "      padding: 0 0 0 0;\n",
              "      width: 32px;\n",
              "    }\n",
              "\n",
              "    .colab-df-convert:hover {\n",
              "      background-color: #E2EBFA;\n",
              "      box-shadow: 0px 1px 2px rgba(60, 64, 67, 0.3), 0px 1px 3px 1px rgba(60, 64, 67, 0.15);\n",
              "      fill: #174EA6;\n",
              "    }\n",
              "\n",
              "    [theme=dark] .colab-df-convert {\n",
              "      background-color: #3B4455;\n",
              "      fill: #D2E3FC;\n",
              "    }\n",
              "\n",
              "    [theme=dark] .colab-df-convert:hover {\n",
              "      background-color: #434B5C;\n",
              "      box-shadow: 0px 1px 3px 1px rgba(0, 0, 0, 0.15);\n",
              "      filter: drop-shadow(0px 1px 2px rgba(0, 0, 0, 0.3));\n",
              "      fill: #FFFFFF;\n",
              "    }\n",
              "  </style>\n",
              "\n",
              "      <script>\n",
              "        const buttonEl =\n",
              "          document.querySelector('#df-1e1dc56e-5a43-405d-8ad4-54765f92fbfe button.colab-df-convert');\n",
              "        buttonEl.style.display =\n",
              "          google.colab.kernel.accessAllowed ? 'block' : 'none';\n",
              "\n",
              "        async function convertToInteractive(key) {\n",
              "          const element = document.querySelector('#df-1e1dc56e-5a43-405d-8ad4-54765f92fbfe');\n",
              "          const dataTable =\n",
              "            await google.colab.kernel.invokeFunction('convertToInteractive',\n",
              "                                                     [key], {});\n",
              "          if (!dataTable) return;\n",
              "\n",
              "          const docLinkHtml = 'Like what you see? Visit the ' +\n",
              "            '<a target=\"_blank\" href=https://colab.research.google.com/notebooks/data_table.ipynb>data table notebook</a>'\n",
              "            + ' to learn more about interactive tables.';\n",
              "          element.innerHTML = '';\n",
              "          dataTable['output_type'] = 'display_data';\n",
              "          await google.colab.output.renderOutput(dataTable, element);\n",
              "          const docLink = document.createElement('div');\n",
              "          docLink.innerHTML = docLinkHtml;\n",
              "          element.appendChild(docLink);\n",
              "        }\n",
              "      </script>\n",
              "    </div>\n",
              "  </div>\n",
              "  "
            ]
          },
          "metadata": {},
          "execution_count": 144
        }
      ]
    },
    {
      "cell_type": "code",
      "source": [
        "#Normalizar los datos\n",
        "from sklearn.preprocessing import StandardScaler"
      ],
      "metadata": {
        "id": "XDIt95fww7jZ"
      },
      "execution_count": 145,
      "outputs": []
    },
    {
      "cell_type": "code",
      "source": [
        "scaler=StandardScaler()    #calcula el valor medio y varianza de las características\n",
        "scaler.fit(pokemonDatax)     #calcula la media para poder hacer la transformaciom\n",
        "print(scaler.mean_)   "
      ],
      "metadata": {
        "id": "MkpTIZEsxEUg",
        "outputId": "2017ec54-7454-4631-8625-80e87d23838b",
        "colab": {
          "base_uri": "https://localhost:8080/"
        }
      },
      "execution_count": 146,
      "outputs": [
        {
          "output_type": "stream",
          "name": "stdout",
          "text": [
            "[2.83568678 3.36071887 3.06803594 5.51604621 4.4338896  6.06418485]\n"
          ]
        }
      ]
    },
    {
      "cell_type": "code",
      "source": [
        "#Ajuste a los datos y luego transfórmelos.\n",
        "pokemonDatax=scaler.fit_transform(pokemonDatax)  \n",
        "pokemonDatax"
      ],
      "metadata": {
        "id": "rFebGREmxH-_",
        "outputId": "cbfbdd6d-c39f-4766-9c78-2cec831a315f",
        "colab": {
          "base_uri": "https://localhost:8080/"
        }
      },
      "execution_count": 147,
      "outputs": [
        {
          "output_type": "execute_result",
          "data": {
            "text/plain": [
              "array([[-0.64916416, -0.82764726, -0.68183529, -0.15755922, -0.15913226,\n",
              "        -0.70634257],\n",
              "       [-0.64916416, -0.2194046 , -0.04343422,  0.14776076,  0.20762523,\n",
              "        -0.36415298],\n",
              "       [ 0.12763904,  0.38883805,  0.59496685,  0.75840074,  0.94114022,\n",
              "         0.3202262 ],\n",
              "       ...,\n",
              "       [ 0.12763904,  0.99708071, -0.68183529,  2.28500068,  2.04141271,\n",
              "        -0.02196339],\n",
              "       [ 0.12763904,  2.21356602, -0.68183529,  2.89564065,  2.04141271,\n",
              "         0.3202262 ],\n",
              "       [ 0.12763904,  0.99708071,  1.23336793,  1.6743607 ,  0.57438273,\n",
              "        -0.02196339]])"
            ]
          },
          "metadata": {},
          "execution_count": 147
        }
      ]
    },
    {
      "cell_type": "markdown",
      "source": [
        "# ENTRENAMIENTO DE LA NEURONA\n",
        "Se dividira los datos en 80% de entrenamientos, 20% pruebas"
      ],
      "metadata": {
        "id": "YX9izj541hlJ"
      }
    },
    {
      "cell_type": "code",
      "source": [
        "import numpy as np\n",
        "from sklearn.model_selection import train_test_split #Dividir arreglos o matrices en subconjuntos aleatorios de train y test;"
      ],
      "metadata": {
        "id": "c4fR_fsW1TiU"
      },
      "execution_count": 148,
      "outputs": []
    },
    {
      "cell_type": "code",
      "source": [
        "#Convierta el DataFrame en una matriz NumPy.De forma predeterminada,\n",
        "# el dtype de la matriz devuelta será el dtype NumPy común de todos los tipos en el DataFrame\n",
        "pokemonDatay=pokemonDatay.to_numpy() \n",
        "x_train, x_test, y_train, y_test= train_test_split(pokemonDatax, pokemonDatay, test_size=0.3) #longitud de las matrices divididas"
      ],
      "metadata": {
        "id": "byChMo951Y9r"
      },
      "execution_count": 149,
      "outputs": []
    },
    {
      "cell_type": "code",
      "source": [
        "# Imprime los 5 primeros valores de xtrain,xtest,ytrain y ytest\n",
        "print(x_train[0:5], x_test[0:5], y_train[0:5], y_test[0:5]) "
      ],
      "metadata": {
        "id": "r_rgIAvJ1nba",
        "outputId": "442ca937-82b4-4f64-9ca1-d22f01d0d288",
        "colab": {
          "base_uri": "https://localhost:8080/"
        }
      },
      "execution_count": 150,
      "outputs": [
        {
          "output_type": "stream",
          "name": "stdout",
          "text": [
            "[[-0.64916416 -1.43588992 -0.68183529 -1.07351919 -0.52588976 -1.04853217]\n",
            " [-1.42596736 -0.82764726 -1.32023637 -1.37883917 -1.62616225  0.6624158 ]\n",
            " [-0.64916416 -0.82764726 -1.32023637 -1.07351919 -1.25940475 -1.04853217]\n",
            " [-1.42596736 -0.82764726 -1.32023637 -0.7681992  -0.89264725  0.6624158 ]\n",
            " [ 0.12763904  0.38883805 -0.04343422 -0.46287921 -0.52588976 -1.04853217]] [[-1.42596736 -0.82764726 -0.68183529 -1.37883917 -1.25940475 -0.36415298]\n",
            " [ 2.45804864  1.60532337  0.59496685  1.6743607   0.57438273  1.00460539]\n",
            " [-0.64916416 -1.43588992 -0.68183529 -0.46287921 -0.15913226 -0.70634257]\n",
            " [-0.64916416 -0.82764726 -0.04343422 -0.46287921 -0.15913226 -0.70634257]\n",
            " [-0.64916416 -0.82764726 -0.68183529 -0.46287921 -0.89264725  0.3202262 ]] [[False]\n",
            " [False]\n",
            " [False]\n",
            " [False]\n",
            " [False]] [[False]\n",
            " [ True]\n",
            " [False]\n",
            " [False]\n",
            " [False]]\n"
          ]
        }
      ]
    },
    {
      "cell_type": "markdown",
      "source": [
        "#funcion sigmoide"
      ],
      "metadata": {
        "id": "wxOprQKvz8V0"
      }
    },
    {
      "cell_type": "code",
      "source": [
        "#  función sigmoidea es una función logística matemática, se usa comunmente en la función de activación en neuronas artificiales.\n",
        "def sigmoide(x): \n",
        "  return (1.0/(1.0+np.exp(-x))) # fórmula para la función sigmoidea \n",
        "def derivada(x): \n",
        "  return sigmoide(x)*(1.0-sigmoide(x)) #derivada de la funcion sigmoide"
      ],
      "metadata": {
        "id": "PBPrp9V7zsZ0"
      },
      "execution_count": 151,
      "outputs": []
    },
    {
      "cell_type": "code",
      "source": [
        "#Aqui se empieza a añadir neuronas en caso de q tu error es grande\n",
        "#En este caso se añade pesosCO4, tendenciasC04 (por si necesitas una neurona mas pero si necesitas mas neuronas incrementas el numero )\n",
        "def neurona(entrada, pesosCO1, tendenciasC01, pesosCO2, tendenciasCO2, pesosCO3, tendenciasCO3, pesosCO4, tendenciasC04, pesosCS, tendenciasCS):\n",
        "  \n",
        "  entradaNetaC1=np.dot(pesosCO1, np.transpose(entrada))-tendenciasC01\n",
        "  salidaC1=sigmoide(entradaNetaC1)\n",
        "\n",
        "  entradaNetaC2 = np.dot(pesosCO2,salidaC1)-tendenciasCO2\n",
        "  salidaC2=sigmoide(entradaNetaC2)\n",
        "\n",
        "  entradaNetaC3 = np.dot(pesosCO3,salidaC2)-tendenciasCO3\n",
        "  salidaC3=sigmoide(entradaNetaC3)\n",
        "\n",
        "  #de aqui para abajo copias lo mismo de arriba y reemplazas entradaNetaC3 a entradaNetaC4, lo mismo con pesosCO3, tendenciasCO3,  salidaC3 a C04\n",
        "  # (pesosCO3,salidaC2) AQUI! salidaC2 cambia a salidaC3... es tomar la salida de la anterior neurona\n",
        "  entradaNetaC4 = np.dot(pesosCO4,salidaC3)-tendenciasC04\n",
        "  salidaC4=sigmoide(entradaNetaC4)\n",
        "\n",
        "\n",
        "  entradaNetaCS = np.dot(pesosCS,salidaC4)-tendenciasCS  #aqui la salidaC3 lo cambias por la salida de la ultima neurona q has agregado \n",
        "  salida=sigmoide(entradaNetaCS) \n",
        "\n",
        "  return salida, entradaNetaCS, entradaNetaC4, entradaNetaC3, entradaNetaC2, entradaNetaC1   #aqui agregas otra entradaNetaCx   #x=neurona q agregastes\n",
        "# el algoritmo recibe\n",
        "# FacorAprendizaje: que tanto se permite el cambio en los pesos w(t) = e*error'f'(neta)*xj\n",
        "# error: un valor de error que permitimos\n",
        "# entradas: el conjunto de entradas que se van a trabajar \n",
        "# salidas: salidas esperadas\n",
        "# max-it: el numero de iteraciones que prmitimos\n",
        "# alpha: el valor de incremento del factor de aprendzaje\n",
        "# rho: El valor de decremento del factor de aprendizaje\n",
        "# neuronasC1: numero de neuronas en la capa oculta 1\n",
        "# neuronasC2: numero de neuronas en la capa oculta 2\n",
        "# neuronasC3: numero de neuronas en la capa oculta 3\n",
        "def backpropagation(entradas, salidas,factorAprendizaje, error, max_it, alpha, rho, neuronasC1, neuronasC2, neuronasC3, neuronasC4):#aqui agregas las neuronas vas agregar por ejem neuronaC4\n",
        "\n",
        "  # tiene 4 neuronas y como tres entradas tenemos una matriz de 4x3\n",
        "  pesosCO1=2*np.random.rand(neuronasC1,entradas.shape[1])-1\n",
        "  tendenciasC1=2*np.random.rand(neuronasC1)-1\n",
        "\n",
        "  # pesos capa oculta 2\n",
        "  # la capa oculta 2 tiene 2 neuronas y recive las salidas de 3 neuronas en la capa oculta 1\n",
        "  # genera una matriz de 2x3\n",
        "  pesosCO2=2*np.random.rand(neuronasC2,neuronasC1)-1\n",
        "  tendenciasC2=2*np.random.rand(neuronasC2)-1\n",
        "\n",
        "  # capa oculta 3\n",
        "  pesosCO3=2*np.random.rand(neuronasC3,neuronasC2)-1\n",
        "  tendenciasC3=2*np.random.rand(neuronasC3)-1\n",
        "\n",
        "  #AQUI abajo AGREGAS OTRA CAPA, copias el codigo q arriba y cambias pesosC03, tendeciasC3, neuronasC3 por C4 \n",
        "  # (neuronasC3,neuronasC2) aqui cambias neuronasC2 por C3 \n",
        "\n",
        "  #capa oculta 4 \n",
        "  pesosCO4=2*np.random.rand(neuronasC4,neuronasC3)-1\n",
        "  tendenciasC4=2*np.random.rand(neuronasC4)-1\n",
        "\n",
        "\n",
        "  # Generamos los pesos de la capa de salida, 1 salida (1 neurona) y tenemos 2 entradas que vienen de la capa oculta 2\n",
        "  pesosCS = 2*np.random.rand(neuronasC4)-1    #IMPORTANTE! aqui cambias neurnasC3 por la ULTIMA NEURONA q agregaste \n",
        "  tendenciasCS=2*np.random.rand(1)-1\n",
        "  it=0\n",
        "  errorVec=[]\n",
        "  errorAnt=float('inf')\n",
        "  while(it<max_it):\n",
        "    it+=1\n",
        "    errorIt=0\n",
        "    for i in range(0, entradas.shape[0]):\n",
        "      ent=entradas[i]\n",
        "      t=salidas[i]\n",
        "      y,entradaNetaCS, entradaNetaC4, entradaNetaC3, entradaNetaC2, entradaNetaC1=neurona(  #IMPORTANTEEE..  entradaNetaCx\n",
        "          ent, pesosCO1, tendenciasC1, pesosCO2, tendenciasC2,pesosCO3, tendenciasC3, pesosCO4, tendenciasC4, pesosCS, tendenciasCS #IMPORTANTEEE..  pesosCOx, tendenciasCx\n",
        "        )\n",
        "#CS =capas de salidas \n",
        "      errorIt+=np.power(t-y,2)/2.0\n",
        "\n",
        "    errorVec.append(errorIt)\n",
        "    for i in range(0, entradas.shape[0]):\n",
        "      ent=entradas[i]\n",
        "      t=salidas[i]\n",
        "      y, entradaNetaCS, entradaNetaC4, entradaNetaC3, entradaNetaC2, entradaNetaC1 = neurona(   #AQUI! agrega entradaNetaCx.. las q sigas aumentando\n",
        "          ent, pesosCO1, tendenciasC1, pesosCO2, tendenciasC2, pesosCO3, tendenciasC3,pesosCO4, tendenciasC4, pesosCS, tendenciasCS   #aqui agregas pesosCO4, tendenciasC4 .. las q sigas aumentando\n",
        "      )\n",
        "\n",
        "   \n",
        "\n",
        "      # calcular el error en la capa salida\n",
        "      errorCS=(t-y)*derivada(entradaNetaCS)\n",
        "\n",
        "\n",
        "      #AQUIIII.. agregas calcular la capa oculta 4 o las q agregues y copias el codigo de abajo\n",
        "      #en vez de errorC3, entradaNetaC3 pones C4 o las q vas agregando\n",
        "\n",
        "      #la ultima capa q aumentamos toma el lugar de la capa de salida \n",
        "\n",
        "      # calcular la capa oculta 4\n",
        "      errorC4=0\n",
        "      for j in range(0,pesosCS.shape[0]):\n",
        "        errorC4+=pesosCS[j]*errorCS*derivada(entradaNetaC4[j])\n",
        "\n",
        "      # calcular la capa oculta 3\n",
        "      errorC3=0\n",
        "      for j in range(0,pesosCO4.shape[0]):\n",
        "        for k in range(0, pesosCO4.shape[1]):\n",
        "          errorC3 += pesosCO4[j][k]*errorC4*derivada(entradaNetaC3[k])\n",
        "\n",
        "      #calcular el error capa oculta 2\n",
        "      errorC2=0\n",
        "      for j in range(0,pesosCO3.shape[0]):\n",
        "        for k in range(0, pesosCO3.shape[1]):\n",
        "          errorC2 += pesosCO3[j][k]*errorC3*derivada(entradaNetaC2[k])\n",
        "\n",
        "      #Calcular el error de la capa oculta 1\n",
        "      errorC1=0\n",
        "      for j in range(0, pesosCO2.shape[0]):\n",
        "        for k in range(0, pesosCO2.shape[1]):\n",
        "          errorC1 += pesosCO2[j][k]*errorC2*derivada(entradaNetaC1[k])\n",
        "\n",
        "      # actualiza pesos\n",
        "      # cada salida\n",
        "      for j in range(0, pesosCS.shape[0]):\n",
        "        pesosCS[j]+=factorAprendizaje*errorCS*entradaNetaCS\n",
        "\n",
        "      #Actualizar las tendencias\n",
        "      for j in range(0,tendenciasCS.shape[0]):\n",
        "        tendenciasCS[j]+=factorAprendizaje*errorCS*(-1)\n",
        "\n",
        "\n",
        "      #IMPORTANTEEEEEEEEEEEEEEEEEEEEEEEEE aumentar peso y actualizar\n",
        "\n",
        "      #pesos capa oculta 4\n",
        "      for j in range(0, pesosCO4.shape[0]): #neurona de CO4\n",
        "        for k in range(0, pesosCO4.shape[1]): #Salida de la CO3\n",
        "          pesosCO4[j][k]+=factorAprendizaje*errorC4*entradaNetaC4[j]\n",
        "      # \n",
        "      # actualizar las tendencias 4\n",
        "      for j in range(0, tendenciasC4.shape[0]):\n",
        "        tendenciasC4[j]+=factorAprendizaje*errorC4*(-1)\n",
        "\n",
        "      \n",
        "      #pesos capa oculta 3\n",
        "      for j in range(0, pesosCO3.shape[0]): #neurona de CO3\n",
        "        for k in range(0, pesosCO3.shape[1]): #Salida de la CO2\n",
        "          pesosCO3[j][k]+=factorAprendizaje*errorC3*entradaNetaC3[j]\n",
        "      # \n",
        "      # actualizar las tendencias 3\n",
        "      for j in range(0, tendenciasC3.shape[0]):\n",
        "        tendenciasC3[j]+=factorAprendizaje*errorC3*(-1)\n",
        "\n",
        "      #pesos capa oculta 2\n",
        "      for j in range(0, pesosCO2.shape[0]): #neurona de CO2\n",
        "        for k in range(0, pesosCO2.shape[1]): #Salida de la CO1\n",
        "          pesosCO2[j][k]+=factorAprendizaje*errorC2*entradaNetaC2[j]\n",
        "      # \n",
        "      # actualizar las tendencias 2\n",
        "      for j in range(0, tendenciasC2.shape[0]):\n",
        "        tendenciasC2[j]+=factorAprendizaje*errorC2*(-1)\n",
        "\n",
        "      # Pesos capa oculta 1\n",
        "      for j in range(0, pesosCO1.shape[0]):\n",
        "        for k in range(0, pesosCO1.shape[1]):\n",
        "          pesosCO1[j][k]+=factorAprendizaje*errorC1*entradaNetaC1[j]\n",
        "\n",
        "      #Actualizar las tendencias 1\n",
        "      for j in range(0,tendenciasC1.shape[0]):\n",
        "        tendenciasC1[j]+=factorAprendizaje*errorC1*(-1)\n",
        "\n",
        "    if errorIt < errorAnt:\n",
        "      factorAprendizaje*=alpha\n",
        "  else:\n",
        "    factorAprendizaje*=rho\n",
        "  errorAnt=errorIt\n",
        "  return pesosCS, pesosCO1, pesosCO2, pesosCO3, pesosCO4, tendenciasC1, tendenciasC2, tendenciasC3, tendenciasC4, tendenciasCS, errorVec"
      ],
      "metadata": {
        "id": "FyVO13IjzM01"
      },
      "execution_count": 152,
      "outputs": []
    }
  ]
}